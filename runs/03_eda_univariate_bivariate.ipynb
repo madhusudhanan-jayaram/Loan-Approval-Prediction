{
 "cells": [
  {
   "cell_type": "code",
   "execution_count": 1,
   "id": "d5ad1053",
   "metadata": {
    "execution": {
     "iopub.execute_input": "2025-09-26T04:02:47.675227Z",
     "iopub.status.busy": "2025-09-26T04:02:47.674418Z",
     "iopub.status.idle": "2025-09-26T04:02:47.699494Z",
     "shell.execute_reply": "2025-09-26T04:02:47.698514Z"
    },
    "papermill": {
     "duration": 0.035046,
     "end_time": "2025-09-26T04:02:47.702451",
     "exception": false,
     "start_time": "2025-09-26T04:02:47.667405",
     "status": "completed"
    },
    "tags": []
   },
   "outputs": [],
   "source": [
    "import sys, os\n",
    "import importlib"
   ]
  },
  {
   "cell_type": "code",
   "execution_count": 2,
   "id": "496e4a91",
   "metadata": {
    "execution": {
     "iopub.execute_input": "2025-09-26T04:02:47.712453Z",
     "iopub.status.busy": "2025-09-26T04:02:47.711454Z",
     "iopub.status.idle": "2025-09-26T04:02:47.731500Z",
     "shell.execute_reply": "2025-09-26T04:02:47.729484Z"
    },
    "papermill": {
     "duration": 0.02805,
     "end_time": "2025-09-26T04:02:47.734501",
     "exception": false,
     "start_time": "2025-09-26T04:02:47.706451",
     "status": "completed"
    },
    "tags": []
   },
   "outputs": [],
   "source": [
    "sys.path.append(os.path.abspath(\"..\"))"
   ]
  },
  {
   "cell_type": "code",
   "execution_count": 3,
   "id": "9b0354ff",
   "metadata": {
    "execution": {
     "iopub.execute_input": "2025-09-26T04:02:47.744049Z",
     "iopub.status.busy": "2025-09-26T04:02:47.743499Z",
     "iopub.status.idle": "2025-09-26T04:02:48.978700Z",
     "shell.execute_reply": "2025-09-26T04:02:48.977730Z"
    },
    "papermill": {
     "duration": 1.243143,
     "end_time": "2025-09-26T04:02:48.980675",
     "exception": false,
     "start_time": "2025-09-26T04:02:47.737532",
     "status": "completed"
    },
    "tags": []
   },
   "outputs": [],
   "source": [
    "import src.eda_univariate\n",
    "from src.artifacts import load_df, save_df\n",
    "importlib.reload(src.eda_univariate)\n",
    "from src.config import  ENCODED_PARQUET\n",
    "from src.eda_univariate import (\n",
    "    split_columns,\n",
    "    missing_values,\n",
    "    numeric_summary,\n",
    "    freq_table,\n",
    "    target_distribution,\n",
    ")\n"
   ]
  },
  {
   "cell_type": "code",
   "execution_count": 4,
   "id": "230d7109",
   "metadata": {
    "execution": {
     "iopub.execute_input": "2025-09-26T04:02:48.988710Z",
     "iopub.status.busy": "2025-09-26T04:02:48.988710Z",
     "iopub.status.idle": "2025-09-26T04:02:49.120503Z",
     "shell.execute_reply": "2025-09-26T04:02:49.119484Z"
    },
    "papermill": {
     "duration": 0.137835,
     "end_time": "2025-09-26T04:02:49.122502",
     "exception": false,
     "start_time": "2025-09-26T04:02:48.984667",
     "status": "completed"
    },
    "tags": []
   },
   "outputs": [
    {
     "name": "stdout",
     "output_type": "stream",
     "text": [
      "Encoded shape: (614, 15)\n"
     ]
    },
    {
     "data": {
      "text/html": [
       "<div>\n",
       "<style scoped>\n",
       "    .dataframe tbody tr th:only-of-type {\n",
       "        vertical-align: middle;\n",
       "    }\n",
       "\n",
       "    .dataframe tbody tr th {\n",
       "        vertical-align: top;\n",
       "    }\n",
       "\n",
       "    .dataframe thead th {\n",
       "        text-align: right;\n",
       "    }\n",
       "</style>\n",
       "<table border=\"1\" class=\"dataframe\">\n",
       "  <thead>\n",
       "    <tr style=\"text-align: right;\">\n",
       "      <th></th>\n",
       "      <th>ApplicantIncome</th>\n",
       "      <th>CoapplicantIncome</th>\n",
       "      <th>LoanAmount</th>\n",
       "      <th>Loan_Amount_Term</th>\n",
       "      <th>Credit_History</th>\n",
       "      <th>Gender_Male</th>\n",
       "      <th>Married_Yes</th>\n",
       "      <th>Dependents_1</th>\n",
       "      <th>Dependents_2</th>\n",
       "      <th>Dependents_3+</th>\n",
       "      <th>Education_Not Graduate</th>\n",
       "      <th>Self_Employed_Yes</th>\n",
       "      <th>Property_Area_Semiurban</th>\n",
       "      <th>Property_Area_Urban</th>\n",
       "      <th>Loan_Status</th>\n",
       "    </tr>\n",
       "  </thead>\n",
       "  <tbody>\n",
       "    <tr>\n",
       "      <th>0</th>\n",
       "      <td>5849</td>\n",
       "      <td>0.0</td>\n",
       "      <td>128.0</td>\n",
       "      <td>360.0</td>\n",
       "      <td>1.0</td>\n",
       "      <td>True</td>\n",
       "      <td>False</td>\n",
       "      <td>False</td>\n",
       "      <td>False</td>\n",
       "      <td>False</td>\n",
       "      <td>False</td>\n",
       "      <td>False</td>\n",
       "      <td>False</td>\n",
       "      <td>True</td>\n",
       "      <td>1</td>\n",
       "    </tr>\n",
       "    <tr>\n",
       "      <th>1</th>\n",
       "      <td>4583</td>\n",
       "      <td>1508.0</td>\n",
       "      <td>128.0</td>\n",
       "      <td>360.0</td>\n",
       "      <td>1.0</td>\n",
       "      <td>True</td>\n",
       "      <td>True</td>\n",
       "      <td>True</td>\n",
       "      <td>False</td>\n",
       "      <td>False</td>\n",
       "      <td>False</td>\n",
       "      <td>False</td>\n",
       "      <td>False</td>\n",
       "      <td>False</td>\n",
       "      <td>0</td>\n",
       "    </tr>\n",
       "    <tr>\n",
       "      <th>2</th>\n",
       "      <td>3000</td>\n",
       "      <td>0.0</td>\n",
       "      <td>66.0</td>\n",
       "      <td>360.0</td>\n",
       "      <td>1.0</td>\n",
       "      <td>True</td>\n",
       "      <td>True</td>\n",
       "      <td>False</td>\n",
       "      <td>False</td>\n",
       "      <td>False</td>\n",
       "      <td>False</td>\n",
       "      <td>True</td>\n",
       "      <td>False</td>\n",
       "      <td>True</td>\n",
       "      <td>1</td>\n",
       "    </tr>\n",
       "    <tr>\n",
       "      <th>3</th>\n",
       "      <td>2583</td>\n",
       "      <td>2358.0</td>\n",
       "      <td>120.0</td>\n",
       "      <td>360.0</td>\n",
       "      <td>1.0</td>\n",
       "      <td>True</td>\n",
       "      <td>True</td>\n",
       "      <td>False</td>\n",
       "      <td>False</td>\n",
       "      <td>False</td>\n",
       "      <td>True</td>\n",
       "      <td>False</td>\n",
       "      <td>False</td>\n",
       "      <td>True</td>\n",
       "      <td>1</td>\n",
       "    </tr>\n",
       "    <tr>\n",
       "      <th>4</th>\n",
       "      <td>6000</td>\n",
       "      <td>0.0</td>\n",
       "      <td>141.0</td>\n",
       "      <td>360.0</td>\n",
       "      <td>1.0</td>\n",
       "      <td>True</td>\n",
       "      <td>False</td>\n",
       "      <td>False</td>\n",
       "      <td>False</td>\n",
       "      <td>False</td>\n",
       "      <td>False</td>\n",
       "      <td>False</td>\n",
       "      <td>False</td>\n",
       "      <td>True</td>\n",
       "      <td>1</td>\n",
       "    </tr>\n",
       "  </tbody>\n",
       "</table>\n",
       "</div>"
      ],
      "text/plain": [
       "   ApplicantIncome  CoapplicantIncome  LoanAmount  Loan_Amount_Term  \\\n",
       "0             5849                0.0       128.0             360.0   \n",
       "1             4583             1508.0       128.0             360.0   \n",
       "2             3000                0.0        66.0             360.0   \n",
       "3             2583             2358.0       120.0             360.0   \n",
       "4             6000                0.0       141.0             360.0   \n",
       "\n",
       "   Credit_History  Gender_Male  Married_Yes  Dependents_1  Dependents_2  \\\n",
       "0             1.0         True        False         False         False   \n",
       "1             1.0         True         True          True         False   \n",
       "2             1.0         True         True         False         False   \n",
       "3             1.0         True         True         False         False   \n",
       "4             1.0         True        False         False         False   \n",
       "\n",
       "   Dependents_3+  Education_Not Graduate  Self_Employed_Yes  \\\n",
       "0          False                   False              False   \n",
       "1          False                   False              False   \n",
       "2          False                   False               True   \n",
       "3          False                    True              False   \n",
       "4          False                   False              False   \n",
       "\n",
       "   Property_Area_Semiurban  Property_Area_Urban  Loan_Status  \n",
       "0                    False                 True            1  \n",
       "1                    False                False            0  \n",
       "2                    False                 True            1  \n",
       "3                    False                 True            1  \n",
       "4                    False                 True            1  "
      ]
     },
     "execution_count": 4,
     "metadata": {},
     "output_type": "execute_result"
    }
   ],
   "source": [
    "df_enc = load_df(ENCODED_PARQUET)\n",
    "print(\"Encoded shape:\", df_enc.shape)\n",
    "df_enc.head()"
   ]
  },
  {
   "cell_type": "code",
   "execution_count": 5,
   "id": "d3173f0d",
   "metadata": {
    "execution": {
     "iopub.execute_input": "2025-09-26T04:02:49.131544Z",
     "iopub.status.busy": "2025-09-26T04:02:49.130511Z",
     "iopub.status.idle": "2025-09-26T04:02:49.154633Z",
     "shell.execute_reply": "2025-09-26T04:02:49.151637Z"
    },
    "papermill": {
     "duration": 0.031154,
     "end_time": "2025-09-26T04:02:49.156661",
     "exception": false,
     "start_time": "2025-09-26T04:02:49.125507",
     "status": "completed"
    },
    "tags": []
   },
   "outputs": [
    {
     "name": "stdout",
     "output_type": "stream",
     "text": [
      "Numeric columns: ['ApplicantIncome', 'CoapplicantIncome', 'LoanAmount', 'Loan_Amount_Term', 'Credit_History', 'Gender_Male', 'Married_Yes', 'Dependents_1', 'Dependents_2', 'Dependents_3+', 'Education_Not Graduate', 'Self_Employed_Yes', 'Property_Area_Semiurban', 'Property_Area_Urban', 'Loan_Status']\n",
      "Categorical columns: []\n"
     ]
    }
   ],
   "source": [
    "quan, qual = split_columns(df_enc)\n",
    "\n",
    "print(\"Numeric columns:\", quan)\n",
    "print(\"Categorical columns:\", qual)"
   ]
  },
  {
   "cell_type": "code",
   "execution_count": 6,
   "id": "983e32f7",
   "metadata": {
    "execution": {
     "iopub.execute_input": "2025-09-26T04:02:49.166665Z",
     "iopub.status.busy": "2025-09-26T04:02:49.166665Z",
     "iopub.status.idle": "2025-09-26T04:02:49.199811Z",
     "shell.execute_reply": "2025-09-26T04:02:49.198870Z"
    },
    "papermill": {
     "duration": 0.04121,
     "end_time": "2025-09-26T04:02:49.201847",
     "exception": false,
     "start_time": "2025-09-26T04:02:49.160637",
     "status": "completed"
    },
    "tags": []
   },
   "outputs": [
    {
     "name": "stdout",
     "output_type": "stream",
     "text": [
      "Numeric summary:\n"
     ]
    },
    {
     "data": {
      "text/html": [
       "<div>\n",
       "<style scoped>\n",
       "    .dataframe tbody tr th:only-of-type {\n",
       "        vertical-align: middle;\n",
       "    }\n",
       "\n",
       "    .dataframe tbody tr th {\n",
       "        vertical-align: top;\n",
       "    }\n",
       "\n",
       "    .dataframe thead th {\n",
       "        text-align: right;\n",
       "    }\n",
       "</style>\n",
       "<table border=\"1\" class=\"dataframe\">\n",
       "  <thead>\n",
       "    <tr style=\"text-align: right;\">\n",
       "      <th></th>\n",
       "      <th>count</th>\n",
       "      <th>mean</th>\n",
       "      <th>std</th>\n",
       "      <th>min</th>\n",
       "      <th>25%</th>\n",
       "      <th>50%</th>\n",
       "      <th>75%</th>\n",
       "      <th>max</th>\n",
       "    </tr>\n",
       "  </thead>\n",
       "  <tbody>\n",
       "    <tr>\n",
       "      <th>ApplicantIncome</th>\n",
       "      <td>614.0</td>\n",
       "      <td>5403.459283</td>\n",
       "      <td>6109.041673</td>\n",
       "      <td>150.0</td>\n",
       "      <td>2877.50</td>\n",
       "      <td>3812.5</td>\n",
       "      <td>5795.00</td>\n",
       "      <td>81000.0</td>\n",
       "    </tr>\n",
       "    <tr>\n",
       "      <th>CoapplicantIncome</th>\n",
       "      <td>614.0</td>\n",
       "      <td>1621.245798</td>\n",
       "      <td>2926.248369</td>\n",
       "      <td>0.0</td>\n",
       "      <td>0.00</td>\n",
       "      <td>1188.5</td>\n",
       "      <td>2297.25</td>\n",
       "      <td>41667.0</td>\n",
       "    </tr>\n",
       "    <tr>\n",
       "      <th>LoanAmount</th>\n",
       "      <td>614.0</td>\n",
       "      <td>145.752443</td>\n",
       "      <td>84.107233</td>\n",
       "      <td>9.0</td>\n",
       "      <td>100.25</td>\n",
       "      <td>128.0</td>\n",
       "      <td>164.75</td>\n",
       "      <td>700.0</td>\n",
       "    </tr>\n",
       "    <tr>\n",
       "      <th>Loan_Amount_Term</th>\n",
       "      <td>614.0</td>\n",
       "      <td>342.410423</td>\n",
       "      <td>64.428629</td>\n",
       "      <td>12.0</td>\n",
       "      <td>360.00</td>\n",
       "      <td>360.0</td>\n",
       "      <td>360.00</td>\n",
       "      <td>480.0</td>\n",
       "    </tr>\n",
       "    <tr>\n",
       "      <th>Credit_History</th>\n",
       "      <td>614.0</td>\n",
       "      <td>0.855049</td>\n",
       "      <td>0.352339</td>\n",
       "      <td>0.0</td>\n",
       "      <td>1.00</td>\n",
       "      <td>1.0</td>\n",
       "      <td>1.00</td>\n",
       "      <td>1.0</td>\n",
       "    </tr>\n",
       "    <tr>\n",
       "      <th>Loan_Status</th>\n",
       "      <td>614.0</td>\n",
       "      <td>0.687296</td>\n",
       "      <td>0.463973</td>\n",
       "      <td>0.0</td>\n",
       "      <td>0.00</td>\n",
       "      <td>1.0</td>\n",
       "      <td>1.00</td>\n",
       "      <td>1.0</td>\n",
       "    </tr>\n",
       "  </tbody>\n",
       "</table>\n",
       "</div>"
      ],
      "text/plain": [
       "                   count         mean          std    min      25%     50%  \\\n",
       "ApplicantIncome    614.0  5403.459283  6109.041673  150.0  2877.50  3812.5   \n",
       "CoapplicantIncome  614.0  1621.245798  2926.248369    0.0     0.00  1188.5   \n",
       "LoanAmount         614.0   145.752443    84.107233    9.0   100.25   128.0   \n",
       "Loan_Amount_Term   614.0   342.410423    64.428629   12.0   360.00   360.0   \n",
       "Credit_History     614.0     0.855049     0.352339    0.0     1.00     1.0   \n",
       "Loan_Status        614.0     0.687296     0.463973    0.0     0.00     1.0   \n",
       "\n",
       "                       75%      max  \n",
       "ApplicantIncome    5795.00  81000.0  \n",
       "CoapplicantIncome  2297.25  41667.0  \n",
       "LoanAmount          164.75    700.0  \n",
       "Loan_Amount_Term    360.00    480.0  \n",
       "Credit_History        1.00      1.0  \n",
       "Loan_Status           1.00      1.0  "
      ]
     },
     "metadata": {},
     "output_type": "display_data"
    }
   ],
   "source": [
    "if quan:\n",
    "    print(\"Numeric summary:\")\n",
    "    display(numeric_summary(df_enc, quan))"
   ]
  },
  {
   "cell_type": "code",
   "execution_count": 7,
   "id": "104bc672",
   "metadata": {
    "execution": {
     "iopub.execute_input": "2025-09-26T04:02:49.211397Z",
     "iopub.status.busy": "2025-09-26T04:02:49.210391Z",
     "iopub.status.idle": "2025-09-26T04:02:49.230702Z",
     "shell.execute_reply": "2025-09-26T04:02:49.229699Z"
    },
    "papermill": {
     "duration": 0.026288,
     "end_time": "2025-09-26T04:02:49.231701",
     "exception": false,
     "start_time": "2025-09-26T04:02:49.205413",
     "status": "completed"
    },
    "tags": []
   },
   "outputs": [],
   "source": [
    "if qual:\n",
    "    col = qual[0]\n",
    "    print(f\"Frequency table for {col}:\")\n",
    "    display(freq_table(df_enc, col))"
   ]
  },
  {
   "cell_type": "code",
   "execution_count": 8,
   "id": "3d90608c",
   "metadata": {
    "execution": {
     "iopub.execute_input": "2025-09-26T04:02:49.242853Z",
     "iopub.status.busy": "2025-09-26T04:02:49.241894Z",
     "iopub.status.idle": "2025-09-26T04:02:49.262458Z",
     "shell.execute_reply": "2025-09-26T04:02:49.261454Z"
    },
    "papermill": {
     "duration": 0.027613,
     "end_time": "2025-09-26T04:02:49.264458",
     "exception": false,
     "start_time": "2025-09-26T04:02:49.236845",
     "status": "completed"
    },
    "tags": []
   },
   "outputs": [
    {
     "name": "stdout",
     "output_type": "stream",
     "text": [
      "Target distribution:\n"
     ]
    },
    {
     "data": {
      "text/html": [
       "<div>\n",
       "<style scoped>\n",
       "    .dataframe tbody tr th:only-of-type {\n",
       "        vertical-align: middle;\n",
       "    }\n",
       "\n",
       "    .dataframe tbody tr th {\n",
       "        vertical-align: top;\n",
       "    }\n",
       "\n",
       "    .dataframe thead th {\n",
       "        text-align: right;\n",
       "    }\n",
       "</style>\n",
       "<table border=\"1\" class=\"dataframe\">\n",
       "  <thead>\n",
       "    <tr style=\"text-align: right;\">\n",
       "      <th></th>\n",
       "      <th>Target_Dist</th>\n",
       "    </tr>\n",
       "    <tr>\n",
       "      <th>Loan_Status</th>\n",
       "      <th></th>\n",
       "    </tr>\n",
       "  </thead>\n",
       "  <tbody>\n",
       "    <tr>\n",
       "      <th>1</th>\n",
       "      <td>0.687296</td>\n",
       "    </tr>\n",
       "    <tr>\n",
       "      <th>0</th>\n",
       "      <td>0.312704</td>\n",
       "    </tr>\n",
       "  </tbody>\n",
       "</table>\n",
       "</div>"
      ],
      "text/plain": [
       "             Target_Dist\n",
       "Loan_Status             \n",
       "1               0.687296\n",
       "0               0.312704"
      ]
     },
     "metadata": {},
     "output_type": "display_data"
    }
   ],
   "source": [
    "print(\"Target distribution:\")\n",
    "display(target_distribution(df_enc, \"Loan_Status\"))"
   ]
  }
 ],
 "metadata": {
  "kernelspec": {
   "display_name": "aiml",
   "language": "python",
   "name": "python3"
  },
  "language_info": {
   "codemirror_mode": {
    "name": "ipython",
    "version": 3
   },
   "file_extension": ".py",
   "mimetype": "text/x-python",
   "name": "python",
   "nbconvert_exporter": "python",
   "pygments_lexer": "ipython3",
   "version": "3.10.18"
  },
  "papermill": {
   "default_parameters": {},
   "duration": 4.384246,
   "end_time": "2025-09-26T04:02:49.606665",
   "environment_variables": {},
   "exception": null,
   "input_path": "notebooks/03_eda_univariate_bivariate.ipynb",
   "output_path": "runs/03_eda_univariate_bivariate.ipynb",
   "parameters": {},
   "start_time": "2025-09-26T04:02:45.222419",
   "version": "2.6.0"
  }
 },
 "nbformat": 4,
 "nbformat_minor": 5
}