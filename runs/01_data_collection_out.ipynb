{
 "cells": [
  {
   "cell_type": "markdown",
   "id": "8f78d6b3",
   "metadata": {
    "tags": [
     "papermill-error-cell-tag"
    ]
   },
   "source": [
    "<span style=\"color:red; font-family:Helvetica Neue, Helvetica, Arial, sans-serif; font-size:2em;\">An Exception was encountered at '<a href=\"#papermill-error-cell\">In [2]</a>'.</span>"
   ]
  },
  {
   "cell_type": "code",
   "execution_count": 1,
   "id": "6bd618ae",
   "metadata": {
    "execution": {
     "iopub.execute_input": "2025-09-24T11:14:15.625754Z",
     "iopub.status.busy": "2025-09-24T11:14:15.625754Z",
     "iopub.status.idle": "2025-09-24T11:14:16.569813Z",
     "shell.execute_reply": "2025-09-24T11:14:16.569005Z"
    },
    "papermill": {
     "duration": 0.951303,
     "end_time": "2025-09-24T11:14:16.572131",
     "exception": false,
     "start_time": "2025-09-24T11:14:15.620828",
     "status": "completed"
    },
    "tags": []
   },
   "outputs": [],
   "source": [
    "from pathlib import Path\n",
    "import sys\n",
    "import pandas as pd  # keep handy for typed operations"
   ]
  },
  {
   "cell_type": "markdown",
   "id": "adcde5b1",
   "metadata": {
    "tags": [
     "papermill-error-cell-tag"
    ]
   },
   "source": [
    "<span id=\"papermill-error-cell\" style=\"color:red; font-family:Helvetica Neue, Helvetica, Arial, sans-serif; font-size:2em;\">Execution using papermill encountered an exception here and stopped:</span>"
   ]
  },
  {
   "cell_type": "code",
   "execution_count": 2,
   "id": "107ab55f",
   "metadata": {
    "execution": {
     "iopub.execute_input": "2025-09-24T11:14:16.579946Z",
     "iopub.status.busy": "2025-09-24T11:14:16.579946Z",
     "iopub.status.idle": "2025-09-24T11:14:18.025830Z",
     "shell.execute_reply": "2025-09-24T11:14:18.024860Z"
    },
    "papermill": {
     "duration": 1.451916,
     "end_time": "2025-09-24T11:14:18.027863",
     "exception": true,
     "start_time": "2025-09-24T11:14:16.575947",
     "status": "failed"
    },
    "tags": []
   },
   "outputs": [
    {
     "ename": "ModuleNotFoundError",
     "evalue": "No module named 'data_collection'",
     "output_type": "error",
     "traceback": [
      "\u001b[1;31m---------------------------------------------------------------------------\u001b[0m",
      "\u001b[1;31mModuleNotFoundError\u001b[0m                       Traceback (most recent call last)",
      "Cell \u001b[1;32mIn[2], line 7\u001b[0m\n\u001b[0;32m      4\u001b[0m \u001b[38;5;28;01mif\u001b[39;00m \u001b[38;5;28mstr\u001b[39m(SRC_DIR) \u001b[38;5;129;01mnot\u001b[39;00m \u001b[38;5;129;01min\u001b[39;00m sys\u001b[38;5;241m.\u001b[39mpath:\n\u001b[0;32m      5\u001b[0m     sys\u001b[38;5;241m.\u001b[39mpath\u001b[38;5;241m.\u001b[39minsert(\u001b[38;5;241m0\u001b[39m, \u001b[38;5;28mstr\u001b[39m(SRC_DIR))\n\u001b[1;32m----> 7\u001b[0m \u001b[38;5;28;01mfrom\u001b[39;00m\u001b[38;5;250m \u001b[39m\u001b[38;5;21;01mdata_collection\u001b[39;00m\u001b[38;5;250m \u001b[39m\u001b[38;5;28;01mimport\u001b[39;00m run_data_collection_step\n",
      "\u001b[1;31mModuleNotFoundError\u001b[0m: No module named 'data_collection'"
     ]
    }
   ],
   "source": [
    "PROJECT_ROOT = Path.cwd().parent\n",
    "SRC_DIR = PROJECT_ROOT / \"src\"\n",
    "\n",
    "if str(SRC_DIR) not in sys.path:\n",
    "    sys.path.insert(0, str(SRC_DIR))\n",
    "\n",
    "from data_collection import run_data_collection_step\n"
   ]
  },
  {
   "cell_type": "code",
   "execution_count": null,
   "id": "cfd0968d",
   "metadata": {
    "papermill": {
     "duration": null,
     "end_time": null,
     "exception": null,
     "start_time": null,
     "status": "pending"
    },
    "tags": []
   },
   "outputs": [],
   "source": [
    "raw_data_path = \"../data/raw/loan_data_set.csv\""
   ]
  },
  {
   "cell_type": "code",
   "execution_count": null,
   "id": "674e7168",
   "metadata": {
    "papermill": {
     "duration": null,
     "end_time": null,
     "exception": null,
     "start_time": null,
     "status": "pending"
    },
    "tags": []
   },
   "outputs": [],
   "source": [
    "data_path = Path(raw_data_path).resolve()\n",
    "print(f\"Loading dataset from: {data_path}\")\n",
    "df = run_data_collection_step(str(data_path), n=5)\n",
    "if df is None:\n",
    "    raise ValueError(\"Data failed to load; check the path or file contents.\")\n"
   ]
  },
  {
   "cell_type": "code",
   "execution_count": null,
   "id": "1b5dec10",
   "metadata": {
    "papermill": {
     "duration": null,
     "end_time": null,
     "exception": null,
     "start_time": null,
     "status": "pending"
    },
    "tags": []
   },
   "outputs": [],
   "source": [
    "print(\"\\nDataFrame info:\")\n",
    "print(df.info())"
   ]
  },
  {
   "cell_type": "code",
   "execution_count": null,
   "id": "71158743",
   "metadata": {
    "papermill": {
     "duration": null,
     "end_time": null,
     "exception": null,
     "start_time": null,
     "status": "pending"
    },
    "tags": []
   },
   "outputs": [],
   "source": [
    "print(\"\\nMissing values per column:\")\n",
    "print(df.isna().sum())"
   ]
  },
  {
   "cell_type": "code",
   "execution_count": null,
   "id": "062609fb",
   "metadata": {
    "papermill": {
     "duration": null,
     "end_time": null,
     "exception": null,
     "start_time": null,
     "status": "pending"
    },
    "tags": []
   },
   "outputs": [],
   "source": [
    "from data_collection import drop_missing_values\n"
   ]
  },
  {
   "cell_type": "code",
   "execution_count": null,
   "id": "4e518c75",
   "metadata": {
    "papermill": {
     "duration": null,
     "end_time": null,
     "exception": null,
     "start_time": null,
     "status": "pending"
    },
    "tags": []
   },
   "outputs": [],
   "source": [
    "if df is None:\n",
    "    raise ValueError(\"Data failed to load. Check the path and file contents.\")\n",
    "\n",
    "clean_df = drop_missing_values(df)\n",
    "print(f\"Final shape after removing missing values: {clean_df.shape}\")"
   ]
  },
  {
   "cell_type": "code",
   "execution_count": null,
   "id": "1a994633",
   "metadata": {
    "papermill": {
     "duration": null,
     "end_time": null,
     "exception": null,
     "start_time": null,
     "status": "pending"
    },
    "tags": []
   },
   "outputs": [],
   "source": [
    "print(\"Missing values per column after cleaning:\")\n",
    "print(clean_df.isna().sum())"
   ]
  },
  {
   "cell_type": "code",
   "execution_count": null,
   "id": "3ec98a38",
   "metadata": {
    "papermill": {
     "duration": null,
     "end_time": null,
     "exception": null,
     "start_time": null,
     "status": "pending"
    },
    "tags": []
   },
   "outputs": [],
   "source": [
    "from data_collection import select_features_all\n",
    "X, y = select_features(clean_df, target_column=\"Loan_Status\", use_numeric_only=True)\n",
    "\n",
    "feature_sets = select_features_all(X, y, k=10)\n",
    "for method, cols in feature_sets.items():\n",
    "    print(f\"{method}: {cols}\")"
   ]
  }
 ],
 "metadata": {
  "language_info": {
   "codemirror_mode": {
    "name": "ipython",
    "version": 3
   },
   "file_extension": ".py",
   "mimetype": "text/x-python",
   "name": "python",
   "nbconvert_exporter": "python",
   "pygments_lexer": "ipython3",
   "version": "3.10.18"
  },
  "papermill": {
   "default_parameters": {},
   "duration": 6.652915,
   "end_time": "2025-09-24T11:14:18.498210",
   "environment_variables": {},
   "exception": true,
   "input_path": "notebooks/01_data_collection.ipynb",
   "output_path": "runs/01_data_collection_out.ipynb",
   "parameters": {},
   "start_time": "2025-09-24T11:14:11.845295",
   "version": "2.6.0"
  }
 },
 "nbformat": 4,
 "nbformat_minor": 5
}