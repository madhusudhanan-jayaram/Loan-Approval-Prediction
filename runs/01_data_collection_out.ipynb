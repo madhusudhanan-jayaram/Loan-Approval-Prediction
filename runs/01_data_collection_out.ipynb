{
 "cells": [
  {
   "cell_type": "code",
   "execution_count": 1,
   "id": "47facf7c",
   "metadata": {
    "execution": {
     "iopub.execute_input": "2025-09-28T18:38:34.747544Z",
     "iopub.status.busy": "2025-09-28T18:38:34.747544Z",
     "iopub.status.idle": "2025-09-28T18:38:34.774009Z",
     "shell.execute_reply": "2025-09-28T18:38:34.773013Z"
    },
    "papermill": {
     "duration": 0.034507,
     "end_time": "2025-09-28T18:38:34.776016",
     "exception": false,
     "start_time": "2025-09-28T18:38:34.741509",
     "status": "completed"
    },
    "tags": []
   },
   "outputs": [],
   "source": [
    "import sys\n",
    "import os\n"
   ]
  },
  {
   "cell_type": "code",
   "execution_count": 2,
   "id": "15e1445e",
   "metadata": {
    "execution": {
     "iopub.execute_input": "2025-09-28T18:38:34.794011Z",
     "iopub.status.busy": "2025-09-28T18:38:34.793012Z",
     "iopub.status.idle": "2025-09-28T18:38:34.807009Z",
     "shell.execute_reply": "2025-09-28T18:38:34.805020Z"
    },
    "papermill": {
     "duration": 0.027002,
     "end_time": "2025-09-28T18:38:34.810017",
     "exception": false,
     "start_time": "2025-09-28T18:38:34.783015",
     "status": "completed"
    },
    "tags": []
   },
   "outputs": [],
   "source": [
    "sys.path.append(os.path.abspath(os.path.join(os.getcwd(), '..')))"
   ]
  },
  {
   "cell_type": "code",
   "execution_count": 3,
   "id": "c8a756f5",
   "metadata": {
    "execution": {
     "iopub.execute_input": "2025-09-28T18:38:34.823011Z",
     "iopub.status.busy": "2025-09-28T18:38:34.823011Z",
     "iopub.status.idle": "2025-09-28T18:38:36.467604Z",
     "shell.execute_reply": "2025-09-28T18:38:36.466586Z"
    },
    "papermill": {
     "duration": 1.6536,
     "end_time": "2025-09-28T18:38:36.470608",
     "exception": false,
     "start_time": "2025-09-28T18:38:34.817008",
     "status": "completed"
    },
    "tags": []
   },
   "outputs": [],
   "source": [
    "from src.data_collection import load_data, preview_data\n",
    "from src.artifacts import save_df\n",
    "from src.config import CSV_PATH, RAW_PARQUET"
   ]
  },
  {
   "cell_type": "code",
   "execution_count": 4,
   "id": "93e3cb03",
   "metadata": {
    "execution": {
     "iopub.execute_input": "2025-09-28T18:38:36.482607Z",
     "iopub.status.busy": "2025-09-28T18:38:36.480604Z",
     "iopub.status.idle": "2025-09-28T18:38:36.578601Z",
     "shell.execute_reply": "2025-09-28T18:38:36.577607Z"
    },
    "papermill": {
     "duration": 0.107001,
     "end_time": "2025-09-28T18:38:36.582605",
     "exception": false,
     "start_time": "2025-09-28T18:38:36.475604",
     "status": "completed"
    },
    "tags": []
   },
   "outputs": [
    {
     "name": "stdout",
     "output_type": "stream",
     "text": [
      "Loaded data: (614, 13)\n",
      "    Loan_ID Gender Married Dependents     Education Self_Employed  \\\n",
      "0  LP001002   Male      No          0      Graduate            No   \n",
      "1  LP001003   Male     Yes          1      Graduate            No   \n",
      "2  LP001005   Male     Yes          0      Graduate           Yes   \n",
      "3  LP001006   Male     Yes          0  Not Graduate            No   \n",
      "4  LP001008   Male      No          0      Graduate            No   \n",
      "\n",
      "   ApplicantIncome  CoapplicantIncome  LoanAmount  Loan_Amount_Term  \\\n",
      "0             5849                0.0         NaN             360.0   \n",
      "1             4583             1508.0       128.0             360.0   \n",
      "2             3000                0.0        66.0             360.0   \n",
      "3             2583             2358.0       120.0             360.0   \n",
      "4             6000                0.0       141.0             360.0   \n",
      "\n",
      "   Credit_History Property_Area Loan_Status  \n",
      "0             1.0         Urban           Y  \n",
      "1             1.0         Rural           N  \n",
      "2             1.0         Urban           Y  \n",
      "3             1.0         Urban           Y  \n",
      "4             1.0         Urban           Y  \n",
      "✅ Saved raw data to: C:\\Users\\mukil\\Downloads\\Loan Approval Prediction\\Loan-Approval-Prediction\\artifacts\\01_raw.parquet\n"
     ]
    }
   ],
   "source": [
    "df = load_data(CSV_PATH)\n",
    "preview_data(df, n=5)\n",
    "save_df(df, RAW_PARQUET)\n",
    "print(f\"✅ Saved raw data to: {RAW_PARQUET}\")"
   ]
  },
  {
   "cell_type": "code",
   "execution_count": 5,
   "id": "be62a780",
   "metadata": {
    "execution": {
     "iopub.execute_input": "2025-09-28T18:38:36.597605Z",
     "iopub.status.busy": "2025-09-28T18:38:36.596602Z",
     "iopub.status.idle": "2025-09-28T18:38:36.625602Z",
     "shell.execute_reply": "2025-09-28T18:38:36.623603Z"
    },
    "papermill": {
     "duration": 0.038002,
     "end_time": "2025-09-28T18:38:36.628612",
     "exception": false,
     "start_time": "2025-09-28T18:38:36.590610",
     "status": "completed"
    },
    "tags": []
   },
   "outputs": [
    {
     "name": "stdout",
     "output_type": "stream",
     "text": [
      "<class 'pandas.core.frame.DataFrame'>\n",
      "RangeIndex: 614 entries, 0 to 613\n",
      "Data columns (total 13 columns):\n",
      " #   Column             Non-Null Count  Dtype  \n",
      "---  ------             --------------  -----  \n",
      " 0   Loan_ID            614 non-null    object \n",
      " 1   Gender             601 non-null    object \n",
      " 2   Married            611 non-null    object \n",
      " 3   Dependents         599 non-null    object \n",
      " 4   Education          614 non-null    object \n",
      " 5   Self_Employed      582 non-null    object \n",
      " 6   ApplicantIncome    614 non-null    int64  \n",
      " 7   CoapplicantIncome  614 non-null    float64\n",
      " 8   LoanAmount         592 non-null    float64\n",
      " 9   Loan_Amount_Term   600 non-null    float64\n",
      " 10  Credit_History     564 non-null    float64\n",
      " 11  Property_Area      614 non-null    object \n",
      " 12  Loan_Status        614 non-null    object \n",
      "dtypes: float64(4), int64(1), object(8)\n",
      "memory usage: 62.5+ KB\n"
     ]
    }
   ],
   "source": [
    "df.info()"
   ]
  }
 ],
 "metadata": {
  "kernelspec": {
   "display_name": "aiml",
   "language": "python",
   "name": "python3"
  },
  "language_info": {
   "codemirror_mode": {
    "name": "ipython",
    "version": 3
   },
   "file_extension": ".py",
   "mimetype": "text/x-python",
   "name": "python",
   "nbconvert_exporter": "python",
   "pygments_lexer": "ipython3",
   "version": "3.10.18"
  },
  "papermill": {
   "default_parameters": {},
   "duration": 7.895739,
   "end_time": "2025-09-28T18:38:37.083412",
   "environment_variables": {},
   "exception": null,
   "input_path": "notebooks/01_data_collection.ipynb",
   "output_path": "runs/01_data_collection_out.ipynb",
   "parameters": {},
   "start_time": "2025-09-28T18:38:29.187673",
   "version": "2.6.0"
  }
 },
 "nbformat": 4,
 "nbformat_minor": 5
}