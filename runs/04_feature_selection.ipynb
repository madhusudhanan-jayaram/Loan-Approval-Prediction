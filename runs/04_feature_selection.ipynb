{
 "cells": [
  {
   "cell_type": "code",
   "execution_count": 1,
   "id": "77f41cb2",
   "metadata": {
    "execution": {
     "iopub.execute_input": "2025-09-28T22:24:54.698963Z",
     "iopub.status.busy": "2025-09-28T22:24:54.698963Z",
     "iopub.status.idle": "2025-09-28T22:24:58.431895Z",
     "shell.execute_reply": "2025-09-28T22:24:58.429892Z"
    },
    "papermill": {
     "duration": 3.741993,
     "end_time": "2025-09-28T22:24:58.434423",
     "exception": false,
     "start_time": "2025-09-28T22:24:54.692430",
     "status": "completed"
    },
    "tags": []
   },
   "outputs": [],
   "source": [
    "import sys, os\n",
    "import importlib\n",
    "import pandas as pd\n",
    "from sklearn.feature_selection import SelectKBest, chi2\n",
    "from sklearn.preprocessing import MinMaxScaler\n"
   ]
  },
  {
   "cell_type": "code",
   "execution_count": 2,
   "id": "12dfb0d4",
   "metadata": {
    "execution": {
     "iopub.execute_input": "2025-09-28T22:24:58.445336Z",
     "iopub.status.busy": "2025-09-28T22:24:58.444338Z",
     "iopub.status.idle": "2025-09-28T22:24:58.461975Z",
     "shell.execute_reply": "2025-09-28T22:24:58.460967Z"
    },
    "papermill": {
     "duration": 0.026724,
     "end_time": "2025-09-28T22:24:58.465521",
     "exception": false,
     "start_time": "2025-09-28T22:24:58.438797",
     "status": "completed"
    },
    "tags": []
   },
   "outputs": [],
   "source": [
    "sys.path.append(os.path.abspath(\"..\"))"
   ]
  },
  {
   "cell_type": "code",
   "execution_count": 3,
   "id": "3f0fc892",
   "metadata": {
    "execution": {
     "iopub.execute_input": "2025-09-28T22:24:58.476557Z",
     "iopub.status.busy": "2025-09-28T22:24:58.475557Z",
     "iopub.status.idle": "2025-09-28T22:24:58.493150Z",
     "shell.execute_reply": "2025-09-28T22:24:58.492146Z"
    },
    "papermill": {
     "duration": 0.027131,
     "end_time": "2025-09-28T22:24:58.496159",
     "exception": false,
     "start_time": "2025-09-28T22:24:58.469028",
     "status": "completed"
    },
    "tags": []
   },
   "outputs": [],
   "source": [
    "from src.config import  CLEAN_PARQUET, X_TRAIN_PARQUET, X_TEST_PARQUET, Y_TRAIN_PARQUET, Y_TEST_PARQUET\n",
    "from src.artifacts import load_df, load_obj"
   ]
  },
  {
   "cell_type": "code",
   "execution_count": 4,
   "id": "7ded08ec",
   "metadata": {
    "execution": {
     "iopub.execute_input": "2025-09-28T22:24:58.506215Z",
     "iopub.status.busy": "2025-09-28T22:24:58.505214Z",
     "iopub.status.idle": "2025-09-28T22:24:59.974846Z",
     "shell.execute_reply": "2025-09-28T22:24:59.973853Z"
    },
    "papermill": {
     "duration": 1.476111,
     "end_time": "2025-09-28T22:24:59.975801",
     "exception": false,
     "start_time": "2025-09-28T22:24:58.499690",
     "status": "completed"
    },
    "tags": []
   },
   "outputs": [],
   "source": [
    "import src.feature_selection\n",
    "importlib.reload(src.feature_selection)\n",
    "from src.feature_selection import (\n",
    "    selectkbest,prepare_from_df\n",
    ")\n"
   ]
  },
  {
   "cell_type": "code",
   "execution_count": 5,
   "id": "f5c1cf48",
   "metadata": {
    "execution": {
     "iopub.execute_input": "2025-09-28T22:24:59.985337Z",
     "iopub.status.busy": "2025-09-28T22:24:59.985337Z",
     "iopub.status.idle": "2025-09-28T22:25:00.163631Z",
     "shell.execute_reply": "2025-09-28T22:25:00.162117Z"
    },
    "papermill": {
     "duration": 0.184264,
     "end_time": "2025-09-28T22:25:00.165648",
     "exception": false,
     "start_time": "2025-09-28T22:24:59.981384",
     "status": "completed"
    },
    "tags": []
   },
   "outputs": [],
   "source": [
    "df = load_df(CLEAN_PARQUET)"
   ]
  },
  {
   "cell_type": "code",
   "execution_count": 6,
   "id": "c4688394",
   "metadata": {
    "execution": {
     "iopub.execute_input": "2025-09-28T22:25:00.181762Z",
     "iopub.status.busy": "2025-09-28T22:25:00.180761Z",
     "iopub.status.idle": "2025-09-28T22:25:00.194378Z",
     "shell.execute_reply": "2025-09-28T22:25:00.193357Z"
    },
    "papermill": {
     "duration": 0.024694,
     "end_time": "2025-09-28T22:25:00.197891",
     "exception": false,
     "start_time": "2025-09-28T22:25:00.173197",
     "status": "completed"
    },
    "tags": []
   },
   "outputs": [
    {
     "name": "stdout",
     "output_type": "stream",
     "text": [
      "After dummies: (614, 13)\n",
      "New columns: ['Dependents', 'ApplicantIncome', 'CoapplicantIncome', 'LoanAmount', 'Loan_Amount_Term', 'Credit_History', 'Gender_Male', 'Married_Yes', 'Education_Not Graduate', 'Self_Employed_Yes', 'Property_Area_Semiurban', 'Property_Area_Urban', 'Loan_Status_Y']\n"
     ]
    }
   ],
   "source": [
    "print(\"After dummies:\", df.shape)\n",
    "print(\"New columns:\", df.columns.tolist())"
   ]
  },
  {
   "cell_type": "code",
   "execution_count": 7,
   "id": "de3c73bf",
   "metadata": {
    "execution": {
     "iopub.execute_input": "2025-09-28T22:25:00.213529Z",
     "iopub.status.busy": "2025-09-28T22:25:00.212003Z",
     "iopub.status.idle": "2025-09-28T22:25:00.225617Z",
     "shell.execute_reply": "2025-09-28T22:25:00.224617Z"
    },
    "papermill": {
     "duration": 0.025247,
     "end_time": "2025-09-28T22:25:00.229704",
     "exception": false,
     "start_time": "2025-09-28T22:25:00.204457",
     "status": "completed"
    },
    "tags": []
   },
   "outputs": [],
   "source": [
    "indep_X = df.drop('Loan_Status_Y', axis=1)\n",
    "dep_Y = df['Loan_Status_Y']"
   ]
  },
  {
   "cell_type": "code",
   "execution_count": 8,
   "id": "8f38fb9d",
   "metadata": {
    "execution": {
     "iopub.execute_input": "2025-09-28T22:25:00.248860Z",
     "iopub.status.busy": "2025-09-28T22:25:00.247845Z",
     "iopub.status.idle": "2025-09-28T22:25:00.356190Z",
     "shell.execute_reply": "2025-09-28T22:25:00.350166Z"
    },
    "papermill": {
     "duration": 0.120968,
     "end_time": "2025-09-28T22:25:00.358723",
     "exception": false,
     "start_time": "2025-09-28T22:25:00.237755",
     "status": "completed"
    },
    "tags": []
   },
   "outputs": [
    {
     "name": "stdout",
     "output_type": "stream",
     "text": [
      "                   Feature     Method       Score             P\n",
      "0           Credit_History  f_classif  252.652090  7.019682e-48\n",
      "1  Property_Area_Semiurban       chi2    7.103093  7.695104e-03\n",
      "2   Education_Not Graduate       chi2    3.540502  5.988732e-02\n",
      "3        CoapplicantIncome  f_classif    2.151457  1.429483e-01\n",
      "4              Married_Yes       chi2    1.782425  1.818518e-01\n"
     ]
    }
   ],
   "source": [
    "X_new, selected_cols, full_table = selectkbest(indep_X, dep_Y, k=5)\n"
   ]
  },
  {
   "cell_type": "code",
   "execution_count": null,
   "id": "1445f42b",
   "metadata": {
    "papermill": {
     "duration": 0.007583,
     "end_time": "2025-09-28T22:25:00.375368",
     "exception": false,
     "start_time": "2025-09-28T22:25:00.367785",
     "status": "completed"
    },
    "tags": []
   },
   "outputs": [],
   "source": []
  }
 ],
 "metadata": {
  "kernelspec": {
   "display_name": "aiml",
   "language": "python",
   "name": "python3"
  },
  "language_info": {
   "codemirror_mode": {
    "name": "ipython",
    "version": 3
   },
   "file_extension": ".py",
   "mimetype": "text/x-python",
   "name": "python",
   "nbconvert_exporter": "python",
   "pygments_lexer": "ipython3",
   "version": "3.10.18"
  },
  "papermill": {
   "default_parameters": {},
   "duration": 10.070765,
   "end_time": "2025-09-28T22:25:01.589505",
   "environment_variables": {},
   "exception": null,
   "input_path": "notebooks/04_feature_selection.ipynb",
   "output_path": "runs/04_feature_selection.ipynb",
   "parameters": {},
   "start_time": "2025-09-28T22:24:51.518740",
   "version": "2.6.0"
  }
 },
 "nbformat": 4,
 "nbformat_minor": 5
}