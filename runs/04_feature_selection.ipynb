{
 "cells": [
  {
   "cell_type": "markdown",
   "id": "310ef6a5",
   "metadata": {
    "tags": [
     "papermill-error-cell-tag"
    ]
   },
   "source": [
    "<span style=\"color:red; font-family:Helvetica Neue, Helvetica, Arial, sans-serif; font-size:2em;\">An Exception was encountered at '<a href=\"#papermill-error-cell\">In [4]</a>'.</span>"
   ]
  },
  {
   "cell_type": "code",
   "execution_count": 1,
   "id": "77f41cb2",
   "metadata": {
    "execution": {
     "iopub.execute_input": "2025-10-04T11:11:16.712285Z",
     "iopub.status.busy": "2025-10-04T11:11:16.711283Z",
     "iopub.status.idle": "2025-10-04T11:11:19.311912Z",
     "shell.execute_reply": "2025-10-04T11:11:19.310915Z"
    },
    "papermill": {
     "duration": 2.607641,
     "end_time": "2025-10-04T11:11:19.313920",
     "exception": false,
     "start_time": "2025-10-04T11:11:16.706279",
     "status": "completed"
    },
    "tags": []
   },
   "outputs": [],
   "source": [
    "import sys, os\n",
    "import importlib\n",
    "import pandas as pd\n",
    "from sklearn.feature_selection import SelectKBest, chi2\n",
    "from sklearn.preprocessing import MinMaxScaler\n"
   ]
  },
  {
   "cell_type": "code",
   "execution_count": 2,
   "id": "12dfb0d4",
   "metadata": {
    "execution": {
     "iopub.execute_input": "2025-10-04T11:11:19.323933Z",
     "iopub.status.busy": "2025-10-04T11:11:19.323933Z",
     "iopub.status.idle": "2025-10-04T11:11:19.343986Z",
     "shell.execute_reply": "2025-10-04T11:11:19.343017Z"
    },
    "papermill": {
     "duration": 0.028082,
     "end_time": "2025-10-04T11:11:19.347043",
     "exception": false,
     "start_time": "2025-10-04T11:11:19.318961",
     "status": "completed"
    },
    "tags": []
   },
   "outputs": [],
   "source": [
    "sys.path.append(os.path.abspath(\"..\"))"
   ]
  },
  {
   "cell_type": "code",
   "execution_count": 3,
   "id": "3f0fc892",
   "metadata": {
    "execution": {
     "iopub.execute_input": "2025-10-04T11:11:19.355011Z",
     "iopub.status.busy": "2025-10-04T11:11:19.355011Z",
     "iopub.status.idle": "2025-10-04T11:11:19.376024Z",
     "shell.execute_reply": "2025-10-04T11:11:19.375054Z"
    },
    "papermill": {
     "duration": 0.027009,
     "end_time": "2025-10-04T11:11:19.377022",
     "exception": false,
     "start_time": "2025-10-04T11:11:19.350013",
     "status": "completed"
    },
    "tags": []
   },
   "outputs": [],
   "source": [
    "from src.config import  CLEAN_PARQUET, X_TRAIN_PARQUET, X_TEST_PARQUET, Y_TRAIN_PARQUET, Y_TEST_PARQUET\n",
    "from src.artifacts import load_df, load_obj"
   ]
  },
  {
   "cell_type": "markdown",
   "id": "276c454c",
   "metadata": {
    "tags": [
     "papermill-error-cell-tag"
    ]
   },
   "source": [
    "<span id=\"papermill-error-cell\" style=\"color:red; font-family:Helvetica Neue, Helvetica, Arial, sans-serif; font-size:2em;\">Execution using papermill encountered an exception here and stopped:</span>"
   ]
  },
  {
   "cell_type": "code",
   "execution_count": 4,
   "id": "7ded08ec",
   "metadata": {
    "execution": {
     "iopub.execute_input": "2025-10-04T11:11:19.385024Z",
     "iopub.status.busy": "2025-10-04T11:11:19.385024Z",
     "iopub.status.idle": "2025-10-04T11:11:21.586868Z",
     "shell.execute_reply": "2025-10-04T11:11:21.585928Z"
    },
    "papermill": {
     "duration": 2.208867,
     "end_time": "2025-10-04T11:11:21.588893",
     "exception": true,
     "start_time": "2025-10-04T11:11:19.380026",
     "status": "failed"
    },
    "tags": []
   },
   "outputs": [
    {
     "ename": "ImportError",
     "evalue": "cannot import name 'prepare_from_df' from 'src.feature_selection' (C:\\Users\\mukil\\Downloads\\Loan Approval Prediction\\Loan-Approval-Prediction\\src\\feature_selection.py)",
     "output_type": "error",
     "traceback": [
      "\u001b[1;31m---------------------------------------------------------------------------\u001b[0m",
      "\u001b[1;31mImportError\u001b[0m                               Traceback (most recent call last)",
      "Cell \u001b[1;32mIn[4], line 3\u001b[0m\n\u001b[0;32m      1\u001b[0m \u001b[38;5;28;01mimport\u001b[39;00m\u001b[38;5;250m \u001b[39m\u001b[38;5;21;01msrc\u001b[39;00m\u001b[38;5;21;01m.\u001b[39;00m\u001b[38;5;21;01mfeature_selection\u001b[39;00m\n\u001b[0;32m      2\u001b[0m importlib\u001b[38;5;241m.\u001b[39mreload(src\u001b[38;5;241m.\u001b[39mfeature_selection)\n\u001b[1;32m----> 3\u001b[0m \u001b[38;5;28;01mfrom\u001b[39;00m\u001b[38;5;250m \u001b[39m\u001b[38;5;21;01msrc\u001b[39;00m\u001b[38;5;21;01m.\u001b[39;00m\u001b[38;5;21;01mfeature_selection\u001b[39;00m\u001b[38;5;250m \u001b[39m\u001b[38;5;28;01mimport\u001b[39;00m (\n\u001b[0;32m      4\u001b[0m     selectkbest,prepare_from_df\n\u001b[0;32m      5\u001b[0m )\n",
      "\u001b[1;31mImportError\u001b[0m: cannot import name 'prepare_from_df' from 'src.feature_selection' (C:\\Users\\mukil\\Downloads\\Loan Approval Prediction\\Loan-Approval-Prediction\\src\\feature_selection.py)"
     ]
    }
   ],
   "source": [
    "import src.feature_selection\n",
    "importlib.reload(src.feature_selection)\n",
    "from src.feature_selection import (\n",
    "    selectkbest,prepare_from_df\n",
    ")\n"
   ]
  },
  {
   "cell_type": "code",
   "execution_count": null,
   "id": "f5c1cf48",
   "metadata": {
    "papermill": {
     "duration": null,
     "end_time": null,
     "exception": null,
     "start_time": null,
     "status": "pending"
    },
    "tags": []
   },
   "outputs": [],
   "source": [
    "df = load_df(CLEAN_PARQUET)"
   ]
  },
  {
   "cell_type": "code",
   "execution_count": null,
   "id": "c4688394",
   "metadata": {
    "papermill": {
     "duration": null,
     "end_time": null,
     "exception": null,
     "start_time": null,
     "status": "pending"
    },
    "tags": []
   },
   "outputs": [],
   "source": [
    "print(\"After dummies:\", df.shape)\n",
    "print(\"New columns:\", df.columns.tolist())"
   ]
  },
  {
   "cell_type": "code",
   "execution_count": null,
   "id": "de3c73bf",
   "metadata": {
    "papermill": {
     "duration": null,
     "end_time": null,
     "exception": null,
     "start_time": null,
     "status": "pending"
    },
    "tags": []
   },
   "outputs": [],
   "source": [
    "indep_X = df.drop('Loan_Status_Y', axis=1)\n",
    "dep_Y = df['Loan_Status_Y']"
   ]
  },
  {
   "cell_type": "code",
   "execution_count": null,
   "id": "8f38fb9d",
   "metadata": {
    "papermill": {
     "duration": null,
     "end_time": null,
     "exception": null,
     "start_time": null,
     "status": "pending"
    },
    "tags": []
   },
   "outputs": [],
   "source": [
    "X_new, selected_cols, full_table = selectkbest(indep_X, dep_Y, k=5)\n"
   ]
  },
  {
   "cell_type": "code",
   "execution_count": null,
   "id": "1445f42b",
   "metadata": {
    "papermill": {
     "duration": null,
     "end_time": null,
     "exception": null,
     "start_time": null,
     "status": "pending"
    },
    "tags": []
   },
   "outputs": [],
   "source": []
  }
 ],
 "metadata": {
  "kernelspec": {
   "display_name": "aiml",
   "language": "python",
   "name": "python3"
  },
  "language_info": {
   "codemirror_mode": {
    "name": "ipython",
    "version": 3
   },
   "file_extension": ".py",
   "mimetype": "text/x-python",
   "name": "python",
   "nbconvert_exporter": "python",
   "pygments_lexer": "ipython3",
   "version": "3.10.18"
  },
  "papermill": {
   "default_parameters": {},
   "duration": 8.062179,
   "end_time": "2025-10-04T11:11:22.156767",
   "environment_variables": {},
   "exception": true,
   "input_path": "notebooks/04_feature_selection.ipynb",
   "output_path": "runs/04_feature_selection.ipynb",
   "parameters": {},
   "start_time": "2025-10-04T11:11:14.094588",
   "version": "2.6.0"
  }
 },
 "nbformat": 4,
 "nbformat_minor": 5
}