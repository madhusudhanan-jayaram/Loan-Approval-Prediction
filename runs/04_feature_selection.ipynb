{
 "cells": [
  {
   "cell_type": "code",
   "execution_count": 1,
   "id": "77f41cb2",
   "metadata": {
    "execution": {
     "iopub.execute_input": "2025-09-30T14:40:28.677667Z",
     "iopub.status.busy": "2025-09-30T14:40:28.676668Z",
     "iopub.status.idle": "2025-09-30T14:40:31.831377Z",
     "shell.execute_reply": "2025-09-30T14:40:31.830373Z"
    },
    "papermill": {
     "duration": 3.161652,
     "end_time": "2025-09-30T14:40:31.833423",
     "exception": false,
     "start_time": "2025-09-30T14:40:28.671771",
     "status": "completed"
    },
    "tags": []
   },
   "outputs": [],
   "source": [
    "import sys, os\n",
    "import importlib\n",
    "import pandas as pd\n",
    "from sklearn.feature_selection import SelectKBest, chi2\n",
    "from sklearn.preprocessing import MinMaxScaler\n"
   ]
  },
  {
   "cell_type": "code",
   "execution_count": 2,
   "id": "12dfb0d4",
   "metadata": {
    "execution": {
     "iopub.execute_input": "2025-09-30T14:40:31.842545Z",
     "iopub.status.busy": "2025-09-30T14:40:31.842545Z",
     "iopub.status.idle": "2025-09-30T14:40:31.862183Z",
     "shell.execute_reply": "2025-09-30T14:40:31.861192Z"
    },
    "papermill": {
     "duration": 0.027234,
     "end_time": "2025-09-30T14:40:31.864185",
     "exception": false,
     "start_time": "2025-09-30T14:40:31.836951",
     "status": "completed"
    },
    "tags": []
   },
   "outputs": [],
   "source": [
    "sys.path.append(os.path.abspath(\"..\"))"
   ]
  },
  {
   "cell_type": "code",
   "execution_count": 3,
   "id": "3f0fc892",
   "metadata": {
    "execution": {
     "iopub.execute_input": "2025-09-30T14:40:31.874206Z",
     "iopub.status.busy": "2025-09-30T14:40:31.872699Z",
     "iopub.status.idle": "2025-09-30T14:40:31.893377Z",
     "shell.execute_reply": "2025-09-30T14:40:31.892372Z"
    },
    "papermill": {
     "duration": 0.027212,
     "end_time": "2025-09-30T14:40:31.895391",
     "exception": false,
     "start_time": "2025-09-30T14:40:31.868179",
     "status": "completed"
    },
    "tags": []
   },
   "outputs": [],
   "source": [
    "from src.config import  CLEAN_PARQUET, X_TRAIN_PARQUET, X_TEST_PARQUET, Y_TRAIN_PARQUET, Y_TEST_PARQUET\n",
    "from src.artifacts import load_df, load_obj"
   ]
  },
  {
   "cell_type": "code",
   "execution_count": 4,
   "id": "7ded08ec",
   "metadata": {
    "execution": {
     "iopub.execute_input": "2025-09-30T14:40:31.905154Z",
     "iopub.status.busy": "2025-09-30T14:40:31.904141Z",
     "iopub.status.idle": "2025-09-30T14:40:32.799536Z",
     "shell.execute_reply": "2025-09-30T14:40:32.797991Z"
    },
    "papermill": {
     "duration": 0.901162,
     "end_time": "2025-09-30T14:40:32.800547",
     "exception": false,
     "start_time": "2025-09-30T14:40:31.899385",
     "status": "completed"
    },
    "tags": []
   },
   "outputs": [],
   "source": [
    "import src.feature_selection\n",
    "importlib.reload(src.feature_selection)\n",
    "from src.feature_selection import (\n",
    "    selectkbest,prepare_from_df\n",
    ")\n"
   ]
  },
  {
   "cell_type": "code",
   "execution_count": 5,
   "id": "f5c1cf48",
   "metadata": {
    "execution": {
     "iopub.execute_input": "2025-09-30T14:40:32.810133Z",
     "iopub.status.busy": "2025-09-30T14:40:32.809591Z",
     "iopub.status.idle": "2025-09-30T14:40:32.922524Z",
     "shell.execute_reply": "2025-09-30T14:40:32.921555Z"
    },
    "papermill": {
     "duration": 0.119986,
     "end_time": "2025-09-30T14:40:32.924537",
     "exception": false,
     "start_time": "2025-09-30T14:40:32.804551",
     "status": "completed"
    },
    "tags": []
   },
   "outputs": [],
   "source": [
    "df = load_df(CLEAN_PARQUET)"
   ]
  },
  {
   "cell_type": "code",
   "execution_count": 6,
   "id": "c4688394",
   "metadata": {
    "execution": {
     "iopub.execute_input": "2025-09-30T14:40:32.934286Z",
     "iopub.status.busy": "2025-09-30T14:40:32.934286Z",
     "iopub.status.idle": "2025-09-30T14:40:32.954354Z",
     "shell.execute_reply": "2025-09-30T14:40:32.953235Z"
    },
    "papermill": {
     "duration": 0.028788,
     "end_time": "2025-09-30T14:40:32.957372",
     "exception": false,
     "start_time": "2025-09-30T14:40:32.928584",
     "status": "completed"
    },
    "tags": []
   },
   "outputs": [
    {
     "name": "stdout",
     "output_type": "stream",
     "text": [
      "After dummies: (614, 13)\n",
      "New columns: ['Dependents', 'ApplicantIncome', 'CoapplicantIncome', 'LoanAmount', 'Loan_Amount_Term', 'Credit_History', 'Gender_Male', 'Married_Yes', 'Education_Not Graduate', 'Self_Employed_Yes', 'Property_Area_Semiurban', 'Property_Area_Urban', 'Loan_Status_Y']\n"
     ]
    }
   ],
   "source": [
    "print(\"After dummies:\", df.shape)\n",
    "print(\"New columns:\", df.columns.tolist())"
   ]
  },
  {
   "cell_type": "code",
   "execution_count": 7,
   "id": "de3c73bf",
   "metadata": {
    "execution": {
     "iopub.execute_input": "2025-09-30T14:40:32.967461Z",
     "iopub.status.busy": "2025-09-30T14:40:32.967461Z",
     "iopub.status.idle": "2025-09-30T14:40:32.985512Z",
     "shell.execute_reply": "2025-09-30T14:40:32.984562Z"
    },
    "papermill": {
     "duration": 0.025637,
     "end_time": "2025-09-30T14:40:32.987519",
     "exception": false,
     "start_time": "2025-09-30T14:40:32.961882",
     "status": "completed"
    },
    "tags": []
   },
   "outputs": [],
   "source": [
    "indep_X = df.drop('Loan_Status_Y', axis=1)\n",
    "dep_Y = df['Loan_Status_Y']"
   ]
  },
  {
   "cell_type": "code",
   "execution_count": 8,
   "id": "8f38fb9d",
   "metadata": {
    "execution": {
     "iopub.execute_input": "2025-09-30T14:40:32.997536Z",
     "iopub.status.busy": "2025-09-30T14:40:32.996538Z",
     "iopub.status.idle": "2025-09-30T14:40:33.062531Z",
     "shell.execute_reply": "2025-09-30T14:40:33.061543Z"
    },
    "papermill": {
     "duration": 0.073555,
     "end_time": "2025-09-30T14:40:33.064577",
     "exception": false,
     "start_time": "2025-09-30T14:40:32.991022",
     "status": "completed"
    },
    "tags": []
   },
   "outputs": [
    {
     "name": "stdout",
     "output_type": "stream",
     "text": [
      "                   Feature     Method       Score             P\n",
      "0           Credit_History  f_classif  252.652090  7.019682e-48\n",
      "1  Property_Area_Semiurban       chi2    7.103093  7.695104e-03\n",
      "2   Education_Not Graduate       chi2    3.540502  5.988732e-02\n",
      "3        CoapplicantIncome  f_classif    2.151457  1.429483e-01\n",
      "4              Married_Yes       chi2    1.782425  1.818518e-01\n"
     ]
    }
   ],
   "source": [
    "X_new, selected_cols, full_table = selectkbest(indep_X, dep_Y, k=5)\n"
   ]
  },
  {
   "cell_type": "code",
   "execution_count": null,
   "id": "1445f42b",
   "metadata": {
    "papermill": {
     "duration": 0.003416,
     "end_time": "2025-09-30T14:40:33.072956",
     "exception": false,
     "start_time": "2025-09-30T14:40:33.069540",
     "status": "completed"
    },
    "tags": []
   },
   "outputs": [],
   "source": []
  }
 ],
 "metadata": {
  "kernelspec": {
   "display_name": "aiml",
   "language": "python",
   "name": "python3"
  },
  "language_info": {
   "codemirror_mode": {
    "name": "ipython",
    "version": 3
   },
   "file_extension": ".py",
   "mimetype": "text/x-python",
   "name": "python",
   "nbconvert_exporter": "python",
   "pygments_lexer": "ipython3",
   "version": "3.10.18"
  },
  "papermill": {
   "default_parameters": {},
   "duration": 7.578018,
   "end_time": "2025-09-30T14:40:33.629209",
   "environment_variables": {},
   "exception": null,
   "input_path": "notebooks/04_feature_selection.ipynb",
   "output_path": "runs/04_feature_selection.ipynb",
   "parameters": {},
   "start_time": "2025-09-30T14:40:26.051191",
   "version": "2.6.0"
  }
 },
 "nbformat": 4,
 "nbformat_minor": 5
}