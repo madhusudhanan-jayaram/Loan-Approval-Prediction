{
 "cells": [
  {
   "cell_type": "code",
   "execution_count": 1,
   "id": "10b02d2c",
   "metadata": {
    "execution": {
     "iopub.execute_input": "2025-09-28T22:24:35.670142Z",
     "iopub.status.busy": "2025-09-28T22:24:35.669125Z",
     "iopub.status.idle": "2025-09-28T22:24:38.427497Z",
     "shell.execute_reply": "2025-09-28T22:24:38.426466Z"
    },
    "papermill": {
     "duration": 2.766055,
     "end_time": "2025-09-28T22:24:38.429513",
     "exception": false,
     "start_time": "2025-09-28T22:24:35.663458",
     "status": "completed"
    },
    "tags": []
   },
   "outputs": [],
   "source": [
    "import sys, os\n",
    "import importlib\n",
    "import pandas as pd\n",
    "import numpy as np\n",
    "from sklearn.preprocessing import StandardScaler\n",
    "\n"
   ]
  },
  {
   "cell_type": "code",
   "execution_count": 2,
   "id": "e0d1161f",
   "metadata": {
    "execution": {
     "iopub.execute_input": "2025-09-28T22:24:38.438194Z",
     "iopub.status.busy": "2025-09-28T22:24:38.437150Z",
     "iopub.status.idle": "2025-09-28T22:24:38.458498Z",
     "shell.execute_reply": "2025-09-28T22:24:38.457477Z"
    },
    "papermill": {
     "duration": 0.028999,
     "end_time": "2025-09-28T22:24:38.462508",
     "exception": false,
     "start_time": "2025-09-28T22:24:38.433509",
     "status": "completed"
    },
    "tags": []
   },
   "outputs": [],
   "source": [
    "sys.path.append(os.path.abspath(\"..\"))"
   ]
  },
  {
   "cell_type": "code",
   "execution_count": 3,
   "id": "795c1443",
   "metadata": {
    "execution": {
     "iopub.execute_input": "2025-09-28T22:24:38.471099Z",
     "iopub.status.busy": "2025-09-28T22:24:38.471099Z",
     "iopub.status.idle": "2025-09-28T22:24:38.598697Z",
     "shell.execute_reply": "2025-09-28T22:24:38.597245Z"
    },
    "papermill": {
     "duration": 0.135168,
     "end_time": "2025-09-28T22:24:38.600718",
     "exception": false,
     "start_time": "2025-09-28T22:24:38.465550",
     "status": "completed"
    },
    "tags": []
   },
   "outputs": [],
   "source": [
    "import src.preprocessing\n",
    "from src.artifacts import load_df, save_df, save_obj\n",
    "importlib.reload(src.preprocessing)\n",
    "from src.config import  RAW_PARQUET, CLEAN_PARQUET,X_TRAIN_PARQUET, X_TEST_PARQUET, Y_TEST_PARQUET, Y_TRAIN_PARQUET, SCALAR_PARQUET\n",
    "from src.preprocessing import clean_data"
   ]
  },
  {
   "cell_type": "code",
   "execution_count": 4,
   "id": "dcc67e5e",
   "metadata": {
    "execution": {
     "iopub.execute_input": "2025-09-28T22:24:38.609699Z",
     "iopub.status.busy": "2025-09-28T22:24:38.608668Z",
     "iopub.status.idle": "2025-09-28T22:24:38.629373Z",
     "shell.execute_reply": "2025-09-28T22:24:38.628252Z"
    },
    "papermill": {
     "duration": 0.027048,
     "end_time": "2025-09-28T22:24:38.632334",
     "exception": false,
     "start_time": "2025-09-28T22:24:38.605286",
     "status": "completed"
    },
    "tags": []
   },
   "outputs": [],
   "source": [
    "TARGET_COL = \"Loan_Status\"  "
   ]
  },
  {
   "cell_type": "code",
   "execution_count": 5,
   "id": "ad4906da",
   "metadata": {
    "execution": {
     "iopub.execute_input": "2025-09-28T22:24:38.641946Z",
     "iopub.status.busy": "2025-09-28T22:24:38.641946Z",
     "iopub.status.idle": "2025-09-28T22:24:38.768728Z",
     "shell.execute_reply": "2025-09-28T22:24:38.767500Z"
    },
    "papermill": {
     "duration": 0.134434,
     "end_time": "2025-09-28T22:24:38.770771",
     "exception": false,
     "start_time": "2025-09-28T22:24:38.636337",
     "status": "completed"
    },
    "tags": []
   },
   "outputs": [
    {
     "name": "stdout",
     "output_type": "stream",
     "text": [
      "Raw shape: (614, 13)\n"
     ]
    }
   ],
   "source": [
    "# 1) Load raw artifact\n",
    "df = load_df(RAW_PARQUET)\n",
    "print(\"Raw shape:\", df.shape)"
   ]
  },
  {
   "cell_type": "code",
   "execution_count": 6,
   "id": "e223af46",
   "metadata": {
    "execution": {
     "iopub.execute_input": "2025-09-28T22:24:38.778880Z",
     "iopub.status.busy": "2025-09-28T22:24:38.778880Z",
     "iopub.status.idle": "2025-09-28T22:24:38.830989Z",
     "shell.execute_reply": "2025-09-28T22:24:38.829851Z"
    },
    "papermill": {
     "duration": 0.059193,
     "end_time": "2025-09-28T22:24:38.833533",
     "exception": false,
     "start_time": "2025-09-28T22:24:38.774340",
     "status": "completed"
    },
    "tags": []
   },
   "outputs": [
    {
     "name": "stdout",
     "output_type": "stream",
     "text": [
      "      Loan_ID  Gender Married Dependents     Education Self_Employed  \\\n",
      "0    LP001002    Male      No          0      Graduate            No   \n",
      "1    LP001003    Male     Yes          1      Graduate            No   \n",
      "2    LP001005    Male     Yes          0      Graduate           Yes   \n",
      "3    LP001006    Male     Yes          0  Not Graduate            No   \n",
      "4    LP001008    Male      No          0      Graduate            No   \n",
      "..        ...     ...     ...        ...           ...           ...   \n",
      "609  LP002978  Female      No          0      Graduate            No   \n",
      "610  LP002979    Male     Yes         3+      Graduate            No   \n",
      "611  LP002983    Male     Yes          1      Graduate            No   \n",
      "612  LP002984    Male     Yes          2      Graduate            No   \n",
      "613  LP002990  Female      No          0      Graduate           Yes   \n",
      "\n",
      "     ApplicantIncome  CoapplicantIncome  LoanAmount  Loan_Amount_Term  \\\n",
      "0               5849                0.0         NaN             360.0   \n",
      "1               4583             1508.0       128.0             360.0   \n",
      "2               3000                0.0        66.0             360.0   \n",
      "3               2583             2358.0       120.0             360.0   \n",
      "4               6000                0.0       141.0             360.0   \n",
      "..               ...                ...         ...               ...   \n",
      "609             2900                0.0        71.0             360.0   \n",
      "610             4106                0.0        40.0             180.0   \n",
      "611             8072              240.0       253.0             360.0   \n",
      "612             7583                0.0       187.0             360.0   \n",
      "613             4583                0.0       133.0             360.0   \n",
      "\n",
      "     Credit_History Property_Area Loan_Status  \n",
      "0               1.0         Urban           Y  \n",
      "1               1.0         Rural           N  \n",
      "2               1.0         Urban           Y  \n",
      "3               1.0         Urban           Y  \n",
      "4               1.0         Urban           Y  \n",
      "..              ...           ...         ...  \n",
      "609             1.0         Rural           Y  \n",
      "610             1.0         Rural           Y  \n",
      "611             1.0         Urban           Y  \n",
      "612             1.0         Urban           Y  \n",
      "613             0.0     Semiurban           N  \n",
      "\n",
      "[614 rows x 13 columns]\n",
      "After dummies: (614, 13)\n",
      "New columns: ['Dependents', 'ApplicantIncome', 'CoapplicantIncome', 'LoanAmount', 'Loan_Amount_Term', 'Credit_History', 'Gender_Male', 'Married_Yes', 'Education_Not Graduate', 'Self_Employed_Yes', 'Property_Area_Semiurban', 'Property_Area_Urban', 'Loan_Status_Y']\n",
      "Shape of full dataset: (614, 13)\n",
      "Shape of Features (indep_X): (614, 12)\n",
      "Shape of Target (dep_Y): (614,)\n",
      "\n",
      "Independent Variables (X):\n",
      "   Dependents  ApplicantIncome  CoapplicantIncome  LoanAmount  \\\n",
      "0         0.0             5849                0.0       128.0   \n",
      "1         1.0             4583             1508.0       128.0   \n",
      "2         0.0             3000                0.0        66.0   \n",
      "3         0.0             2583             2358.0       120.0   \n",
      "4         0.0             6000                0.0       141.0   \n",
      "\n",
      "   Loan_Amount_Term  Credit_History  Gender_Male  Married_Yes  \\\n",
      "0             360.0             1.0         True        False   \n",
      "1             360.0             1.0         True         True   \n",
      "2             360.0             1.0         True         True   \n",
      "3             360.0             1.0         True         True   \n",
      "4             360.0             1.0         True        False   \n",
      "\n",
      "   Education_Not Graduate  Self_Employed_Yes  Property_Area_Semiurban  \\\n",
      "0                   False              False                    False   \n",
      "1                   False              False                    False   \n",
      "2                   False               True                    False   \n",
      "3                    True              False                    False   \n",
      "4                   False              False                    False   \n",
      "\n",
      "   Property_Area_Urban  \n",
      "0                 True  \n",
      "1                False  \n",
      "2                 True  \n",
      "3                 True  \n",
      "4                 True  \n",
      "\n",
      "Dependent Variable (y):\n",
      "0     True\n",
      "1    False\n",
      "2     True\n",
      "3     True\n",
      "4     True\n",
      "Name: Loan_Status_Y, dtype: bool\n"
     ]
    }
   ],
   "source": [
    "# 2) Do preprocessing\n",
    "print (df)\n",
    "df_clean = clean_data(df)"
   ]
  },
  {
   "cell_type": "code",
   "execution_count": 7,
   "id": "b9a19ac2",
   "metadata": {
    "execution": {
     "iopub.execute_input": "2025-09-28T22:24:38.842093Z",
     "iopub.status.busy": "2025-09-28T22:24:38.841090Z",
     "iopub.status.idle": "2025-09-28T22:24:38.862234Z",
     "shell.execute_reply": "2025-09-28T22:24:38.861219Z"
    },
    "papermill": {
     "duration": 0.027683,
     "end_time": "2025-09-28T22:24:38.864269",
     "exception": false,
     "start_time": "2025-09-28T22:24:38.836586",
     "status": "completed"
    },
    "tags": []
   },
   "outputs": [
    {
     "name": "stdout",
     "output_type": "stream",
     "text": [
      "✅ Saved clean data to: C:\\Users\\mukil\\Downloads\\Loan Approval Prediction\\Loan-Approval-Prediction\\artifacts\\02_clean.parquet\n"
     ]
    }
   ],
   "source": [
    "# 3) Save clean artifact\n",
    "save_df(df_clean, CLEAN_PARQUET)\n",
    "print(f\"✅ Saved clean data to: {CLEAN_PARQUET}\")"
   ]
  }
 ],
 "metadata": {
  "kernelspec": {
   "display_name": "aiml",
   "language": "python",
   "name": "python3"
  },
  "language_info": {
   "codemirror_mode": {
    "name": "ipython",
    "version": 3
   },
   "file_extension": ".py",
   "mimetype": "text/x-python",
   "name": "python",
   "nbconvert_exporter": "python",
   "pygments_lexer": "ipython3",
   "version": "3.10.18"
  },
  "papermill": {
   "default_parameters": {},
   "duration": 6.443878,
   "end_time": "2025-09-28T22:24:39.315805",
   "environment_variables": {},
   "exception": null,
   "input_path": "notebooks/02_preprocessing.ipynb",
   "output_path": "runs/02_preprocessing_out.ipynb",
   "parameters": {},
   "start_time": "2025-09-28T22:24:32.871927",
   "version": "2.6.0"
  }
 },
 "nbformat": 4,
 "nbformat_minor": 5
}