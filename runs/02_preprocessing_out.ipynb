{
 "cells": [
  {
   "cell_type": "code",
   "execution_count": 1,
   "id": "10b02d2c",
   "metadata": {
    "execution": {
     "iopub.execute_input": "2025-09-26T04:02:41.359479Z",
     "iopub.status.busy": "2025-09-26T04:02:41.359479Z",
     "iopub.status.idle": "2025-09-26T04:02:41.371148Z",
     "shell.execute_reply": "2025-09-26T04:02:41.370084Z"
    },
    "papermill": {
     "duration": 0.018663,
     "end_time": "2025-09-26T04:02:41.373084",
     "exception": false,
     "start_time": "2025-09-26T04:02:41.354421",
     "status": "completed"
    },
    "tags": []
   },
   "outputs": [],
   "source": [
    "import sys, os\n",
    "import importlib"
   ]
  },
  {
   "cell_type": "code",
   "execution_count": 2,
   "id": "e0d1161f",
   "metadata": {
    "execution": {
     "iopub.execute_input": "2025-09-26T04:02:41.381609Z",
     "iopub.status.busy": "2025-09-26T04:02:41.381609Z",
     "iopub.status.idle": "2025-09-26T04:02:41.402689Z",
     "shell.execute_reply": "2025-09-26T04:02:41.400697Z"
    },
    "papermill": {
     "duration": 0.02812,
     "end_time": "2025-09-26T04:02:41.404726",
     "exception": false,
     "start_time": "2025-09-26T04:02:41.376606",
     "status": "completed"
    },
    "tags": []
   },
   "outputs": [],
   "source": [
    "sys.path.append(os.path.abspath(\"..\"))"
   ]
  },
  {
   "cell_type": "code",
   "execution_count": 3,
   "id": "795c1443",
   "metadata": {
    "execution": {
     "iopub.execute_input": "2025-09-26T04:02:41.415520Z",
     "iopub.status.busy": "2025-09-26T04:02:41.415520Z",
     "iopub.status.idle": "2025-09-26T04:02:44.107023Z",
     "shell.execute_reply": "2025-09-26T04:02:44.106054Z"
    },
    "papermill": {
     "duration": 2.701063,
     "end_time": "2025-09-26T04:02:44.109026",
     "exception": false,
     "start_time": "2025-09-26T04:02:41.407963",
     "status": "completed"
    },
    "tags": []
   },
   "outputs": [],
   "source": [
    "import src.preprocessing\n",
    "from src.artifacts import load_df, save_df\n",
    "importlib.reload(src.preprocessing)\n",
    "from src.config import  RAW_PARQUET, CLEAN_PARQUET,ENCODED_PARQUET\n",
    "from src.preprocessing import clean_data"
   ]
  },
  {
   "cell_type": "code",
   "execution_count": 4,
   "id": "dcc67e5e",
   "metadata": {
    "execution": {
     "iopub.execute_input": "2025-09-26T04:02:44.117504Z",
     "iopub.status.busy": "2025-09-26T04:02:44.116504Z",
     "iopub.status.idle": "2025-09-26T04:02:44.137858Z",
     "shell.execute_reply": "2025-09-26T04:02:44.136826Z"
    },
    "papermill": {
     "duration": 0.025867,
     "end_time": "2025-09-26T04:02:44.138854",
     "exception": false,
     "start_time": "2025-09-26T04:02:44.112987",
     "status": "completed"
    },
    "tags": []
   },
   "outputs": [],
   "source": [
    "TARGET_COL = \"Loan_Status\"  "
   ]
  },
  {
   "cell_type": "code",
   "execution_count": 5,
   "id": "ad4906da",
   "metadata": {
    "execution": {
     "iopub.execute_input": "2025-09-26T04:02:44.149410Z",
     "iopub.status.busy": "2025-09-26T04:02:44.148379Z",
     "iopub.status.idle": "2025-09-26T04:02:44.293579Z",
     "shell.execute_reply": "2025-09-26T04:02:44.292574Z"
    },
    "papermill": {
     "duration": 0.152213,
     "end_time": "2025-09-26T04:02:44.295591",
     "exception": false,
     "start_time": "2025-09-26T04:02:44.143378",
     "status": "completed"
    },
    "tags": []
   },
   "outputs": [
    {
     "name": "stdout",
     "output_type": "stream",
     "text": [
      "Raw shape: (614, 13)\n"
     ]
    }
   ],
   "source": [
    "# 1) Load raw artifact\n",
    "df = load_df(RAW_PARQUET)\n",
    "print(\"Raw shape:\", df.shape)"
   ]
  },
  {
   "cell_type": "code",
   "execution_count": 6,
   "id": "e223af46",
   "metadata": {
    "execution": {
     "iopub.execute_input": "2025-09-26T04:02:44.307592Z",
     "iopub.status.busy": "2025-09-26T04:02:44.306592Z",
     "iopub.status.idle": "2025-09-26T04:02:44.355694Z",
     "shell.execute_reply": "2025-09-26T04:02:44.354702Z"
    },
    "papermill": {
     "duration": 0.056106,
     "end_time": "2025-09-26T04:02:44.357699",
     "exception": false,
     "start_time": "2025-09-26T04:02:44.301593",
     "status": "completed"
    },
    "tags": []
   },
   "outputs": [],
   "source": [
    "# 2) Do preprocessing + standard scalar\n",
    "df_clean, df_enc, X_train, X_test, y_train, y_test, scaler = clean_data(df)"
   ]
  },
  {
   "cell_type": "code",
   "execution_count": 7,
   "id": "b9a19ac2",
   "metadata": {
    "execution": {
     "iopub.execute_input": "2025-09-26T04:02:44.368703Z",
     "iopub.status.busy": "2025-09-26T04:02:44.368703Z",
     "iopub.status.idle": "2025-09-26T04:02:44.402751Z",
     "shell.execute_reply": "2025-09-26T04:02:44.401749Z"
    },
    "papermill": {
     "duration": 0.04207,
     "end_time": "2025-09-26T04:02:44.405761",
     "exception": false,
     "start_time": "2025-09-26T04:02:44.363691",
     "status": "completed"
    },
    "tags": []
   },
   "outputs": [
    {
     "name": "stdout",
     "output_type": "stream",
     "text": [
      "✅ Saved clean data to: C:\\Users\\mukil\\Downloads\\Loan Approval Prediction\\Loan-Approval-Prediction\\artifacts\\02_clean.parquet\n",
      "✅ Saved encoded data to: C:\\Users\\mukil\\Downloads\\Loan Approval Prediction\\Loan-Approval-Prediction\\artifacts\\03_encoded.parquet\n"
     ]
    }
   ],
   "source": [
    "# 3) Save clean artifact\n",
    "save_df(df_clean, RAW_PARQUET)\n",
    "print(f\"✅ Saved clean data to: {CLEAN_PARQUET}\")\n",
    "\n",
    "save_df(df_enc, ENCODED_PARQUET)\n",
    "print(f\"✅ Saved encoded data to: {ENCODED_PARQUET}\")"
   ]
  }
 ],
 "metadata": {
  "kernelspec": {
   "display_name": "aiml",
   "language": "python",
   "name": "python3"
  },
  "language_info": {
   "codemirror_mode": {
    "name": "ipython",
    "version": 3
   },
   "file_extension": ".py",
   "mimetype": "text/x-python",
   "name": "python",
   "nbconvert_exporter": "python",
   "pygments_lexer": "ipython3",
   "version": "3.10.18"
  },
  "papermill": {
   "default_parameters": {},
   "duration": 6.430747,
   "end_time": "2025-09-26T04:02:45.193384",
   "environment_variables": {},
   "exception": null,
   "input_path": "notebooks/02_preprocessing.ipynb",
   "output_path": "runs/02_preprocessing_out.ipynb",
   "parameters": {},
   "start_time": "2025-09-26T04:02:38.762637",
   "version": "2.6.0"
  }
 },
 "nbformat": 4,
 "nbformat_minor": 5
}