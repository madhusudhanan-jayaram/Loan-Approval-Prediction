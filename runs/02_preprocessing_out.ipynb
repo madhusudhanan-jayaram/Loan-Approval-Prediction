{
 "cells": [
  {
   "cell_type": "code",
   "execution_count": 1,
   "id": "10b02d2c",
   "metadata": {
    "execution": {
     "iopub.execute_input": "2025-10-04T11:22:49.979825Z",
     "iopub.status.busy": "2025-10-04T11:22:49.979825Z",
     "iopub.status.idle": "2025-10-04T11:22:52.187115Z",
     "shell.execute_reply": "2025-10-04T11:22:52.185987Z"
    },
    "papermill": {
     "duration": 2.21322,
     "end_time": "2025-10-04T11:22:52.188118",
     "exception": false,
     "start_time": "2025-10-04T11:22:49.974898",
     "status": "completed"
    },
    "tags": []
   },
   "outputs": [],
   "source": [
    "import sys, os\n",
    "import importlib\n",
    "import pandas as pd\n",
    "import numpy as np\n",
    "from sklearn.preprocessing import StandardScaler\n",
    "\n"
   ]
  },
  {
   "cell_type": "code",
   "execution_count": 2,
   "id": "e0d1161f",
   "metadata": {
    "execution": {
     "iopub.execute_input": "2025-10-04T11:22:52.196120Z",
     "iopub.status.busy": "2025-10-04T11:22:52.196120Z",
     "iopub.status.idle": "2025-10-04T11:22:52.202135Z",
     "shell.execute_reply": "2025-10-04T11:22:52.201184Z"
    },
    "papermill": {
     "duration": 0.012966,
     "end_time": "2025-10-04T11:22:52.205122",
     "exception": false,
     "start_time": "2025-10-04T11:22:52.192156",
     "status": "completed"
    },
    "tags": []
   },
   "outputs": [],
   "source": [
    "sys.path.append(os.path.abspath(\"..\"))"
   ]
  },
  {
   "cell_type": "code",
   "execution_count": 3,
   "id": "795c1443",
   "metadata": {
    "execution": {
     "iopub.execute_input": "2025-10-04T11:22:52.216157Z",
     "iopub.status.busy": "2025-10-04T11:22:52.216157Z",
     "iopub.status.idle": "2025-10-04T11:22:52.310330Z",
     "shell.execute_reply": "2025-10-04T11:22:52.309405Z"
    },
    "papermill": {
     "duration": 0.101201,
     "end_time": "2025-10-04T11:22:52.312331",
     "exception": false,
     "start_time": "2025-10-04T11:22:52.211130",
     "status": "completed"
    },
    "tags": []
   },
   "outputs": [],
   "source": [
    "import src.preprocessing\n",
    "from src.artifacts import load_df, save_df, save_obj\n",
    "importlib.reload(src.preprocessing)\n",
    "from src.config import  RAW_PARQUET, CLEAN_PARQUET,X_TRAIN_PARQUET, X_TEST_PARQUET, Y_TEST_PARQUET, Y_TRAIN_PARQUET, SCALAR_PARQUET\n",
    "from src.preprocessing import clean_data"
   ]
  },
  {
   "cell_type": "code",
   "execution_count": 4,
   "id": "dcc67e5e",
   "metadata": {
    "execution": {
     "iopub.execute_input": "2025-10-04T11:22:52.320362Z",
     "iopub.status.busy": "2025-10-04T11:22:52.320362Z",
     "iopub.status.idle": "2025-10-04T11:22:52.326329Z",
     "shell.execute_reply": "2025-10-04T11:22:52.325330Z"
    },
    "papermill": {
     "duration": 0.013974,
     "end_time": "2025-10-04T11:22:52.329337",
     "exception": false,
     "start_time": "2025-10-04T11:22:52.315363",
     "status": "completed"
    },
    "tags": []
   },
   "outputs": [],
   "source": [
    "TARGET_COL = \"Loan_Status\"  "
   ]
  },
  {
   "cell_type": "code",
   "execution_count": 5,
   "id": "ad4906da",
   "metadata": {
    "execution": {
     "iopub.execute_input": "2025-10-04T11:22:52.340330Z",
     "iopub.status.busy": "2025-10-04T11:22:52.339331Z",
     "iopub.status.idle": "2025-10-04T11:22:52.467869Z",
     "shell.execute_reply": "2025-10-04T11:22:52.466850Z"
    },
    "papermill": {
     "duration": 0.13657,
     "end_time": "2025-10-04T11:22:52.469906",
     "exception": false,
     "start_time": "2025-10-04T11:22:52.333336",
     "status": "completed"
    },
    "tags": []
   },
   "outputs": [
    {
     "name": "stdout",
     "output_type": "stream",
     "text": [
      "Raw shape: (614, 13)\n"
     ]
    }
   ],
   "source": [
    "# 1) Load raw artifact\n",
    "df = load_df(RAW_PARQUET)\n",
    "print(\"Raw shape:\", df.shape)"
   ]
  },
  {
   "cell_type": "code",
   "execution_count": 6,
   "id": "e223af46",
   "metadata": {
    "execution": {
     "iopub.execute_input": "2025-10-04T11:22:52.477866Z",
     "iopub.status.busy": "2025-10-04T11:22:52.476901Z",
     "iopub.status.idle": "2025-10-04T11:22:52.531201Z",
     "shell.execute_reply": "2025-10-04T11:22:52.530170Z"
    },
    "papermill": {
     "duration": 0.061334,
     "end_time": "2025-10-04T11:22:52.534201",
     "exception": false,
     "start_time": "2025-10-04T11:22:52.472867",
     "status": "completed"
    },
    "tags": []
   },
   "outputs": [
    {
     "name": "stdout",
     "output_type": "stream",
     "text": [
      "      Loan_ID  Gender Married Dependents     Education Self_Employed  \\\n",
      "0    LP001002    Male      No          0      Graduate            No   \n",
      "1    LP001003    Male     Yes          1      Graduate            No   \n",
      "2    LP001005    Male     Yes          0      Graduate           Yes   \n",
      "3    LP001006    Male     Yes          0  Not Graduate            No   \n",
      "4    LP001008    Male      No          0      Graduate            No   \n",
      "..        ...     ...     ...        ...           ...           ...   \n",
      "609  LP002978  Female      No          0      Graduate            No   \n",
      "610  LP002979    Male     Yes         3+      Graduate            No   \n",
      "611  LP002983    Male     Yes          1      Graduate            No   \n",
      "612  LP002984    Male     Yes          2      Graduate            No   \n",
      "613  LP002990  Female      No          0      Graduate           Yes   \n",
      "\n",
      "     ApplicantIncome  CoapplicantIncome  LoanAmount  Loan_Amount_Term  \\\n",
      "0               5849                0.0         NaN             360.0   \n",
      "1               4583             1508.0       128.0             360.0   \n",
      "2               3000                0.0        66.0             360.0   \n",
      "3               2583             2358.0       120.0             360.0   \n",
      "4               6000                0.0       141.0             360.0   \n",
      "..               ...                ...         ...               ...   \n",
      "609             2900                0.0        71.0             360.0   \n",
      "610             4106                0.0        40.0             180.0   \n",
      "611             8072              240.0       253.0             360.0   \n",
      "612             7583                0.0       187.0             360.0   \n",
      "613             4583                0.0       133.0             360.0   \n",
      "\n",
      "     Credit_History Property_Area Loan_Status  \n",
      "0               1.0         Urban           Y  \n",
      "1               1.0         Rural           N  \n",
      "2               1.0         Urban           Y  \n",
      "3               1.0         Urban           Y  \n",
      "4               1.0         Urban           Y  \n",
      "..              ...           ...         ...  \n",
      "609             1.0         Rural           Y  \n",
      "610             1.0         Rural           Y  \n",
      "611             1.0         Urban           Y  \n",
      "612             1.0         Urban           Y  \n",
      "613             0.0     Semiurban           N  \n",
      "\n",
      "[614 rows x 13 columns]\n",
      "After dummies: (614, 13)\n",
      "New columns: ['Dependents', 'ApplicantIncome', 'CoapplicantIncome', 'LoanAmount', 'Loan_Amount_Term', 'Credit_History', 'Gender_Male', 'Married_Yes', 'Education_Not Graduate', 'Self_Employed_Yes', 'Property_Area_Semiurban', 'Property_Area_Urban', 'Loan_Status_Y']\n",
      "Shape of full dataset: (614, 13)\n",
      "Shape of Features (indep_X): (614, 12)\n",
      "Shape of Target (dep_Y): (614,)\n",
      "\n",
      "Independent Variables (X):\n",
      "   Dependents  ApplicantIncome  CoapplicantIncome  LoanAmount  \\\n",
      "0         0.0             5849                0.0       128.0   \n",
      "1         1.0             4583             1508.0       128.0   \n",
      "2         0.0             3000                0.0        66.0   \n",
      "3         0.0             2583             2358.0       120.0   \n",
      "4         0.0             6000                0.0       141.0   \n",
      "\n",
      "   Loan_Amount_Term  Credit_History  Gender_Male  Married_Yes  \\\n",
      "0             360.0             1.0         True        False   \n",
      "1             360.0             1.0         True         True   \n",
      "2             360.0             1.0         True         True   \n",
      "3             360.0             1.0         True         True   \n",
      "4             360.0             1.0         True        False   \n",
      "\n",
      "   Education_Not Graduate  Self_Employed_Yes  Property_Area_Semiurban  \\\n",
      "0                   False              False                    False   \n",
      "1                   False              False                    False   \n",
      "2                   False               True                    False   \n",
      "3                    True              False                    False   \n",
      "4                   False              False                    False   \n",
      "\n",
      "   Property_Area_Urban  \n",
      "0                 True  \n",
      "1                False  \n",
      "2                 True  \n",
      "3                 True  \n",
      "4                 True  \n",
      "\n",
      "Dependent Variable (y):\n",
      "0     True\n",
      "1    False\n",
      "2     True\n",
      "3     True\n",
      "4     True\n",
      "Name: Loan_Status_Y, dtype: bool\n"
     ]
    }
   ],
   "source": [
    "# 2) Do preprocessing\n",
    "print (df)\n",
    "df_clean = clean_data(df)"
   ]
  },
  {
   "cell_type": "code",
   "execution_count": 7,
   "id": "b9a19ac2",
   "metadata": {
    "execution": {
     "iopub.execute_input": "2025-10-04T11:22:52.544200Z",
     "iopub.status.busy": "2025-10-04T11:22:52.543226Z",
     "iopub.status.idle": "2025-10-04T11:22:52.562261Z",
     "shell.execute_reply": "2025-10-04T11:22:52.561391Z"
    },
    "papermill": {
     "duration": 0.026105,
     "end_time": "2025-10-04T11:22:52.564304",
     "exception": false,
     "start_time": "2025-10-04T11:22:52.538199",
     "status": "completed"
    },
    "tags": []
   },
   "outputs": [
    {
     "name": "stdout",
     "output_type": "stream",
     "text": [
      "✅ Saved clean data to: C:\\Users\\mukil\\Downloads\\Loan Approval Prediction\\Loan-Approval-Prediction\\artifacts\\02_clean.parquet\n"
     ]
    }
   ],
   "source": [
    "# 3) Save clean artifact\n",
    "save_df(df_clean, CLEAN_PARQUET)\n",
    "print(f\"✅ Saved clean data to: {CLEAN_PARQUET}\")"
   ]
  }
 ],
 "metadata": {
  "kernelspec": {
   "display_name": "aiml",
   "language": "python",
   "name": "python3"
  },
  "language_info": {
   "codemirror_mode": {
    "name": "ipython",
    "version": 3
   },
   "file_extension": ".py",
   "mimetype": "text/x-python",
   "name": "python",
   "nbconvert_exporter": "python",
   "pygments_lexer": "ipython3",
   "version": "3.10.18"
  },
  "papermill": {
   "default_parameters": {},
   "duration": 5.312734,
   "end_time": "2025-10-04T11:22:53.021211",
   "environment_variables": {},
   "exception": null,
   "input_path": "notebooks/02_preprocessing.ipynb",
   "output_path": "runs/02_preprocessing_out.ipynb",
   "parameters": {},
   "start_time": "2025-10-04T11:22:47.708477",
   "version": "2.6.0"
  }
 },
 "nbformat": 4,
 "nbformat_minor": 5
}