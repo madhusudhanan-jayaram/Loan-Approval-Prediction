{
 "cells": [
  {
   "cell_type": "code",
   "execution_count": 1,
   "id": "10b02d2c",
   "metadata": {
    "execution": {
     "iopub.execute_input": "2025-09-26T02:54:59.572128Z",
     "iopub.status.busy": "2025-09-26T02:54:59.572128Z",
     "iopub.status.idle": "2025-09-26T02:54:59.584133Z",
     "shell.execute_reply": "2025-09-26T02:54:59.583130Z"
    },
    "papermill": {
     "duration": 0.019911,
     "end_time": "2025-09-26T02:54:59.587151",
     "exception": false,
     "start_time": "2025-09-26T02:54:59.567240",
     "status": "completed"
    },
    "tags": []
   },
   "outputs": [],
   "source": [
    "import sys, os\n",
    "import importlib"
   ]
  },
  {
   "cell_type": "code",
   "execution_count": 2,
   "id": "e0d1161f",
   "metadata": {
    "execution": {
     "iopub.execute_input": "2025-09-26T02:54:59.596178Z",
     "iopub.status.busy": "2025-09-26T02:54:59.595147Z",
     "iopub.status.idle": "2025-09-26T02:54:59.617198Z",
     "shell.execute_reply": "2025-09-26T02:54:59.614310Z"
    },
    "papermill": {
     "duration": 0.027972,
     "end_time": "2025-09-26T02:54:59.619146",
     "exception": false,
     "start_time": "2025-09-26T02:54:59.591174",
     "status": "completed"
    },
    "tags": []
   },
   "outputs": [],
   "source": [
    "sys.path.append(os.path.abspath(\"..\"))"
   ]
  },
  {
   "cell_type": "code",
   "execution_count": 3,
   "id": "795c1443",
   "metadata": {
    "execution": {
     "iopub.execute_input": "2025-09-26T02:54:59.628177Z",
     "iopub.status.busy": "2025-09-26T02:54:59.628177Z",
     "iopub.status.idle": "2025-09-26T02:55:02.099020Z",
     "shell.execute_reply": "2025-09-26T02:55:02.098085Z"
    },
    "papermill": {
     "duration": 2.477873,
     "end_time": "2025-09-26T02:55:02.100021",
     "exception": false,
     "start_time": "2025-09-26T02:54:59.622148",
     "status": "completed"
    },
    "tags": []
   },
   "outputs": [],
   "source": [
    "import src.preprocessing\n",
    "from src.artifacts import load_df, save_df\n",
    "importlib.reload(src.preprocessing)\n",
    "from src.config import  RAW_PARQUET, CLEAN_PARQUET\n",
    "from src.preprocessing import clean_data"
   ]
  },
  {
   "cell_type": "code",
   "execution_count": 4,
   "id": "dcc67e5e",
   "metadata": {
    "execution": {
     "iopub.execute_input": "2025-09-26T02:55:02.109022Z",
     "iopub.status.busy": "2025-09-26T02:55:02.108023Z",
     "iopub.status.idle": "2025-09-26T02:55:02.116026Z",
     "shell.execute_reply": "2025-09-26T02:55:02.114027Z"
    },
    "papermill": {
     "duration": 0.01498,
     "end_time": "2025-09-26T02:55:02.119025",
     "exception": false,
     "start_time": "2025-09-26T02:55:02.104045",
     "status": "completed"
    },
    "tags": []
   },
   "outputs": [],
   "source": [
    "TARGET_COL = \"Loan_Status\"  "
   ]
  },
  {
   "cell_type": "code",
   "execution_count": 5,
   "id": "ad4906da",
   "metadata": {
    "execution": {
     "iopub.execute_input": "2025-09-26T02:55:02.130022Z",
     "iopub.status.busy": "2025-09-26T02:55:02.130022Z",
     "iopub.status.idle": "2025-09-26T02:55:02.256808Z",
     "shell.execute_reply": "2025-09-26T02:55:02.255794Z"
    },
    "papermill": {
     "duration": 0.134782,
     "end_time": "2025-09-26T02:55:02.258808",
     "exception": false,
     "start_time": "2025-09-26T02:55:02.124026",
     "status": "completed"
    },
    "tags": []
   },
   "outputs": [
    {
     "name": "stdout",
     "output_type": "stream",
     "text": [
      "Raw shape: (614, 13)\n"
     ]
    }
   ],
   "source": [
    "# 1) Load raw artifact\n",
    "df = load_df(RAW_PARQUET)\n",
    "print(\"Raw shape:\", df.shape)"
   ]
  },
  {
   "cell_type": "code",
   "execution_count": 6,
   "id": "e223af46",
   "metadata": {
    "execution": {
     "iopub.execute_input": "2025-09-26T02:55:02.267854Z",
     "iopub.status.busy": "2025-09-26T02:55:02.267854Z",
     "iopub.status.idle": "2025-09-26T02:55:02.318867Z",
     "shell.execute_reply": "2025-09-26T02:55:02.317895Z"
    },
    "papermill": {
     "duration": 0.058514,
     "end_time": "2025-09-26T02:55:02.320833",
     "exception": false,
     "start_time": "2025-09-26T02:55:02.262319",
     "status": "completed"
    },
    "tags": []
   },
   "outputs": [],
   "source": [
    "# 2) Do preprocessing + standard scalar\n",
    "df_clean, df_enc, X_train, X_test, y_train, y_test, scaler = clean_data(df)"
   ]
  },
  {
   "cell_type": "code",
   "execution_count": 7,
   "id": "b9a19ac2",
   "metadata": {
    "execution": {
     "iopub.execute_input": "2025-09-26T02:55:02.329873Z",
     "iopub.status.busy": "2025-09-26T02:55:02.329873Z",
     "iopub.status.idle": "2025-09-26T02:55:02.365974Z",
     "shell.execute_reply": "2025-09-26T02:55:02.365096Z"
    },
    "papermill": {
     "duration": 0.043148,
     "end_time": "2025-09-26T02:55:02.367982",
     "exception": false,
     "start_time": "2025-09-26T02:55:02.324834",
     "status": "completed"
    },
    "tags": []
   },
   "outputs": [
    {
     "name": "stdout",
     "output_type": "stream",
     "text": [
      "✅ Saved clean data to: C:\\Users\\mukil\\Downloads\\Loan Approval Prediction\\Loan-Approval-Prediction\\artifacts\\02_clean.parquet\n",
      "✅ Saved encoded data to: artifacts/03_encoded.parquet\n"
     ]
    }
   ],
   "source": [
    "# 3) Save clean artifact\n",
    "save_df(df_clean, RAW_PARQUET)\n",
    "print(f\"✅ Saved clean data to: {CLEAN_PARQUET}\")\n",
    "\n",
    "save_df(df_enc, \"artifacts/03_encoded.parquet\")\n",
    "print(\"✅ Saved encoded data to: artifacts/03_encoded.parquet\")"
   ]
  }
 ],
 "metadata": {
  "kernelspec": {
   "display_name": "aiml",
   "language": "python",
   "name": "python3"
  },
  "language_info": {
   "codemirror_mode": {
    "name": "ipython",
    "version": 3
   },
   "file_extension": ".py",
   "mimetype": "text/x-python",
   "name": "python",
   "nbconvert_exporter": "python",
   "pygments_lexer": "ipython3",
   "version": "3.10.18"
  },
  "papermill": {
   "default_parameters": {},
   "duration": 6.052939,
   "end_time": "2025-09-26T02:55:03.031115",
   "environment_variables": {},
   "exception": null,
   "input_path": "notebooks/02_preprocessing.ipynb",
   "output_path": "runs/02_preprocessing_out.ipynb",
   "parameters": {},
   "start_time": "2025-09-26T02:54:56.978176",
   "version": "2.6.0"
  }
 },
 "nbformat": 4,
 "nbformat_minor": 5
}