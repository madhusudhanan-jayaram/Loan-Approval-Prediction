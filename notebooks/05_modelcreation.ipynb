{
 "cells": [
  {
   "cell_type": "code",
   "execution_count": 3,
   "id": "5e2a6b6b",
   "metadata": {},
   "outputs": [],
   "source": [
    "import sys, os\n",
    "import importlib\n",
    "import pandas as pd"
   ]
  },
  {
   "cell_type": "code",
   "execution_count": 4,
   "id": "96f62174",
   "metadata": {},
   "outputs": [],
   "source": [
    "sys.path.append(os.path.abspath(\"..\"))"
   ]
  },
  {
   "cell_type": "code",
   "execution_count": 5,
   "id": "142cab9a",
   "metadata": {},
   "outputs": [],
   "source": [
    "from src.config import  CLEAN_PARQUET, X_TRAIN_PARQUET, X_TEST_PARQUET, Y_TRAIN_PARQUET, Y_TEST_PARQUET\n",
    "from src.artifacts import load_df, load_obj"
   ]
  },
  {
   "cell_type": "code",
   "execution_count": null,
   "id": "928d3eb0",
   "metadata": {},
   "outputs": [],
   "source": [
    "import src.modelcreation\n",
    "importlib.reload(src.modelcreation)\n",
    "from src.modelcreation(\n",
    "    \n",
    ")\n",
    "\n"
   ]
  }
 ],
 "metadata": {
  "kernelspec": {
   "display_name": "aiml",
   "language": "python",
   "name": "python3"
  },
  "language_info": {
   "codemirror_mode": {
    "name": "ipython",
    "version": 3
   },
   "file_extension": ".py",
   "mimetype": "text/x-python",
   "name": "python",
   "nbconvert_exporter": "python",
   "pygments_lexer": "ipython3",
   "version": "3.10.18"
  }
 },
 "nbformat": 4,
 "nbformat_minor": 5
}
