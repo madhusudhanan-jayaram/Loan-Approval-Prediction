{
 "cells": [
  {
   "cell_type": "code",
   "execution_count": 56,
   "id": "d5ad1053",
   "metadata": {},
   "outputs": [],
   "source": [
    "import sys, os\n",
    "import importlib"
   ]
  },
  {
   "cell_type": "code",
   "execution_count": 57,
   "id": "496e4a91",
   "metadata": {},
   "outputs": [],
   "source": [
    "sys.path.append(os.path.abspath(\"..\"))"
   ]
  },
  {
   "cell_type": "code",
   "execution_count": null,
   "id": "9b0354ff",
   "metadata": {},
   "outputs": [],
   "source": [
    "import src.eda_univariate\n",
    "from src.artifacts import load_df, save_df\n",
    "importlib.reload(src.eda_univariate)\n",
    "from src.config import  ENCODED_PARQUET\n",
    "from src.eda_univariate import (\n",
    "    split_columns,\n",
    "    missing_values,\n",
    "    numeric_summary,\n",
    "    freq_table,\n",
    "    target_distribution,\n",
    ")\n"
   ]
  },
  {
   "cell_type": "code",
   "execution_count": 59,
   "id": "230d7109",
   "metadata": {},
   "outputs": [
    {
     "name": "stdout",
     "output_type": "stream",
     "text": [
      "Encoded shape: (614, 15)\n"
     ]
    },
    {
     "data": {
      "application/vnd.microsoft.datawrangler.viewer.v0+json": {
       "columns": [
        {
         "name": "index",
         "rawType": "int64",
         "type": "integer"
        },
        {
         "name": "ApplicantIncome",
         "rawType": "int64",
         "type": "integer"
        },
        {
         "name": "CoapplicantIncome",
         "rawType": "float64",
         "type": "float"
        },
        {
         "name": "LoanAmount",
         "rawType": "float64",
         "type": "float"
        },
        {
         "name": "Loan_Amount_Term",
         "rawType": "float64",
         "type": "float"
        },
        {
         "name": "Credit_History",
         "rawType": "float64",
         "type": "float"
        },
        {
         "name": "Gender_Male",
         "rawType": "bool",
         "type": "boolean"
        },
        {
         "name": "Married_Yes",
         "rawType": "bool",
         "type": "boolean"
        },
        {
         "name": "Dependents_1",
         "rawType": "bool",
         "type": "boolean"
        },
        {
         "name": "Dependents_2",
         "rawType": "bool",
         "type": "boolean"
        },
        {
         "name": "Dependents_3+",
         "rawType": "bool",
         "type": "boolean"
        },
        {
         "name": "Education_Not Graduate",
         "rawType": "bool",
         "type": "boolean"
        },
        {
         "name": "Self_Employed_Yes",
         "rawType": "bool",
         "type": "boolean"
        },
        {
         "name": "Property_Area_Semiurban",
         "rawType": "bool",
         "type": "boolean"
        },
        {
         "name": "Property_Area_Urban",
         "rawType": "bool",
         "type": "boolean"
        },
        {
         "name": "Loan_Status",
         "rawType": "int64",
         "type": "integer"
        }
       ],
       "ref": "874edb38-de3d-4dcc-a8b1-8d6796178ab8",
       "rows": [
        [
         "0",
         "5849",
         "0.0",
         "128.0",
         "360.0",
         "1.0",
         "True",
         "False",
         "False",
         "False",
         "False",
         "False",
         "False",
         "False",
         "True",
         "1"
        ],
        [
         "1",
         "4583",
         "1508.0",
         "128.0",
         "360.0",
         "1.0",
         "True",
         "True",
         "True",
         "False",
         "False",
         "False",
         "False",
         "False",
         "False",
         "0"
        ],
        [
         "2",
         "3000",
         "0.0",
         "66.0",
         "360.0",
         "1.0",
         "True",
         "True",
         "False",
         "False",
         "False",
         "False",
         "True",
         "False",
         "True",
         "1"
        ],
        [
         "3",
         "2583",
         "2358.0",
         "120.0",
         "360.0",
         "1.0",
         "True",
         "True",
         "False",
         "False",
         "False",
         "True",
         "False",
         "False",
         "True",
         "1"
        ],
        [
         "4",
         "6000",
         "0.0",
         "141.0",
         "360.0",
         "1.0",
         "True",
         "False",
         "False",
         "False",
         "False",
         "False",
         "False",
         "False",
         "True",
         "1"
        ]
       ],
       "shape": {
        "columns": 15,
        "rows": 5
       }
      },
      "text/html": [
       "<div>\n",
       "<style scoped>\n",
       "    .dataframe tbody tr th:only-of-type {\n",
       "        vertical-align: middle;\n",
       "    }\n",
       "\n",
       "    .dataframe tbody tr th {\n",
       "        vertical-align: top;\n",
       "    }\n",
       "\n",
       "    .dataframe thead th {\n",
       "        text-align: right;\n",
       "    }\n",
       "</style>\n",
       "<table border=\"1\" class=\"dataframe\">\n",
       "  <thead>\n",
       "    <tr style=\"text-align: right;\">\n",
       "      <th></th>\n",
       "      <th>ApplicantIncome</th>\n",
       "      <th>CoapplicantIncome</th>\n",
       "      <th>LoanAmount</th>\n",
       "      <th>Loan_Amount_Term</th>\n",
       "      <th>Credit_History</th>\n",
       "      <th>Gender_Male</th>\n",
       "      <th>Married_Yes</th>\n",
       "      <th>Dependents_1</th>\n",
       "      <th>Dependents_2</th>\n",
       "      <th>Dependents_3+</th>\n",
       "      <th>Education_Not Graduate</th>\n",
       "      <th>Self_Employed_Yes</th>\n",
       "      <th>Property_Area_Semiurban</th>\n",
       "      <th>Property_Area_Urban</th>\n",
       "      <th>Loan_Status</th>\n",
       "    </tr>\n",
       "  </thead>\n",
       "  <tbody>\n",
       "    <tr>\n",
       "      <th>0</th>\n",
       "      <td>5849</td>\n",
       "      <td>0.0</td>\n",
       "      <td>128.0</td>\n",
       "      <td>360.0</td>\n",
       "      <td>1.0</td>\n",
       "      <td>True</td>\n",
       "      <td>False</td>\n",
       "      <td>False</td>\n",
       "      <td>False</td>\n",
       "      <td>False</td>\n",
       "      <td>False</td>\n",
       "      <td>False</td>\n",
       "      <td>False</td>\n",
       "      <td>True</td>\n",
       "      <td>1</td>\n",
       "    </tr>\n",
       "    <tr>\n",
       "      <th>1</th>\n",
       "      <td>4583</td>\n",
       "      <td>1508.0</td>\n",
       "      <td>128.0</td>\n",
       "      <td>360.0</td>\n",
       "      <td>1.0</td>\n",
       "      <td>True</td>\n",
       "      <td>True</td>\n",
       "      <td>True</td>\n",
       "      <td>False</td>\n",
       "      <td>False</td>\n",
       "      <td>False</td>\n",
       "      <td>False</td>\n",
       "      <td>False</td>\n",
       "      <td>False</td>\n",
       "      <td>0</td>\n",
       "    </tr>\n",
       "    <tr>\n",
       "      <th>2</th>\n",
       "      <td>3000</td>\n",
       "      <td>0.0</td>\n",
       "      <td>66.0</td>\n",
       "      <td>360.0</td>\n",
       "      <td>1.0</td>\n",
       "      <td>True</td>\n",
       "      <td>True</td>\n",
       "      <td>False</td>\n",
       "      <td>False</td>\n",
       "      <td>False</td>\n",
       "      <td>False</td>\n",
       "      <td>True</td>\n",
       "      <td>False</td>\n",
       "      <td>True</td>\n",
       "      <td>1</td>\n",
       "    </tr>\n",
       "    <tr>\n",
       "      <th>3</th>\n",
       "      <td>2583</td>\n",
       "      <td>2358.0</td>\n",
       "      <td>120.0</td>\n",
       "      <td>360.0</td>\n",
       "      <td>1.0</td>\n",
       "      <td>True</td>\n",
       "      <td>True</td>\n",
       "      <td>False</td>\n",
       "      <td>False</td>\n",
       "      <td>False</td>\n",
       "      <td>True</td>\n",
       "      <td>False</td>\n",
       "      <td>False</td>\n",
       "      <td>True</td>\n",
       "      <td>1</td>\n",
       "    </tr>\n",
       "    <tr>\n",
       "      <th>4</th>\n",
       "      <td>6000</td>\n",
       "      <td>0.0</td>\n",
       "      <td>141.0</td>\n",
       "      <td>360.0</td>\n",
       "      <td>1.0</td>\n",
       "      <td>True</td>\n",
       "      <td>False</td>\n",
       "      <td>False</td>\n",
       "      <td>False</td>\n",
       "      <td>False</td>\n",
       "      <td>False</td>\n",
       "      <td>False</td>\n",
       "      <td>False</td>\n",
       "      <td>True</td>\n",
       "      <td>1</td>\n",
       "    </tr>\n",
       "  </tbody>\n",
       "</table>\n",
       "</div>"
      ],
      "text/plain": [
       "   ApplicantIncome  CoapplicantIncome  LoanAmount  Loan_Amount_Term  \\\n",
       "0             5849                0.0       128.0             360.0   \n",
       "1             4583             1508.0       128.0             360.0   \n",
       "2             3000                0.0        66.0             360.0   \n",
       "3             2583             2358.0       120.0             360.0   \n",
       "4             6000                0.0       141.0             360.0   \n",
       "\n",
       "   Credit_History  Gender_Male  Married_Yes  Dependents_1  Dependents_2  \\\n",
       "0             1.0         True        False         False         False   \n",
       "1             1.0         True         True          True         False   \n",
       "2             1.0         True         True         False         False   \n",
       "3             1.0         True         True         False         False   \n",
       "4             1.0         True        False         False         False   \n",
       "\n",
       "   Dependents_3+  Education_Not Graduate  Self_Employed_Yes  \\\n",
       "0          False                   False              False   \n",
       "1          False                   False              False   \n",
       "2          False                   False               True   \n",
       "3          False                    True              False   \n",
       "4          False                   False              False   \n",
       "\n",
       "   Property_Area_Semiurban  Property_Area_Urban  Loan_Status  \n",
       "0                    False                 True            1  \n",
       "1                    False                False            0  \n",
       "2                    False                 True            1  \n",
       "3                    False                 True            1  \n",
       "4                    False                 True            1  "
      ]
     },
     "execution_count": 59,
     "metadata": {},
     "output_type": "execute_result"
    }
   ],
   "source": [
    "df_enc = load_df(ENCODED_PARQUET)\n",
    "print(\"Encoded shape:\", df_enc.shape)\n",
    "df_enc.head()"
   ]
  },
  {
   "cell_type": "code",
   "execution_count": 60,
   "id": "d3173f0d",
   "metadata": {},
   "outputs": [
    {
     "name": "stdout",
     "output_type": "stream",
     "text": [
      "Numeric columns: ['ApplicantIncome', 'CoapplicantIncome', 'LoanAmount', 'Loan_Amount_Term', 'Credit_History', 'Gender_Male', 'Married_Yes', 'Dependents_1', 'Dependents_2', 'Dependents_3+', 'Education_Not Graduate', 'Self_Employed_Yes', 'Property_Area_Semiurban', 'Property_Area_Urban', 'Loan_Status']\n",
      "Categorical columns: []\n"
     ]
    }
   ],
   "source": [
    "quan, qual = split_columns(df_enc)\n",
    "\n",
    "print(\"Numeric columns:\", quan)\n",
    "print(\"Categorical columns:\", qual)"
   ]
  },
  {
   "cell_type": "code",
   "execution_count": 61,
   "id": "983e32f7",
   "metadata": {},
   "outputs": [
    {
     "name": "stdout",
     "output_type": "stream",
     "text": [
      "Numeric summary:\n"
     ]
    },
    {
     "data": {
      "application/vnd.microsoft.datawrangler.viewer.v0+json": {
       "columns": [
        {
         "name": "index",
         "rawType": "object",
         "type": "string"
        },
        {
         "name": "count",
         "rawType": "float64",
         "type": "float"
        },
        {
         "name": "mean",
         "rawType": "float64",
         "type": "float"
        },
        {
         "name": "std",
         "rawType": "float64",
         "type": "float"
        },
        {
         "name": "min",
         "rawType": "float64",
         "type": "float"
        },
        {
         "name": "25%",
         "rawType": "float64",
         "type": "float"
        },
        {
         "name": "50%",
         "rawType": "float64",
         "type": "float"
        },
        {
         "name": "75%",
         "rawType": "float64",
         "type": "float"
        },
        {
         "name": "max",
         "rawType": "float64",
         "type": "float"
        }
       ],
       "ref": "cba45ff5-8219-459f-b974-104b864dc260",
       "rows": [
        [
         "ApplicantIncome",
         "614.0",
         "5403.459283387622",
         "6109.041673387174",
         "150.0",
         "2877.5",
         "3812.5",
         "5795.0",
         "81000.0"
        ],
        [
         "CoapplicantIncome",
         "614.0",
         "1621.2457980271008",
         "2926.2483692241917",
         "0.0",
         "0.0",
         "1188.5",
         "2297.25",
         "41667.0"
        ],
        [
         "LoanAmount",
         "614.0",
         "145.75244299674267",
         "84.10723338042615",
         "9.0",
         "100.25",
         "128.0",
         "164.75",
         "700.0"
        ],
        [
         "Loan_Amount_Term",
         "614.0",
         "342.4104234527687",
         "64.42862906767301",
         "12.0",
         "360.0",
         "360.0",
         "360.0",
         "480.0"
        ],
        [
         "Credit_History",
         "614.0",
         "0.8550488599348535",
         "0.3523386063583013",
         "0.0",
         "1.0",
         "1.0",
         "1.0",
         "1.0"
        ],
        [
         "Loan_Status",
         "614.0",
         "0.6872964169381107",
         "0.4639726887180003",
         "0.0",
         "0.0",
         "1.0",
         "1.0",
         "1.0"
        ]
       ],
       "shape": {
        "columns": 8,
        "rows": 6
       }
      },
      "text/html": [
       "<div>\n",
       "<style scoped>\n",
       "    .dataframe tbody tr th:only-of-type {\n",
       "        vertical-align: middle;\n",
       "    }\n",
       "\n",
       "    .dataframe tbody tr th {\n",
       "        vertical-align: top;\n",
       "    }\n",
       "\n",
       "    .dataframe thead th {\n",
       "        text-align: right;\n",
       "    }\n",
       "</style>\n",
       "<table border=\"1\" class=\"dataframe\">\n",
       "  <thead>\n",
       "    <tr style=\"text-align: right;\">\n",
       "      <th></th>\n",
       "      <th>count</th>\n",
       "      <th>mean</th>\n",
       "      <th>std</th>\n",
       "      <th>min</th>\n",
       "      <th>25%</th>\n",
       "      <th>50%</th>\n",
       "      <th>75%</th>\n",
       "      <th>max</th>\n",
       "    </tr>\n",
       "  </thead>\n",
       "  <tbody>\n",
       "    <tr>\n",
       "      <th>ApplicantIncome</th>\n",
       "      <td>614.0</td>\n",
       "      <td>5403.459283</td>\n",
       "      <td>6109.041673</td>\n",
       "      <td>150.0</td>\n",
       "      <td>2877.50</td>\n",
       "      <td>3812.5</td>\n",
       "      <td>5795.00</td>\n",
       "      <td>81000.0</td>\n",
       "    </tr>\n",
       "    <tr>\n",
       "      <th>CoapplicantIncome</th>\n",
       "      <td>614.0</td>\n",
       "      <td>1621.245798</td>\n",
       "      <td>2926.248369</td>\n",
       "      <td>0.0</td>\n",
       "      <td>0.00</td>\n",
       "      <td>1188.5</td>\n",
       "      <td>2297.25</td>\n",
       "      <td>41667.0</td>\n",
       "    </tr>\n",
       "    <tr>\n",
       "      <th>LoanAmount</th>\n",
       "      <td>614.0</td>\n",
       "      <td>145.752443</td>\n",
       "      <td>84.107233</td>\n",
       "      <td>9.0</td>\n",
       "      <td>100.25</td>\n",
       "      <td>128.0</td>\n",
       "      <td>164.75</td>\n",
       "      <td>700.0</td>\n",
       "    </tr>\n",
       "    <tr>\n",
       "      <th>Loan_Amount_Term</th>\n",
       "      <td>614.0</td>\n",
       "      <td>342.410423</td>\n",
       "      <td>64.428629</td>\n",
       "      <td>12.0</td>\n",
       "      <td>360.00</td>\n",
       "      <td>360.0</td>\n",
       "      <td>360.00</td>\n",
       "      <td>480.0</td>\n",
       "    </tr>\n",
       "    <tr>\n",
       "      <th>Credit_History</th>\n",
       "      <td>614.0</td>\n",
       "      <td>0.855049</td>\n",
       "      <td>0.352339</td>\n",
       "      <td>0.0</td>\n",
       "      <td>1.00</td>\n",
       "      <td>1.0</td>\n",
       "      <td>1.00</td>\n",
       "      <td>1.0</td>\n",
       "    </tr>\n",
       "    <tr>\n",
       "      <th>Loan_Status</th>\n",
       "      <td>614.0</td>\n",
       "      <td>0.687296</td>\n",
       "      <td>0.463973</td>\n",
       "      <td>0.0</td>\n",
       "      <td>0.00</td>\n",
       "      <td>1.0</td>\n",
       "      <td>1.00</td>\n",
       "      <td>1.0</td>\n",
       "    </tr>\n",
       "  </tbody>\n",
       "</table>\n",
       "</div>"
      ],
      "text/plain": [
       "                   count         mean          std    min      25%     50%  \\\n",
       "ApplicantIncome    614.0  5403.459283  6109.041673  150.0  2877.50  3812.5   \n",
       "CoapplicantIncome  614.0  1621.245798  2926.248369    0.0     0.00  1188.5   \n",
       "LoanAmount         614.0   145.752443    84.107233    9.0   100.25   128.0   \n",
       "Loan_Amount_Term   614.0   342.410423    64.428629   12.0   360.00   360.0   \n",
       "Credit_History     614.0     0.855049     0.352339    0.0     1.00     1.0   \n",
       "Loan_Status        614.0     0.687296     0.463973    0.0     0.00     1.0   \n",
       "\n",
       "                       75%      max  \n",
       "ApplicantIncome    5795.00  81000.0  \n",
       "CoapplicantIncome  2297.25  41667.0  \n",
       "LoanAmount          164.75    700.0  \n",
       "Loan_Amount_Term    360.00    480.0  \n",
       "Credit_History        1.00      1.0  \n",
       "Loan_Status           1.00      1.0  "
      ]
     },
     "metadata": {},
     "output_type": "display_data"
    }
   ],
   "source": [
    "if quan:\n",
    "    print(\"Numeric summary:\")\n",
    "    display(numeric_summary(df_enc, quan))"
   ]
  },
  {
   "cell_type": "code",
   "execution_count": 62,
   "id": "104bc672",
   "metadata": {},
   "outputs": [],
   "source": [
    "if qual:\n",
    "    col = qual[0]\n",
    "    print(f\"Frequency table for {col}:\")\n",
    "    display(freq_table(df_enc, col))"
   ]
  },
  {
   "cell_type": "code",
   "execution_count": 63,
   "id": "3d90608c",
   "metadata": {},
   "outputs": [
    {
     "name": "stdout",
     "output_type": "stream",
     "text": [
      "Target distribution:\n"
     ]
    },
    {
     "data": {
      "application/vnd.microsoft.datawrangler.viewer.v0+json": {
       "columns": [
        {
         "name": "Loan_Status",
         "rawType": "int64",
         "type": "integer"
        },
        {
         "name": "Target_Dist",
         "rawType": "float64",
         "type": "float"
        }
       ],
       "ref": "9ccd260c-95dc-4444-a6cf-ee4dc60edebc",
       "rows": [
        [
         "1",
         "0.6872964169381107"
        ],
        [
         "0",
         "0.3127035830618892"
        ]
       ],
       "shape": {
        "columns": 1,
        "rows": 2
       }
      },
      "text/html": [
       "<div>\n",
       "<style scoped>\n",
       "    .dataframe tbody tr th:only-of-type {\n",
       "        vertical-align: middle;\n",
       "    }\n",
       "\n",
       "    .dataframe tbody tr th {\n",
       "        vertical-align: top;\n",
       "    }\n",
       "\n",
       "    .dataframe thead th {\n",
       "        text-align: right;\n",
       "    }\n",
       "</style>\n",
       "<table border=\"1\" class=\"dataframe\">\n",
       "  <thead>\n",
       "    <tr style=\"text-align: right;\">\n",
       "      <th></th>\n",
       "      <th>Target_Dist</th>\n",
       "    </tr>\n",
       "    <tr>\n",
       "      <th>Loan_Status</th>\n",
       "      <th></th>\n",
       "    </tr>\n",
       "  </thead>\n",
       "  <tbody>\n",
       "    <tr>\n",
       "      <th>1</th>\n",
       "      <td>0.687296</td>\n",
       "    </tr>\n",
       "    <tr>\n",
       "      <th>0</th>\n",
       "      <td>0.312704</td>\n",
       "    </tr>\n",
       "  </tbody>\n",
       "</table>\n",
       "</div>"
      ],
      "text/plain": [
       "             Target_Dist\n",
       "Loan_Status             \n",
       "1               0.687296\n",
       "0               0.312704"
      ]
     },
     "metadata": {},
     "output_type": "display_data"
    }
   ],
   "source": [
    "print(\"Target distribution:\")\n",
    "display(target_distribution(df_enc, \"Loan_Status\"))"
   ]
  }
 ],
 "metadata": {
  "kernelspec": {
   "display_name": "aiml",
   "language": "python",
   "name": "python3"
  },
  "language_info": {
   "codemirror_mode": {
    "name": "ipython",
    "version": 3
   },
   "file_extension": ".py",
   "mimetype": "text/x-python",
   "name": "python",
   "nbconvert_exporter": "python",
   "pygments_lexer": "ipython3",
   "version": "3.10.18"
  }
 },
 "nbformat": 4,
 "nbformat_minor": 5
}
