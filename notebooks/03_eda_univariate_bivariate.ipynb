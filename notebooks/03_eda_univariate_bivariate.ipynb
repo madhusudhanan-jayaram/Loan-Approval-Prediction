{
 "cells": [
  {
   "cell_type": "code",
   "execution_count": null,
   "id": "d5ad1053",
   "metadata": {},
   "outputs": [],
   "source": [
    "import sys, os\n",
    "import importlib\n",
    "import matplotlib.pyplot as plt\n",
    "import numpy as np"
   ]
  },
  {
   "cell_type": "code",
   "execution_count": null,
   "id": "496e4a91",
   "metadata": {},
   "outputs": [],
   "source": [
    "sys.path.append(os.path.abspath(\"..\"))"
   ]
  },
  {
   "cell_type": "code",
   "execution_count": null,
   "id": "9b0354ff",
   "metadata": {},
   "outputs": [],
   "source": [
    "import src.eda_univariate\n",
    "import src.eda_bivariate\n",
    "from src.artifacts import load_df\n",
    "from src.config import  CLEAN_PARQUET\n",
    "importlib.reload(src.eda_univariate)\n",
    "importlib.reload(src.eda_bivariate)\n",
    "from src.eda_univariate import (\n",
    "    target_distribution,\n",
    "    data_quality_report\n",
    ")\n",
    "from src.eda_bivariate import (\n",
    "    pointbiserial_analysis,categorical_analysis,approval_rate_by_feature,approval_summary,draw_business_insights\n",
    ")\n",
    "\n"
   ]
  },
  {
   "cell_type": "code",
   "execution_count": null,
   "id": "b71163e6",
   "metadata": {},
   "outputs": [],
   "source": [
    "df = load_df(CLEAN_PARQUET)\n",
    "print(\"Encoded shape:\", df.shape)\n",
    "df.head()"
   ]
  },
  {
   "cell_type": "code",
   "execution_count": null,
   "id": "af7bd1d3",
   "metadata": {},
   "outputs": [],
   "source": [
    "data_quality_report(df)"
   ]
  },
  {
   "cell_type": "code",
   "execution_count": null,
   "id": "ff0d143d",
   "metadata": {},
   "outputs": [],
   "source": [
    "target_distribution(df)"
   ]
  },
  {
   "cell_type": "code",
   "execution_count": null,
   "id": "d1a87338",
   "metadata": {},
   "outputs": [],
   "source": [
    "# Run for numeric features\n",
    "res = pointbiserial_analysis(df, target=\"Loan_Status_Y\",\n",
    "                             num_features=[\"ApplicantIncome\",\"CoapplicantIncome\",\"LoanAmount\",\"Loan_Amount_Term\"])\n",
    "\n",
    "print(res)"
   ]
  },
  {
   "cell_type": "code",
   "execution_count": null,
   "id": "6a866ae3",
   "metadata": {},
   "outputs": [],
   "source": [
    "cat_features = [\n",
    "    \"Dependents\",\"Credit_History\",\n",
    "    \"Gender_Male\",\"Married_Yes\",\"Education_Not Graduate\",\n",
    "    \"Self_Employed_Yes\",\"Property_Area_Semiurban\",\"Property_Area_Urban\"\n",
    "]\n",
    "res_cat = categorical_analysis(df, target=\"Loan_Status_Y\",\n",
    "                               cat_features=cat_features)\n",
    "\n",
    "for row in res_cat:\n",
    "    print(row)"
   ]
  },
  {
   "cell_type": "code",
   "execution_count": null,
   "id": "bd33a392",
   "metadata": {},
   "outputs": [],
   "source": [
    "# Approval by gender\n",
    "print(\"🔹 Approval Rate by Gender (using Gender_Male dummy):\")\n",
    "print(approval_rate_by_feature(df, \"Gender_Male\"))\n",
    "\n",
    "# Approval by credit history\n",
    "print(\"\\n🔹 Approval Rate by Credit History:\")\n",
    "print(approval_rate_by_feature(df, \"Credit_History\"))"
   ]
  },
  {
   "cell_type": "code",
   "execution_count": null,
   "id": "e8685401",
   "metadata": {},
   "outputs": [],
   "source": [
    "# Reconstruct Property_Area column from dummies\n",
    "df[\"Property_Area\"] = np.where(df[\"Property_Area_Urban\"] == 1, \"Urban\",\n",
    "                         np.where(df[\"Property_Area_Semiurban\"] == 1, \"Semiurban\", \"Rural\"))\n",
    "\n",
    "print(approval_summary(df, \"Property_Area\", target=\"Loan_Status_Y\"))\n"
   ]
  },
  {
   "cell_type": "code",
   "execution_count": null,
   "id": "15f3fce1",
   "metadata": {},
   "outputs": [],
   "source": [
    "draw_business_insights(df, target=\"Loan_Status_Y\")\n"
   ]
  }
 ],
 "metadata": {
  "kernelspec": {
   "display_name": "aiml",
   "language": "python",
   "name": "python3"
  },
  "language_info": {
   "codemirror_mode": {
    "name": "ipython",
    "version": 3
   },
   "file_extension": ".py",
   "mimetype": "text/x-python",
   "name": "python",
   "nbconvert_exporter": "python",
   "pygments_lexer": "ipython3",
   "version": "3.10.18"
  }
 },
 "nbformat": 4,
 "nbformat_minor": 5
}
