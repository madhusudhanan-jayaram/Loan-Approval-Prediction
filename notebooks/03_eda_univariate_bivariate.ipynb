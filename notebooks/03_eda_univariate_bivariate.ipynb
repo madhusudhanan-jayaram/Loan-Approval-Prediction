{
 "cells": [
  {
   "cell_type": "code",
   "execution_count": 1,
   "id": "d5ad1053",
   "metadata": {},
   "outputs": [],
   "source": [
    "import sys, os\n",
    "import importlib\n",
    "import matplotlib.pyplot as plt"
   ]
  },
  {
   "cell_type": "code",
   "execution_count": 2,
   "id": "496e4a91",
   "metadata": {},
   "outputs": [],
   "source": [
    "sys.path.append(os.path.abspath(\"..\"))"
   ]
  },
  {
   "cell_type": "code",
   "execution_count": null,
   "id": "9b0354ff",
   "metadata": {},
   "outputs": [],
   "source": [
    "import src.eda_univariate\n",
    "import src.eda_bivariate\n",
    "from src.artifacts import load_df\n",
    "from src.config import  CLEAN_PARQUET\n",
    "importlib.reload(src.eda_univariate)\n",
    "importlib.reload(src.eda_bivariate)\n",
    "from src.eda_univariate import (\n",
    "    target_distribution,\n",
    "    data_quality_report\n",
    ")\n",
    "from src.eda_bivariate import (\n",
    "    prepare_from_df,chi2_table, anova_table\n",
    ")\n",
    "\n"
   ]
  },
  {
   "cell_type": "code",
   "execution_count": 4,
   "id": "b71163e6",
   "metadata": {},
   "outputs": [
    {
     "name": "stdout",
     "output_type": "stream",
     "text": [
      "Encoded shape: (614, 13)\n"
     ]
    },
    {
     "data": {
      "application/vnd.microsoft.datawrangler.viewer.v0+json": {
       "columns": [
        {
         "name": "index",
         "rawType": "int64",
         "type": "integer"
        },
        {
         "name": "Dependents",
         "rawType": "float64",
         "type": "float"
        },
        {
         "name": "ApplicantIncome",
         "rawType": "int64",
         "type": "integer"
        },
        {
         "name": "CoapplicantIncome",
         "rawType": "float64",
         "type": "float"
        },
        {
         "name": "LoanAmount",
         "rawType": "float64",
         "type": "float"
        },
        {
         "name": "Loan_Amount_Term",
         "rawType": "float64",
         "type": "float"
        },
        {
         "name": "Credit_History",
         "rawType": "float64",
         "type": "float"
        },
        {
         "name": "Gender_Male",
         "rawType": "bool",
         "type": "boolean"
        },
        {
         "name": "Married_Yes",
         "rawType": "bool",
         "type": "boolean"
        },
        {
         "name": "Education_Not Graduate",
         "rawType": "bool",
         "type": "boolean"
        },
        {
         "name": "Self_Employed_Yes",
         "rawType": "bool",
         "type": "boolean"
        },
        {
         "name": "Property_Area_Semiurban",
         "rawType": "bool",
         "type": "boolean"
        },
        {
         "name": "Property_Area_Urban",
         "rawType": "bool",
         "type": "boolean"
        },
        {
         "name": "Loan_Status_Y",
         "rawType": "bool",
         "type": "boolean"
        }
       ],
       "ref": "f5b1914b-e5de-4bca-a5a4-8566f6cae723",
       "rows": [
        [
         "0",
         "0.0",
         "5849",
         "0.0",
         "128.0",
         "360.0",
         "1.0",
         "True",
         "False",
         "False",
         "False",
         "False",
         "True",
         "True"
        ],
        [
         "1",
         "1.0",
         "4583",
         "1508.0",
         "128.0",
         "360.0",
         "1.0",
         "True",
         "True",
         "False",
         "False",
         "False",
         "False",
         "False"
        ],
        [
         "2",
         "0.0",
         "3000",
         "0.0",
         "66.0",
         "360.0",
         "1.0",
         "True",
         "True",
         "False",
         "True",
         "False",
         "True",
         "True"
        ],
        [
         "3",
         "0.0",
         "2583",
         "2358.0",
         "120.0",
         "360.0",
         "1.0",
         "True",
         "True",
         "True",
         "False",
         "False",
         "True",
         "True"
        ],
        [
         "4",
         "0.0",
         "6000",
         "0.0",
         "141.0",
         "360.0",
         "1.0",
         "True",
         "False",
         "False",
         "False",
         "False",
         "True",
         "True"
        ]
       ],
       "shape": {
        "columns": 13,
        "rows": 5
       }
      },
      "text/html": [
       "<div>\n",
       "<style scoped>\n",
       "    .dataframe tbody tr th:only-of-type {\n",
       "        vertical-align: middle;\n",
       "    }\n",
       "\n",
       "    .dataframe tbody tr th {\n",
       "        vertical-align: top;\n",
       "    }\n",
       "\n",
       "    .dataframe thead th {\n",
       "        text-align: right;\n",
       "    }\n",
       "</style>\n",
       "<table border=\"1\" class=\"dataframe\">\n",
       "  <thead>\n",
       "    <tr style=\"text-align: right;\">\n",
       "      <th></th>\n",
       "      <th>Dependents</th>\n",
       "      <th>ApplicantIncome</th>\n",
       "      <th>CoapplicantIncome</th>\n",
       "      <th>LoanAmount</th>\n",
       "      <th>Loan_Amount_Term</th>\n",
       "      <th>Credit_History</th>\n",
       "      <th>Gender_Male</th>\n",
       "      <th>Married_Yes</th>\n",
       "      <th>Education_Not Graduate</th>\n",
       "      <th>Self_Employed_Yes</th>\n",
       "      <th>Property_Area_Semiurban</th>\n",
       "      <th>Property_Area_Urban</th>\n",
       "      <th>Loan_Status_Y</th>\n",
       "    </tr>\n",
       "  </thead>\n",
       "  <tbody>\n",
       "    <tr>\n",
       "      <th>0</th>\n",
       "      <td>0.0</td>\n",
       "      <td>5849</td>\n",
       "      <td>0.0</td>\n",
       "      <td>128.0</td>\n",
       "      <td>360.0</td>\n",
       "      <td>1.0</td>\n",
       "      <td>True</td>\n",
       "      <td>False</td>\n",
       "      <td>False</td>\n",
       "      <td>False</td>\n",
       "      <td>False</td>\n",
       "      <td>True</td>\n",
       "      <td>True</td>\n",
       "    </tr>\n",
       "    <tr>\n",
       "      <th>1</th>\n",
       "      <td>1.0</td>\n",
       "      <td>4583</td>\n",
       "      <td>1508.0</td>\n",
       "      <td>128.0</td>\n",
       "      <td>360.0</td>\n",
       "      <td>1.0</td>\n",
       "      <td>True</td>\n",
       "      <td>True</td>\n",
       "      <td>False</td>\n",
       "      <td>False</td>\n",
       "      <td>False</td>\n",
       "      <td>False</td>\n",
       "      <td>False</td>\n",
       "    </tr>\n",
       "    <tr>\n",
       "      <th>2</th>\n",
       "      <td>0.0</td>\n",
       "      <td>3000</td>\n",
       "      <td>0.0</td>\n",
       "      <td>66.0</td>\n",
       "      <td>360.0</td>\n",
       "      <td>1.0</td>\n",
       "      <td>True</td>\n",
       "      <td>True</td>\n",
       "      <td>False</td>\n",
       "      <td>True</td>\n",
       "      <td>False</td>\n",
       "      <td>True</td>\n",
       "      <td>True</td>\n",
       "    </tr>\n",
       "    <tr>\n",
       "      <th>3</th>\n",
       "      <td>0.0</td>\n",
       "      <td>2583</td>\n",
       "      <td>2358.0</td>\n",
       "      <td>120.0</td>\n",
       "      <td>360.0</td>\n",
       "      <td>1.0</td>\n",
       "      <td>True</td>\n",
       "      <td>True</td>\n",
       "      <td>True</td>\n",
       "      <td>False</td>\n",
       "      <td>False</td>\n",
       "      <td>True</td>\n",
       "      <td>True</td>\n",
       "    </tr>\n",
       "    <tr>\n",
       "      <th>4</th>\n",
       "      <td>0.0</td>\n",
       "      <td>6000</td>\n",
       "      <td>0.0</td>\n",
       "      <td>141.0</td>\n",
       "      <td>360.0</td>\n",
       "      <td>1.0</td>\n",
       "      <td>True</td>\n",
       "      <td>False</td>\n",
       "      <td>False</td>\n",
       "      <td>False</td>\n",
       "      <td>False</td>\n",
       "      <td>True</td>\n",
       "      <td>True</td>\n",
       "    </tr>\n",
       "  </tbody>\n",
       "</table>\n",
       "</div>"
      ],
      "text/plain": [
       "   Dependents  ApplicantIncome  CoapplicantIncome  LoanAmount  \\\n",
       "0         0.0             5849                0.0       128.0   \n",
       "1         1.0             4583             1508.0       128.0   \n",
       "2         0.0             3000                0.0        66.0   \n",
       "3         0.0             2583             2358.0       120.0   \n",
       "4         0.0             6000                0.0       141.0   \n",
       "\n",
       "   Loan_Amount_Term  Credit_History  Gender_Male  Married_Yes  \\\n",
       "0             360.0             1.0         True        False   \n",
       "1             360.0             1.0         True         True   \n",
       "2             360.0             1.0         True         True   \n",
       "3             360.0             1.0         True         True   \n",
       "4             360.0             1.0         True        False   \n",
       "\n",
       "   Education_Not Graduate  Self_Employed_Yes  Property_Area_Semiurban  \\\n",
       "0                   False              False                    False   \n",
       "1                   False              False                    False   \n",
       "2                   False               True                    False   \n",
       "3                    True              False                    False   \n",
       "4                   False              False                    False   \n",
       "\n",
       "   Property_Area_Urban  Loan_Status_Y  \n",
       "0                 True           True  \n",
       "1                False          False  \n",
       "2                 True           True  \n",
       "3                 True           True  \n",
       "4                 True           True  "
      ]
     },
     "execution_count": 4,
     "metadata": {},
     "output_type": "execute_result"
    }
   ],
   "source": [
    "df = load_df(CLEAN_PARQUET)\n",
    "print(\"Encoded shape:\", df.shape)\n",
    "df.head()"
   ]
  },
  {
   "cell_type": "code",
   "execution_count": 5,
   "id": "af7bd1d3",
   "metadata": {},
   "outputs": [
    {
     "name": "stdout",
     "output_type": "stream",
     "text": [
      "\n",
      "===== DATA QUALITY REPORT =====\n",
      "                         Missing Values  Missing %  Unique Values\n",
      "Dependents                            0        0.0              4\n",
      "ApplicantIncome                       0        0.0            505\n",
      "CoapplicantIncome                     0        0.0            287\n",
      "LoanAmount                            0        0.0            203\n",
      "Loan_Amount_Term                      0        0.0             10\n",
      "Credit_History                        0        0.0              2\n",
      "Gender_Male                           0        0.0              2\n",
      "Married_Yes                           0        0.0              2\n",
      "Education_Not Graduate                0        0.0              2\n",
      "Self_Employed_Yes                     0        0.0              2\n",
      "Property_Area_Semiurban               0        0.0              2\n",
      "Property_Area_Urban                   0        0.0              2\n",
      "Loan_Status_Y                         0        0.0              2\n",
      "\n",
      "👉 Business Insights:\n",
      "   - No column has extremely high missing values.\n",
      "   - 'Dependents' has very few categories → treat as categorical feature.\n",
      "   - 'Credit_History' has very few categories → treat as categorical feature.\n",
      "   - 'Gender_Male' has very few categories → treat as categorical feature.\n",
      "   - 'Married_Yes' has very few categories → treat as categorical feature.\n",
      "   - 'Education_Not Graduate' has very few categories → treat as categorical feature.\n",
      "   - 'Self_Employed_Yes' has very few categories → treat as categorical feature.\n",
      "   - 'Property_Area_Semiurban' has very few categories → treat as categorical feature.\n",
      "   - 'Property_Area_Urban' has very few categories → treat as categorical feature.\n",
      "   - 'Loan_Status_Y' has very few categories → treat as categorical feature.\n"
     ]
    }
   ],
   "source": [
    "data_quality_report(df)"
   ]
  },
  {
   "cell_type": "code",
   "execution_count": 6,
   "id": "ff0d143d",
   "metadata": {},
   "outputs": [
    {
     "name": "stdout",
     "output_type": "stream",
     "text": [
      "\n",
      "===== Target Variable: Loan_Status_Y =====\n",
      "               Count  Percent\n",
      "Loan_Status_Y                \n",
      "True             422    68.73\n",
      "False            192    31.27\n",
      "👉 Approval rate: NA% | Rejection rate: NA%\n"
     ]
    },
    {
     "data": {
      "image/png": "[encoded data removed]",
      "text/plain": [
       "<Figure size 640x480 with 1 Axes>"
      ]
     },
     "metadata": {},
     "output_type": "display_data"
    }
   ],
   "source": [
    "target_distribution(df)"
   ]
  },
  {
   "cell_type": "code",
   "execution_count": 7,
   "id": "9413dc33",
   "metadata": {},
   "outputs": [],
   "source": [
    "X, X_scaled, y = prepare_from_df(df, target=\"Loan_Status_Y\")\n"
   ]
  },
  {
   "cell_type": "code",
   "execution_count": 8,
   "id": "2f5839b1",
   "metadata": {},
   "outputs": [
    {
     "ename": "NameError",
     "evalue": "name 'chi2_table' is not defined",
     "output_type": "error",
     "traceback": [
      "\u001b[1;31m---------------------------------------------------------------------------\u001b[0m",
      "\u001b[1;31mNameError\u001b[0m                                 Traceback (most recent call last)",
      "Cell \u001b[1;32mIn[8], line 1\u001b[0m\n\u001b[1;32m----> 1\u001b[0m chi2_df \u001b[38;5;241m=\u001b[39m \u001b[43mchi2_table\u001b[49m(X_scaled, y, X\u001b[38;5;241m.\u001b[39mcolumns)\n\u001b[0;32m      2\u001b[0m anova_df \u001b[38;5;241m=\u001b[39m anova_table(X, y, X\u001b[38;5;241m.\u001b[39mcolumns)\n",
      "\u001b[1;31mNameError\u001b[0m: name 'chi2_table' is not defined"
     ]
    }
   ],
   "source": [
    "chi2_df = chi2_table(X_scaled, y, X.columns)\n",
    "anova_df = anova_table(X, y, X.columns)\n"
   ]
  },
  {
   "cell_type": "code",
   "execution_count": null,
   "id": "caeee958",
   "metadata": {},
   "outputs": [],
   "source": [
    "print_scorecard(anova_df, top_n=5, method=\"ANOVA\")\n",
    "print_scorecard(chi2_df, top_n=5, method=\"Chi2\")"
   ]
  }
 ],
 "metadata": {
  "kernelspec": {
   "display_name": "aiml",
   "language": "python",
   "name": "python3"
  },
  "language_info": {
   "codemirror_mode": {
    "name": "ipython",
    "version": 3
   },
   "file_extension": ".py",
   "mimetype": "text/x-python",
   "name": "python",
   "nbconvert_exporter": "python",
   "pygments_lexer": "ipython3",
   "version": "3.10.18"
  }
 },
 "nbformat": 4,
 "nbformat_minor": 5
}
