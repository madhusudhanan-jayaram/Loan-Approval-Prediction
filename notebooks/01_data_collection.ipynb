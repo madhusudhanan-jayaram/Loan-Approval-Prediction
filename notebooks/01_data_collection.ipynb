{
 "cells": [
  {
   "cell_type": "code",
   "execution_count": null,
   "id": "47facf7c",
   "metadata": {},
   "outputs": [],
   "source": [
    "import sys\n",
    "import os\n"
   ]
  },
  {
   "cell_type": "code",
   "execution_count": null,
   "id": "15e1445e",
   "metadata": {},
   "outputs": [],
   "source": [
    "sys.path.append(os.path.abspath(os.path.join(os.getcwd(), '..')))"
   ]
  },
  {
   "cell_type": "code",
   "execution_count": null,
   "id": "c8a756f5",
   "metadata": {},
   "outputs": [],
   "source": [
    "from src.data_collection import load_data, preview_data\n",
    "from src.artifacts import save_df\n",
    "from src.config import CSV_PATH, RAW_PARQUET"
   ]
  },
  {
   "cell_type": "code",
   "execution_count": null,
   "id": "93e3cb03",
   "metadata": {},
   "outputs": [],
   "source": [
    "df = load_data(CSV_PATH)\n",
    "preview_data(df, n=5)\n",
    "save_df(df, RAW_PARQUET)\n",
    "print(f\"✅ Saved raw data to: {RAW_PARQUET}\")"
   ]
  },
  {
   "cell_type": "code",
   "execution_count": null,
   "id": "be62a780",
   "metadata": {},
   "outputs": [],
   "source": [
    "df.info()"
   ]
  }
 ],
 "metadata": {
  "kernelspec": {
   "display_name": "aiml",
   "language": "python",
   "name": "python3"
  },
  "language_info": {
   "codemirror_mode": {
    "name": "ipython",
    "version": 3
   },
   "file_extension": ".py",
   "mimetype": "text/x-python",
   "name": "python",
   "nbconvert_exporter": "python",
   "pygments_lexer": "ipython3",
   "version": "3.10.18"
  }
 },
 "nbformat": 4,
 "nbformat_minor": 5
}
