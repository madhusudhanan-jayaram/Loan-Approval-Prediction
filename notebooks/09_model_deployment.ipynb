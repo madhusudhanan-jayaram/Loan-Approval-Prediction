{
 "cells": [
  {
   "cell_type": "code",
   "execution_count": null,
   "id": "f3d0b402",
   "metadata": {},
   "outputs": [],
   "source": [
    "import sys, os\n",
    "import importlib"
   ]
  },
  {
   "cell_type": "code",
   "execution_count": null,
   "id": "4bdc7a51",
   "metadata": {},
   "outputs": [],
   "source": [
    "sys.path.append(os.path.abspath(\"..\"))"
   ]
  },
  {
   "cell_type": "code",
   "execution_count": null,
   "id": "82b78fcb",
   "metadata": {},
   "outputs": [],
   "source": [
    "from src.config import  PRODUCTION_MODEL"
   ]
  },
  {
   "cell_type": "code",
   "execution_count": null,
   "id": "b7064f0b",
   "metadata": {},
   "outputs": [],
   "source": [
    "import src.deployments\n",
    "importlib.reload(src.deployments)\n",
    "from src.deployments import (\n",
    "    load_pickle_model\n",
    ")\n",
    "\n"
   ]
  },
  {
   "cell_type": "code",
   "execution_count": null,
   "id": "fd066b41",
   "metadata": {},
   "outputs": [
    {
     "ename": "FileNotFoundError",
     "evalue": "[Errno 2] No such file or directory: 'C:\\\\Users\\\\mukil\\\\Downloads\\\\Loan Approval Prediction\\\\Loan-Approval-Prediction\\\\artifacts\\\\production_model.pkl'",
     "output_type": "error",
     "traceback": [
      "\u001b[1;31m---------------------------------------------------------------------------\u001b[0m",
      "\u001b[1;31mFileNotFoundError\u001b[0m                         Traceback (most recent call last)",
      "Cell \u001b[1;32mIn[11], line 1\u001b[0m\n\u001b[1;32m----> 1\u001b[0m prod \u001b[38;5;241m=\u001b[39m \u001b[43mload_pickle_model\u001b[49m\u001b[43m(\u001b[49m\u001b[43mPRODUCTION_MODEL\u001b[49m\u001b[43m)\u001b[49m\n",
      "File \u001b[1;32mc:\\Users\\mukil\\Downloads\\Loan Approval Prediction\\Loan-Approval-Prediction\\src\\deployments.py:4\u001b[0m, in \u001b[0;36mload_pickle_model\u001b[1;34m(path)\u001b[0m\n\u001b[0;32m      3\u001b[0m \u001b[38;5;28;01mdef\u001b[39;00m\u001b[38;5;250m \u001b[39m\u001b[38;5;21mload_pickle_model\u001b[39m(path\u001b[38;5;241m=\u001b[39m\u001b[38;5;124m\"\u001b[39m\u001b[38;5;124martifacts/production_model.pkl\u001b[39m\u001b[38;5;124m\"\u001b[39m):\n\u001b[1;32m----> 4\u001b[0m     \u001b[38;5;28;01mwith\u001b[39;00m \u001b[38;5;28;43mopen\u001b[39;49m\u001b[43m(\u001b[49m\u001b[43mpath\u001b[49m\u001b[43m,\u001b[49m\u001b[43m \u001b[49m\u001b[38;5;124;43m\"\u001b[39;49m\u001b[38;5;124;43mrb\u001b[39;49m\u001b[38;5;124;43m\"\u001b[39;49m\u001b[43m)\u001b[49m \u001b[38;5;28;01mas\u001b[39;00m f:\n\u001b[0;32m      5\u001b[0m         \u001b[38;5;28;01mreturn\u001b[39;00m pickle\u001b[38;5;241m.\u001b[39mload(f)\n",
      "\u001b[1;31mFileNotFoundError\u001b[0m: [Errno 2] No such file or directory: 'C:\\\\Users\\\\mukil\\\\Downloads\\\\Loan Approval Prediction\\\\Loan-Approval-Prediction\\\\artifacts\\\\production_model.pkl'"
     ]
    }
   ],
   "source": [
    "prod = load_pickle_model(PRODUCTION_MODEL)\n"
   ]
  }
 ],
 "metadata": {
  "kernelspec": {
   "display_name": "aiml",
   "language": "python",
   "name": "python3"
  },
  "language_info": {
   "codemirror_mode": {
    "name": "ipython",
    "version": 3
   },
   "file_extension": ".py",
   "mimetype": "text/x-python",
   "name": "python",
   "nbconvert_exporter": "python",
   "pygments_lexer": "ipython3",
   "version": "3.10.18"
  }
 },
 "nbformat": 4,
 "nbformat_minor": 5
}
