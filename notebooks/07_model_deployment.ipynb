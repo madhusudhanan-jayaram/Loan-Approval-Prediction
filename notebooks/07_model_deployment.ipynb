{
 "cells": [
  {
   "cell_type": "code",
   "execution_count": 71,
   "id": "f3d0b402",
   "metadata": {},
   "outputs": [],
   "source": [
    "import sys, os\n",
    "import importlib\n",
    "import pandas as pd\n",
    "from IPython.display import display, HTML"
   ]
  },
  {
   "cell_type": "code",
   "execution_count": 72,
   "id": "4bdc7a51",
   "metadata": {},
   "outputs": [],
   "source": [
    "sys.path.append(os.path.abspath(\"..\"))"
   ]
  },
  {
   "cell_type": "code",
   "execution_count": null,
   "id": "b7064f0b",
   "metadata": {},
   "outputs": [],
   "source": [
    "import src.model_deployment\n",
    "importlib.reload(src.model_deployment)\n",
    "from src.model_deployment import (\n",
    "    predict\n",
    ")\n",
    "\n"
   ]
  },
  {
   "cell_type": "code",
   "execution_count": 74,
   "id": "fd066b41",
   "metadata": {},
   "outputs": [],
   "source": [
    "# 🧠 Example test data (replace with real unseen data)\n",
    "new_data = {\n",
    "    \"Gender\": [\"Male\", \"Female\"],\n",
    "    \"Married\": [\"Yes\", \"No\"],\n",
    "    \"Dependents\": [\"1\", \"0\"],\n",
    "    \"Education\": [\"Graduate\", \"Not Graduate\"],\n",
    "    \"Self_Employed\": [\"No\", \"Yes\"],\n",
    "    \"ApplicantIncome\": [5000, 3000],\n",
    "    \"CoapplicantIncome\": [0, 1500],\n",
    "    \"LoanAmount\": [128, 66],\n",
    "    \"Loan_Amount_Term\": [360, 120],\n",
    "    \"Credit_History\": [1, 0],\n",
    "    \"Property_Area\": [\"Urban\", \"Rural\"],\n",
    "}"
   ]
  },
  {
   "cell_type": "code",
   "execution_count": 75,
   "id": "2ebef08e",
   "metadata": {},
   "outputs": [
    {
     "name": "stdout",
     "output_type": "stream",
     "text": [
      "✅ Model loaded from: C:\\Users\\mukil\\Downloads\\Loan Approval Prediction\\Loan-Approval-Prediction\\artifacts\\logistic_regression_best.pkl\n"
     ]
    }
   ],
   "source": [
    "# Load trained model\n",
    "model = load_model()"
   ]
  },
  {
   "cell_type": "code",
   "execution_count": 76,
   "id": "aac34b6d",
   "metadata": {},
   "outputs": [
    {
     "name": "stdout",
     "output_type": "stream",
     "text": [
      "✅ Loaded model: logistic_regression_best.pkl | columns: 12\n"
     ]
    }
   ],
   "source": [
    "preds, probs = predict(new_data)"
   ]
  },
  {
   "cell_type": "code",
   "execution_count": 77,
   "id": "48ad2785",
   "metadata": {},
   "outputs": [],
   "source": [
    "# Convert results into a small DataFrame\n",
    "results_df = pd.DataFrame(new_data)\n",
    "results_df[\"Prediction\"] = [\"✅ Approved\" if p == 1 else \"❌ Rejected\" for p in preds]\n",
    "if probs is not None:\n",
    "    results_df[\"Confidence (%)\"] = (probs * 100).round(2)"
   ]
  },
  {
   "cell_type": "code",
   "execution_count": 78,
   "id": "59f33e32",
   "metadata": {},
   "outputs": [
    {
     "data": {
      "text/html": [
       "<h3>📊 Prediction Summary</h3>"
      ],
      "text/plain": [
       "<IPython.core.display.HTML object>"
      ]
     },
     "metadata": {},
     "output_type": "display_data"
    },
    {
     "data": {
      "text/html": [
       "<style type=\"text/css\">\n",
       "#T_d3c03 caption {\n",
       "  font-size: 18px;\n",
       "  font-weight: bold;\n",
       "  color: #2F4F4F;\n",
       "}\n",
       "#T_d3c03_row1_col12 {\n",
       "  background-color: #f8d7da;\n",
       "}\n",
       "</style>\n",
       "<table id=\"T_d3c03\">\n",
       "  <caption>💡 Loan Approval Prediction Results</caption>\n",
       "  <thead>\n",
       "    <tr>\n",
       "      <th id=\"T_d3c03_level0_col0\" class=\"col_heading level0 col0\" >Gender</th>\n",
       "      <th id=\"T_d3c03_level0_col1\" class=\"col_heading level0 col1\" >Married</th>\n",
       "      <th id=\"T_d3c03_level0_col2\" class=\"col_heading level0 col2\" >Dependents</th>\n",
       "      <th id=\"T_d3c03_level0_col3\" class=\"col_heading level0 col3\" >Education</th>\n",
       "      <th id=\"T_d3c03_level0_col4\" class=\"col_heading level0 col4\" >Self_Employed</th>\n",
       "      <th id=\"T_d3c03_level0_col5\" class=\"col_heading level0 col5\" >ApplicantIncome</th>\n",
       "      <th id=\"T_d3c03_level0_col6\" class=\"col_heading level0 col6\" >CoapplicantIncome</th>\n",
       "      <th id=\"T_d3c03_level0_col7\" class=\"col_heading level0 col7\" >LoanAmount</th>\n",
       "      <th id=\"T_d3c03_level0_col8\" class=\"col_heading level0 col8\" >Loan_Amount_Term</th>\n",
       "      <th id=\"T_d3c03_level0_col9\" class=\"col_heading level0 col9\" >Credit_History</th>\n",
       "      <th id=\"T_d3c03_level0_col10\" class=\"col_heading level0 col10\" >Property_Area</th>\n",
       "      <th id=\"T_d3c03_level0_col11\" class=\"col_heading level0 col11\" >Prediction</th>\n",
       "      <th id=\"T_d3c03_level0_col12\" class=\"col_heading level0 col12\" >Confidence (%)</th>\n",
       "    </tr>\n",
       "  </thead>\n",
       "  <tbody>\n",
       "    <tr>\n",
       "      <td id=\"T_d3c03_row0_col0\" class=\"data row0 col0\" >Male</td>\n",
       "      <td id=\"T_d3c03_row0_col1\" class=\"data row0 col1\" >Yes</td>\n",
       "      <td id=\"T_d3c03_row0_col2\" class=\"data row0 col2\" >1</td>\n",
       "      <td id=\"T_d3c03_row0_col3\" class=\"data row0 col3\" >Graduate</td>\n",
       "      <td id=\"T_d3c03_row0_col4\" class=\"data row0 col4\" >No</td>\n",
       "      <td id=\"T_d3c03_row0_col5\" class=\"data row0 col5\" >5000</td>\n",
       "      <td id=\"T_d3c03_row0_col6\" class=\"data row0 col6\" >0</td>\n",
       "      <td id=\"T_d3c03_row0_col7\" class=\"data row0 col7\" >128</td>\n",
       "      <td id=\"T_d3c03_row0_col8\" class=\"data row0 col8\" >360</td>\n",
       "      <td id=\"T_d3c03_row0_col9\" class=\"data row0 col9\" >1</td>\n",
       "      <td id=\"T_d3c03_row0_col10\" class=\"data row0 col10\" >Urban</td>\n",
       "      <td id=\"T_d3c03_row0_col11\" class=\"data row0 col11\" >✅ Approved</td>\n",
       "      <td id=\"T_d3c03_row0_col12\" class=\"data row0 col12\" >65.190000</td>\n",
       "    </tr>\n",
       "    <tr>\n",
       "      <td id=\"T_d3c03_row1_col0\" class=\"data row1 col0\" >Female</td>\n",
       "      <td id=\"T_d3c03_row1_col1\" class=\"data row1 col1\" >No</td>\n",
       "      <td id=\"T_d3c03_row1_col2\" class=\"data row1 col2\" >0</td>\n",
       "      <td id=\"T_d3c03_row1_col3\" class=\"data row1 col3\" >Not Graduate</td>\n",
       "      <td id=\"T_d3c03_row1_col4\" class=\"data row1 col4\" >Yes</td>\n",
       "      <td id=\"T_d3c03_row1_col5\" class=\"data row1 col5\" >3000</td>\n",
       "      <td id=\"T_d3c03_row1_col6\" class=\"data row1 col6\" >1500</td>\n",
       "      <td id=\"T_d3c03_row1_col7\" class=\"data row1 col7\" >66</td>\n",
       "      <td id=\"T_d3c03_row1_col8\" class=\"data row1 col8\" >120</td>\n",
       "      <td id=\"T_d3c03_row1_col9\" class=\"data row1 col9\" >0</td>\n",
       "      <td id=\"T_d3c03_row1_col10\" class=\"data row1 col10\" >Rural</td>\n",
       "      <td id=\"T_d3c03_row1_col11\" class=\"data row1 col11\" >❌ Rejected</td>\n",
       "      <td id=\"T_d3c03_row1_col12\" class=\"data row1 col12\" >20.550000</td>\n",
       "    </tr>\n",
       "  </tbody>\n",
       "</table>\n"
      ],
      "text/plain": [
       "<pandas.io.formats.style.Styler at 0x1aaffdebf10>"
      ]
     },
     "metadata": {},
     "output_type": "display_data"
    }
   ],
   "source": [
    "# Style the DataFrame\n",
    "styled = (\n",
    "    results_df.style\n",
    "    .hide(axis=\"index\")\n",
    "    .set_caption(\"💡 Loan Approval Prediction Results\")\n",
    "    .set_table_styles([\n",
    "        {\"selector\": \"caption\", \"props\": [(\"font-size\", \"18px\"), (\"font-weight\", \"bold\"), (\"color\", \"#2F4F4F\")]}\n",
    "    ])\n",
    "    .highlight_between(subset=\"Confidence (%)\", left=70, color=\"#d4edda\")\n",
    "    .highlight_between(subset=\"Confidence (%)\", right=50, color=\"#f8d7da\")\n",
    ")\n",
    "\n",
    "display(HTML(\"<h3>📊 Prediction Summary</h3>\"))\n",
    "display(styled)"
   ]
  }
 ],
 "metadata": {
  "kernelspec": {
   "display_name": "aiml",
   "language": "python",
   "name": "python3"
  },
  "language_info": {
   "codemirror_mode": {
    "name": "ipython",
    "version": 3
   },
   "file_extension": ".py",
   "mimetype": "text/x-python",
   "name": "python",
   "nbconvert_exporter": "python",
   "pygments_lexer": "ipython3",
   "version": "3.10.18"
  }
 },
 "nbformat": 4,
 "nbformat_minor": 5
}
