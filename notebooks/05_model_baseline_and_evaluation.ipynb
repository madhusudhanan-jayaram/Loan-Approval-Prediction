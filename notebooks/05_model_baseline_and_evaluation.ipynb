{
 "cells": [
  {
   "cell_type": "code",
   "execution_count": null,
   "id": "5e2a6b6b",
   "metadata": {},
   "outputs": [],
   "source": [
    "import sys, os\n",
    "import importlib\n",
    "import pandas as pd"
   ]
  },
  {
   "cell_type": "code",
   "execution_count": null,
   "id": "96f62174",
   "metadata": {},
   "outputs": [],
   "source": [
    "sys.path.append(os.path.abspath(\"..\"))"
   ]
  },
  {
   "cell_type": "code",
   "execution_count": null,
   "id": "142cab9a",
   "metadata": {},
   "outputs": [],
   "source": [
    "from src.config import  CLEAN_PARQUET, X_TRAIN_PARQUET, X_TEST_PARQUET, Y_TRAIN_PARQUET, Y_TEST_PARQUET\n",
    "from src.artifacts import load_df, load_obj"
   ]
  },
  {
   "cell_type": "code",
   "execution_count": null,
   "id": "928d3eb0",
   "metadata": {},
   "outputs": [],
   "source": [
    "import src.model_baseline_and_evaluation \n",
    "importlib.reload(src.model_baseline_and_evaluation )\n",
    "from src.model_baseline_and_evaluation import (\n",
    "    run_baseline_and_evaluation\n",
    ")"
   ]
  },
  {
   "cell_type": "code",
   "execution_count": null,
   "id": "09da3501",
   "metadata": {},
   "outputs": [],
   "source": [
    "df = load_df(CLEAN_PARQUET)"
   ]
  },
  {
   "cell_type": "code",
   "execution_count": null,
   "id": "120f77c1",
   "metadata": {},
   "outputs": [],
   "source": [
    "print(\"After dummies:\", df.shape)\n",
    "print(\"New columns:\", df.columns.tolist())"
   ]
  },
  {
   "cell_type": "code",
   "execution_count": null,
   "id": "f073c665",
   "metadata": {},
   "outputs": [],
   "source": [
    "run_baseline_and_evaluation(df, target=\"Loan_Status_Y\")"
   ]
  }
 ],
 "metadata": {
  "kernelspec": {
   "display_name": "aiml",
   "language": "python",
   "name": "python3"
  },
  "language_info": {
   "codemirror_mode": {
    "name": "ipython",
    "version": 3
   },
   "file_extension": ".py",
   "mimetype": "text/x-python",
   "name": "python",
   "nbconvert_exporter": "python",
   "pygments_lexer": "ipython3",
   "version": "3.10.18"
  }
 },
 "nbformat": 4,
 "nbformat_minor": 5
}
