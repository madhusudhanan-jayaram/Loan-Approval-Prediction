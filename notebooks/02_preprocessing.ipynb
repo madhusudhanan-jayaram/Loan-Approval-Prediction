{
 "cells": [
  {
   "cell_type": "code",
   "execution_count": 49,
   "id": "10b02d2c",
   "metadata": {},
   "outputs": [],
   "source": [
    "import sys, os"
   ]
  },
  {
   "cell_type": "code",
   "execution_count": 50,
   "id": "e0d1161f",
   "metadata": {},
   "outputs": [],
   "source": [
    "sys.path.append(os.path.abspath(\"..\"))"
   ]
  },
  {
   "cell_type": "code",
   "execution_count": 51,
   "id": "795c1443",
   "metadata": {},
   "outputs": [],
   "source": [
    "from src.artifacts import load_df, save_df\n",
    "from src.preprocessing import clean_data\n",
    "from src.config import  RAW_PARQUET, CLEAN_PARQUET"
   ]
  },
  {
   "cell_type": "code",
   "execution_count": 52,
   "id": "dcc67e5e",
   "metadata": {},
   "outputs": [],
   "source": [
    "TARGET_COL = \"Loan_Status\"  "
   ]
  },
  {
   "cell_type": "code",
   "execution_count": 53,
   "id": "ad4906da",
   "metadata": {},
   "outputs": [
    {
     "name": "stdout",
     "output_type": "stream",
     "text": [
      "Raw shape: (614, 13)\n"
     ]
    }
   ],
   "source": [
    "# 1) Load raw artifact\n",
    "df = load_df(RAW_PARQUET)\n",
    "print(\"Raw shape:\", df.shape)"
   ]
  },
  {
   "cell_type": "code",
   "execution_count": 54,
   "id": "c50dc398",
   "metadata": {},
   "outputs": [
    {
     "name": "stdout",
     "output_type": "stream",
     "text": [
      "After cleaning:      Dependents  ApplicantIncome  CoapplicantIncome  LoanAmount  \\\n",
      "0           0.0             5849                0.0       128.0   \n",
      "1           1.0             4583             1508.0       128.0   \n",
      "2           0.0             3000                0.0        66.0   \n",
      "3           0.0             2583             2358.0       120.0   \n",
      "4           0.0             6000                0.0       141.0   \n",
      "..          ...              ...                ...         ...   \n",
      "609         0.0             2900                0.0        71.0   \n",
      "610         3.0             4106                0.0        40.0   \n",
      "611         1.0             8072              240.0       253.0   \n",
      "612         2.0             7583                0.0       187.0   \n",
      "613         0.0             4583                0.0       133.0   \n",
      "\n",
      "     Loan_Amount_Term  Credit_History  Loan_Status  Gender_Male  Married_Yes  \\\n",
      "0               360.0             1.0          NaN         True        False   \n",
      "1               360.0             1.0          NaN         True         True   \n",
      "2               360.0             1.0          NaN         True         True   \n",
      "3               360.0             1.0          NaN         True         True   \n",
      "4               360.0             1.0          NaN         True        False   \n",
      "..                ...             ...          ...          ...          ...   \n",
      "609             360.0             1.0          NaN        False        False   \n",
      "610             180.0             1.0          NaN         True         True   \n",
      "611             360.0             1.0          NaN         True         True   \n",
      "612             360.0             1.0          NaN         True         True   \n",
      "613             360.0             0.0          NaN        False        False   \n",
      "\n",
      "     Education_Not Graduate  Self_Employed_Yes  Property_Area_Semiurban  \\\n",
      "0                     False              False                    False   \n",
      "1                     False              False                    False   \n",
      "2                     False               True                    False   \n",
      "3                      True              False                    False   \n",
      "4                     False              False                    False   \n",
      "..                      ...                ...                      ...   \n",
      "609                   False              False                    False   \n",
      "610                   False              False                    False   \n",
      "611                   False              False                    False   \n",
      "612                   False              False                    False   \n",
      "613                   False               True                     True   \n",
      "\n",
      "     Property_Area_Urban  \n",
      "0                   True  \n",
      "1                  False  \n",
      "2                   True  \n",
      "3                   True  \n",
      "4                   True  \n",
      "..                   ...  \n",
      "609                False  \n",
      "610                False  \n",
      "611                 True  \n",
      "612                 True  \n",
      "613                False  \n",
      "\n",
      "[614 rows x 13 columns]\n"
     ]
    }
   ],
   "source": [
    "# 2) Clean (drop Loan_ID, fix Dependents, map Loan_Status, fill missing)\n",
    "X_train, X_test, y_train, y_test, df_clean = clean_data(df)\n",
    "print(\"After cleaning:\", df_clean)"
   ]
  },
  {
   "cell_type": "code",
   "execution_count": 55,
   "id": "b9a19ac2",
   "metadata": {},
   "outputs": [
    {
     "name": "stdout",
     "output_type": "stream",
     "text": [
      "✅ Saved clean data to: C:\\Users\\mukil\\Downloads\\Loan Approval Prediction\\Loan-Approval-Prediction\\artifacts\\02_clean.parquet\n"
     ]
    }
   ],
   "source": [
    "# 3) Save clean artifact\n",
    "save_df(df_clean, RAW_PARQUET)\n",
    "print(f\"✅ Saved clean data to: {CLEAN_PARQUET}\")"
   ]
  }
 ],
 "metadata": {
  "kernelspec": {
   "display_name": "aiml",
   "language": "python",
   "name": "python3"
  },
  "language_info": {
   "codemirror_mode": {
    "name": "ipython",
    "version": 3
   },
   "file_extension": ".py",
   "mimetype": "text/x-python",
   "name": "python",
   "nbconvert_exporter": "python",
   "pygments_lexer": "ipython3",
   "version": "3.10.18"
  }
 },
 "nbformat": 4,
 "nbformat_minor": 5
}
