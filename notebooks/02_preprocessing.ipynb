{
 "cells": [
  {
   "cell_type": "code",
   "execution_count": 25,
   "id": "10b02d2c",
   "metadata": {},
   "outputs": [],
   "source": [
    "import sys, os"
   ]
  },
  {
   "cell_type": "code",
   "execution_count": 26,
   "id": "e0d1161f",
   "metadata": {},
   "outputs": [],
   "source": [
    "sys.path.append(os.path.abspath(\"..\"))"
   ]
  },
  {
   "cell_type": "code",
   "execution_count": null,
   "id": "795c1443",
   "metadata": {},
   "outputs": [],
   "source": [
    "from src.artifacts import load_df, save_df\n",
    "from src.preprocessing import clean_data\n",
    "from src.config import  RAW_PARQUET, CLEAN_PARQUET"
   ]
  },
  {
   "cell_type": "code",
   "execution_count": 28,
   "id": "dcc67e5e",
   "metadata": {},
   "outputs": [],
   "source": [
    "TARGET_COL = \"Loan_Status\"  "
   ]
  },
  {
   "cell_type": "code",
   "execution_count": 29,
   "id": "ad4906da",
   "metadata": {},
   "outputs": [
    {
     "name": "stdout",
     "output_type": "stream",
     "text": [
      "Raw shape: (614, 13)\n"
     ]
    }
   ],
   "source": [
    "# 1) Load raw artifact\n",
    "df = load_df(RAW_PARQUET)\n",
    "print(\"Raw shape:\", df.shape)"
   ]
  },
  {
   "cell_type": "code",
   "execution_count": 30,
   "id": "c50dc398",
   "metadata": {},
   "outputs": [
    {
     "ename": "NameError",
     "evalue": "name 'clean_data' is not defined",
     "output_type": "error",
     "traceback": [
      "\u001b[1;31m---------------------------------------------------------------------------\u001b[0m",
      "\u001b[1;31mNameError\u001b[0m                                 Traceback (most recent call last)",
      "Cell \u001b[1;32mIn[30], line 2\u001b[0m\n\u001b[0;32m      1\u001b[0m \u001b[38;5;66;03m# 2) Clean (drop Loan_ID, fix Dependents, map Loan_Status, fill missing)\u001b[39;00m\n\u001b[1;32m----> 2\u001b[0m df_clean \u001b[38;5;241m=\u001b[39m \u001b[43mclean_data\u001b[49m(df)\n\u001b[0;32m      3\u001b[0m \u001b[38;5;28mprint\u001b[39m(\u001b[38;5;124m\"\u001b[39m\u001b[38;5;124mAfter cleaning:\u001b[39m\u001b[38;5;124m\"\u001b[39m, df_clean\u001b[38;5;241m.\u001b[39mshape)\n",
      "\u001b[1;31mNameError\u001b[0m: name 'clean_data' is not defined"
     ]
    }
   ],
   "source": [
    "# 2) Clean (drop Loan_ID, fix Dependents, map Loan_Status, fill missing)\n",
    "df_clean = clean_data(df)\n",
    "print(\"After cleaning:\", df_clean.shape)"
   ]
  }
 ],
 "metadata": {
  "kernelspec": {
   "display_name": "aiml",
   "language": "python",
   "name": "python3"
  },
  "language_info": {
   "codemirror_mode": {
    "name": "ipython",
    "version": 3
   },
   "file_extension": ".py",
   "mimetype": "text/x-python",
   "name": "python",
   "nbconvert_exporter": "python",
   "pygments_lexer": "ipython3",
   "version": "3.10.18"
  }
 },
 "nbformat": 4,
 "nbformat_minor": 5
}
