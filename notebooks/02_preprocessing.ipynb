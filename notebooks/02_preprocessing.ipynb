{
 "cells": [
  {
   "cell_type": "code",
   "execution_count": 1,
   "id": "10b02d2c",
   "metadata": {},
   "outputs": [],
   "source": [
    "import sys, os\n",
    "import importlib\n",
    "import pandas as pd\n",
    "import numpy as np\n",
    "from sklearn.preprocessing import StandardScaler\n",
    "\n"
   ]
  },
  {
   "cell_type": "code",
   "execution_count": 2,
   "id": "e0d1161f",
   "metadata": {},
   "outputs": [],
   "source": [
    "sys.path.append(os.path.abspath(\"..\"))"
   ]
  },
  {
   "cell_type": "code",
   "execution_count": 3,
   "id": "795c1443",
   "metadata": {},
   "outputs": [],
   "source": [
    "import src.preprocessing\n",
    "from src.artifacts import load_df, save_df, save_obj\n",
    "importlib.reload(src.preprocessing)\n",
    "from src.config import  RAW_PARQUET, CLEAN_PARQUET,X_TRAIN_PARQUET, X_TEST_PARQUET, Y_TEST_PARQUET, Y_TRAIN_PARQUET, SCALAR_PARQUET\n",
    "from src.preprocessing import clean_data"
   ]
  },
  {
   "cell_type": "code",
   "execution_count": 4,
   "id": "dcc67e5e",
   "metadata": {},
   "outputs": [],
   "source": [
    "TARGET_COL = \"Loan_Status\"  "
   ]
  },
  {
   "cell_type": "code",
   "execution_count": 5,
   "id": "ad4906da",
   "metadata": {},
   "outputs": [
    {
     "name": "stdout",
     "output_type": "stream",
     "text": [
      "Raw shape: (614, 12)\n"
     ]
    }
   ],
   "source": [
    "# 1) Load raw artifact\n",
    "df = load_df(RAW_PARQUET)\n",
    "print(\"Raw shape:\", df.shape)"
   ]
  },
  {
   "cell_type": "code",
   "execution_count": 6,
   "id": "e223af46",
   "metadata": {},
   "outputs": [
    {
     "name": "stdout",
     "output_type": "stream",
     "text": [
      "     Gender Married  Dependents     Education Self_Employed  ApplicantIncome  \\\n",
      "0      Male      No         0.0      Graduate            No             5849   \n",
      "1      Male     Yes         1.0      Graduate            No             4583   \n",
      "2      Male     Yes         0.0      Graduate           Yes             3000   \n",
      "3      Male     Yes         0.0  Not Graduate            No             2583   \n",
      "4      Male      No         0.0      Graduate            No             6000   \n",
      "..      ...     ...         ...           ...           ...              ...   \n",
      "609  Female      No         0.0      Graduate            No             2900   \n",
      "610    Male     Yes         3.0      Graduate            No             4106   \n",
      "611    Male     Yes         1.0      Graduate            No             8072   \n",
      "612    Male     Yes         2.0      Graduate            No             7583   \n",
      "613  Female      No         0.0      Graduate           Yes             4583   \n",
      "\n",
      "     CoapplicantIncome  LoanAmount  Loan_Amount_Term  Credit_History  \\\n",
      "0                  0.0       128.0             360.0             1.0   \n",
      "1               1508.0       128.0             360.0             1.0   \n",
      "2                  0.0        66.0             360.0             1.0   \n",
      "3               2358.0       120.0             360.0             1.0   \n",
      "4                  0.0       141.0             360.0             1.0   \n",
      "..                 ...         ...               ...             ...   \n",
      "609                0.0        71.0             360.0             1.0   \n",
      "610                0.0        40.0             180.0             1.0   \n",
      "611              240.0       253.0             360.0             1.0   \n",
      "612                0.0       187.0             360.0             1.0   \n",
      "613                0.0       133.0             360.0             0.0   \n",
      "\n",
      "    Property_Area Loan_Status  \n",
      "0           Urban           Y  \n",
      "1           Rural           N  \n",
      "2           Urban           Y  \n",
      "3           Urban           Y  \n",
      "4           Urban           Y  \n",
      "..            ...         ...  \n",
      "609         Rural           Y  \n",
      "610         Rural           Y  \n",
      "611         Urban           Y  \n",
      "612         Urban           Y  \n",
      "613     Semiurban           N  \n",
      "\n",
      "[614 rows x 12 columns]\n",
      "After dummies: (614, 13)\n",
      "New columns: ['Dependents', 'ApplicantIncome', 'CoapplicantIncome', 'LoanAmount', 'Loan_Amount_Term', 'Credit_History', 'Gender_Male', 'Married_Yes', 'Education_Not Graduate', 'Self_Employed_Yes', 'Property_Area_Semiurban', 'Property_Area_Urban', 'Loan_Status_Y']\n",
      "Shape of full dataset: (614, 13)\n",
      "Shape of Features (indep_X): (614, 12)\n",
      "Shape of Target (dep_Y): (614,)\n",
      "\n",
      "Independent Variables (X):\n",
      "   Dependents  ApplicantIncome  CoapplicantIncome  LoanAmount  \\\n",
      "0         0.0             5849                0.0       128.0   \n",
      "1         1.0             4583             1508.0       128.0   \n",
      "2         0.0             3000                0.0        66.0   \n",
      "3         0.0             2583             2358.0       120.0   \n",
      "4         0.0             6000                0.0       141.0   \n",
      "\n",
      "   Loan_Amount_Term  Credit_History  Gender_Male  Married_Yes  \\\n",
      "0             360.0             1.0         True        False   \n",
      "1             360.0             1.0         True         True   \n",
      "2             360.0             1.0         True         True   \n",
      "3             360.0             1.0         True         True   \n",
      "4             360.0             1.0         True        False   \n",
      "\n",
      "   Education_Not Graduate  Self_Employed_Yes  Property_Area_Semiurban  \\\n",
      "0                   False              False                    False   \n",
      "1                   False              False                    False   \n",
      "2                   False               True                    False   \n",
      "3                    True              False                    False   \n",
      "4                   False              False                    False   \n",
      "\n",
      "   Property_Area_Urban  \n",
      "0                 True  \n",
      "1                False  \n",
      "2                 True  \n",
      "3                 True  \n",
      "4                 True  \n",
      "\n",
      "Dependent Variable (y):\n",
      "0     True\n",
      "1    False\n",
      "2     True\n",
      "3     True\n",
      "4     True\n",
      "Name: Loan_Status_Y, dtype: bool\n"
     ]
    }
   ],
   "source": [
    "# 2) Do preprocessing\n",
    "print (df)\n",
    "df_clean = clean_data(df)"
   ]
  },
  {
   "cell_type": "code",
   "execution_count": 7,
   "id": "b9a19ac2",
   "metadata": {},
   "outputs": [
    {
     "name": "stdout",
     "output_type": "stream",
     "text": [
      "✅ Saved clean data to: C:\\Users\\mukil\\Downloads\\Loan Approval Prediction\\Loan-Approval-Prediction\\artifacts\\02_clean.parquet\n"
     ]
    }
   ],
   "source": [
    "# 3) Save clean artifact\n",
    "save_df(df_clean, CLEAN_PARQUET)\n",
    "print(f\"✅ Saved clean data to: {CLEAN_PARQUET}\")"
   ]
  }
 ],
 "metadata": {
  "kernelspec": {
   "display_name": "aiml",
   "language": "python",
   "name": "python3"
  },
  "language_info": {
   "codemirror_mode": {
    "name": "ipython",
    "version": 3
   },
   "file_extension": ".py",
   "mimetype": "text/x-python",
   "name": "python",
   "nbconvert_exporter": "python",
   "pygments_lexer": "ipython3",
   "version": "3.10.18"
  }
 },
 "nbformat": 4,
 "nbformat_minor": 5
}
