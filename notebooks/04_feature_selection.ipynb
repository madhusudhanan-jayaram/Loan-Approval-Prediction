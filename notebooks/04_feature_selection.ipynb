{
 "cells": [
  {
   "cell_type": "code",
   "execution_count": null,
   "id": "77f41cb2",
   "metadata": {},
   "outputs": [],
   "source": [
    "import sys, os\n",
    "import importlib\n",
    "import pandas as pd\n",
    "from sklearn.feature_selection import SelectKBest, chi2\n",
    "from sklearn.preprocessing import MinMaxScaler\n"
   ]
  },
  {
   "cell_type": "code",
   "execution_count": 13,
   "id": "12dfb0d4",
   "metadata": {},
   "outputs": [],
   "source": [
    "sys.path.append(os.path.abspath(\"..\"))"
   ]
  },
  {
   "cell_type": "code",
   "execution_count": 14,
   "id": "3f0fc892",
   "metadata": {},
   "outputs": [],
   "source": [
    "from src.config import  CLEAN_PARQUET, X_TRAIN_PARQUET, X_TEST_PARQUET, Y_TRAIN_PARQUET, Y_TEST_PARQUET\n",
    "from src.artifacts import load_df, load_obj"
   ]
  },
  {
   "cell_type": "code",
   "execution_count": 15,
   "id": "7ded08ec",
   "metadata": {},
   "outputs": [
    {
     "data": {
      "text/plain": [
       "<module 'src.feature_selection' from 'c:\\\\Users\\\\mukil\\\\Downloads\\\\Loan Approval Prediction\\\\Loan-Approval-Prediction\\\\src\\\\feature_selection.py'>"
      ]
     },
     "execution_count": 15,
     "metadata": {},
     "output_type": "execute_result"
    }
   ],
   "source": [
    "import src.feature_selection\n",
    "importlib.reload(src.feature_selection)\n"
   ]
  },
  {
   "cell_type": "code",
   "execution_count": 16,
   "id": "f5c1cf48",
   "metadata": {},
   "outputs": [],
   "source": [
    "df = load_df(CLEAN_PARQUET)\n",
    "X_train = load_obj(X_TRAIN_PARQUET)\n",
    "X_test = load_obj(X_TEST_PARQUET)\n",
    "y_train = load_obj(Y_TRAIN_PARQUET)\n",
    "y_test = load_obj(Y_TEST_PARQUET)"
   ]
  },
  {
   "cell_type": "code",
   "execution_count": null,
   "id": "fcb749de",
   "metadata": {},
   "outputs": [
    {
     "name": "stdout",
     "output_type": "stream",
     "text": [
      "Shape of full dataset: (614, 13)\n",
      "Shape of Features (indep_X): (614, 12)\n",
      "Shape of Target (dep_Y): (614,)\n",
      "\n",
      "Independent Variables (X):\n",
      "   Dependents  ApplicantIncome  CoapplicantIncome  LoanAmount  \\\n",
      "0         0.0             5849                0.0       128.0   \n",
      "1         1.0             4583             1508.0       128.0   \n",
      "2         0.0             3000                0.0        66.0   \n",
      "3         0.0             2583             2358.0       120.0   \n",
      "4         0.0             6000                0.0       141.0   \n",
      "\n",
      "   Loan_Amount_Term  Credit_History  Gender_Male  Married_Yes  \\\n",
      "0             360.0             1.0         True        False   \n",
      "1             360.0             1.0         True         True   \n",
      "2             360.0             1.0         True         True   \n",
      "3             360.0             1.0         True         True   \n",
      "4             360.0             1.0         True        False   \n",
      "\n",
      "   Education_Not Graduate  Self_Employed_Yes  Property_Area_Semiurban  \\\n",
      "0                   False              False                    False   \n",
      "1                   False              False                    False   \n",
      "2                   False               True                    False   \n",
      "3                    True              False                    False   \n",
      "4                   False              False                    False   \n",
      "\n",
      "   Property_Area_Urban  \n",
      "0                 True  \n",
      "1                False  \n",
      "2                 True  \n",
      "3                 True  \n",
      "4                 True  \n",
      "\n",
      "Dependent Variable (y):\n",
      "0     True\n",
      "1    False\n",
      "2     True\n",
      "3     True\n",
      "4     True\n",
      "Name: Loan_Status_Y, dtype: bool\n"
     ]
    },
    {
     "ename": "NameError",
     "evalue": "name 'X' is not defined",
     "output_type": "error",
     "traceback": [
      "\u001b[1;31m---------------------------------------------------------------------------\u001b[0m",
      "\u001b[1;31mNameError\u001b[0m                                 Traceback (most recent call last)",
      "Cell \u001b[1;32mIn[17], line 17\u001b[0m\n\u001b[0;32m     15\u001b[0m \u001b[38;5;66;03m# Step 1: Scale features (important for chi2 which expects non-negative values)\u001b[39;00m\n\u001b[0;32m     16\u001b[0m scaler \u001b[38;5;241m=\u001b[39m MinMaxScaler()\n\u001b[1;32m---> 17\u001b[0m X_scaled \u001b[38;5;241m=\u001b[39m scaler\u001b[38;5;241m.\u001b[39mfit_transform(\u001b[43mX\u001b[49m)\n\u001b[0;32m     19\u001b[0m \u001b[38;5;66;03m# Step 2: Select top K features using chi2\u001b[39;00m\n\u001b[0;32m     20\u001b[0m k \u001b[38;5;241m=\u001b[39m \u001b[38;5;241m5\u001b[39m  \u001b[38;5;66;03m# change this to however many you want\u001b[39;00m\n",
      "\u001b[1;31mNameError\u001b[0m: name 'X' is not defined"
     ]
    }
   ],
   "source": [
    "indep_X = df.drop('Loan_Status_Y', axis=1)\n",
    "dep_Y = df['Loan_Status_Y']\n",
    "# Print shapes\n",
    "print(\"Shape of full dataset:\", df.shape)\n",
    "print(\"Shape of Features (indep_X):\", indep_X.shape)\n",
    "print(\"Shape of Target (dep_Y):\", dep_Y.shape)\n",
    "\n",
    "# Print first few rows of features\n",
    "print(\"\\nIndependent Variables (X):\")\n",
    "print(indep_X.head())\n",
    "\n",
    "# Print first few rows of target\n",
    "print(\"\\nDependent Variable (y):\")\n",
    "print(dep_Y.head())\n",
    "# Step 1: Scale features (important for chi2 which expects non-negative values)\n",
    "scaler = MinMaxScaler()\n",
    "X_scaled = scaler.fit_transform(indep_X)\n",
    "\n",
    "# Step 2: Select top K features using chi2\n",
    "k = 5  # change this to however many you want\n",
    "selector = SelectKBest(score_func=chi2, k=k)\n",
    "X_new = selector.fit_transform(X_scaled, dep_Y)\n",
    "\n",
    "# Step 3: Get the selected feature names\n",
    "selected_features = indep_X.columns[selector.get_support()]\n",
    "print(f\"Top {k} features selected:\")\n",
    "print(selected_features)\n",
    "\n",
    "# Optional: Pair features with their scores\n",
    "feature_scores = pd.DataFrame({\n",
    "    \"Feature\": indep_X.columns,\n",
    "    \"Chi2 Score\": selector.scores_,\n",
    "    \"Selected\": selector.get_support()\n",
    "})\n",
    "print(feature_scores.sort_values(by=\"Chi2 Score\", ascending=False))"
   ]
  },
  {
   "cell_type": "code",
   "execution_count": null,
   "id": "06e71ccf",
   "metadata": {},
   "outputs": [],
   "source": [
    "# Initialize empty lists to store accuracy results for each classifier\n",
    "# (We will append model accuracies after training each model)\n",
    "\n",
    "acclog = []     # Logistic Regression accuracies\n",
    "accsvml = []    # Support Vector Machine (Linear kernel) accuracies\n",
    "accsvmnl = []   # Support Vector Machine (Non-linear, RBF kernel) accuracies\n",
    "accknn = []     # K-Nearest Neighbors accuracies\n",
    "accnav = []     # Naive Bayes accuracies\n",
    "accdes = []     # Decision Tree accuracies\n",
    "accrf = []      # Random Forest accuracies"
   ]
  },
  {
   "cell_type": "code",
   "execution_count": null,
   "id": "d6ffa45c",
   "metadata": {},
   "outputs": [
    {
     "ename": "NameError",
     "evalue": "name 'y_test' is not defined",
     "output_type": "error",
     "traceback": [
      "\u001b[1;31m---------------------------------------------------------------------------\u001b[0m",
      "\u001b[1;31mNameError\u001b[0m                                 Traceback (most recent call last)",
      "Cell \u001b[1;32mIn[135], line 2\u001b[0m\n\u001b[0;32m      1\u001b[0m \u001b[38;5;66;03m# Train Logistic Regression and get accuracy\u001b[39;00m\n\u001b[1;32m----> 2\u001b[0m classifier, Accuracy, report, X_test, y_test, cm \u001b[38;5;241m=\u001b[39m \u001b[43mlogistic\u001b[49m\u001b[43m(\u001b[49m\u001b[43mX_train\u001b[49m\u001b[43m,\u001b[49m\u001b[43m \u001b[49m\u001b[43my_train\u001b[49m\u001b[43m,\u001b[49m\u001b[43m \u001b[49m\u001b[43mX_test\u001b[49m\u001b[43m)\u001b[49m\n\u001b[0;32m      3\u001b[0m \u001b[38;5;66;03m# Save accuracy in list for later comparison\u001b[39;00m\n\u001b[0;32m      4\u001b[0m acclog\u001b[38;5;241m.\u001b[39mappend(Accuracy)\n",
      "File \u001b[1;32mc:\\Users\\mukil\\Downloads\\Loan Approval Prediction\\Loan-Approval-Prediction\\src\\feature_selection.py:108\u001b[0m, in \u001b[0;36mlogistic\u001b[1;34m(X_train, y_train, X_test)\u001b[0m\n\u001b[0;32m    106\u001b[0m classifier \u001b[38;5;241m=\u001b[39m LogisticRegression(random_state \u001b[38;5;241m=\u001b[39m \u001b[38;5;241m0\u001b[39m)\n\u001b[0;32m    107\u001b[0m classifier\u001b[38;5;241m.\u001b[39mfit(X_train, y_train)\n\u001b[1;32m--> 108\u001b[0m classifier,Accuracy,report,X_test,y_test,cm\u001b[38;5;241m=\u001b[39m\u001b[43mcm_prediction\u001b[49m\u001b[43m(\u001b[49m\u001b[43mclassifier\u001b[49m\u001b[43m,\u001b[49m\u001b[43mX_test\u001b[49m\u001b[43m)\u001b[49m\n\u001b[0;32m    109\u001b[0m \u001b[38;5;28;01mreturn\u001b[39;00m  classifier,Accuracy,report,X_test,y_test,cm\n",
      "File \u001b[1;32mc:\\Users\\mukil\\Downloads\\Loan Approval Prediction\\Loan-Approval-Prediction\\src\\feature_selection.py:188\u001b[0m, in \u001b[0;36mcm_prediction\u001b[1;34m(classifier, X_test)\u001b[0m\n\u001b[0;32m      0\u001b[0m <Error retrieving source code with stack_data see ipython/ipython#13598>\n",
      "\u001b[1;31mNameError\u001b[0m: name 'y_test' is not defined"
     ]
    }
   ],
   "source": [
    "# Train Logistic Regression and get accuracy\n",
    "classifier, Accuracy, report, X_test, y_test, cm = logistic(X_train, y_train, X_test)\n",
    "# Save accuracy in list for later comparison\n",
    "acclog.append(Accuracy)"
   ]
  },
  {
   "cell_type": "code",
   "execution_count": null,
   "id": "40673b7e",
   "metadata": {},
   "outputs": [],
   "source": [
    "# Train SVM with linear kernel and get accuracy\n",
    "classifier, Accuracy, report, X_test, y_test, cm = svm_linear(X_train, y_train, X_test)\n",
    "# Save accuracy in list for later comparison\n",
    "accsvml.append(Accuracy)"
   ]
  },
  {
   "cell_type": "code",
   "execution_count": null,
   "id": "7df865b0",
   "metadata": {},
   "outputs": [],
   "source": [
    "# Run Non-Linear SVM and get results\n",
    "classifier, Accuracy, report, X_test, y_test, cm = svm_NL(X_train, y_train, X_test)\n",
    "# Store accuracy in the list\n",
    "accsvmnl.append(Accuracy)"
   ]
  },
  {
   "cell_type": "code",
   "execution_count": null,
   "id": "134457fa",
   "metadata": {},
   "outputs": [],
   "source": [
    "# Run KNN classifier and get results\n",
    "classifier, Accuracy, report, X_test, y_test, cm = knn(X_train, y_train, X_test)\n",
    "# Store accuracy in the list\n",
    "accknn.append(Accuracy)"
   ]
  },
  {
   "cell_type": "code",
   "execution_count": null,
   "id": "7eff164b",
   "metadata": {},
   "outputs": [],
   "source": [
    "# Run Naive Bayes classifier and get results\n",
    "classifier, Accuracy, report, X_test, y_test, cm = Navie(X_train, y_train, X_test)\n",
    "# Store accuracy in the list\n",
    "accnav.append(Accuracy)"
   ]
  },
  {
   "cell_type": "code",
   "execution_count": null,
   "id": "6c1138be",
   "metadata": {},
   "outputs": [],
   "source": [
    "# Run Decision Tree classifier and get results\n",
    "classifier, Accuracy, report, X_test, y_test, cm = Decision(X_train, y_train, X_test)\n",
    "# Store accuracy in the list\n",
    "accdes.append(Accuracy)"
   ]
  },
  {
   "cell_type": "code",
   "execution_count": null,
   "id": "212b03d5",
   "metadata": {},
   "outputs": [],
   "source": [
    "# Run Random Forest classifier and get results\n",
    "classifier, Accuracy, report, X_test, y_test, cm = random(X_train, y_train, X_test)\n",
    "# Store accuracy in the list\n",
    "accrf.append(Accuracy)"
   ]
  },
  {
   "cell_type": "code",
   "execution_count": null,
   "id": "76f247ed",
   "metadata": {},
   "outputs": [],
   "source": [
    "# Collect all classifier accuracies and select the best one\n",
    "result = selectk_Classification(acclog, accsvml, accsvmnl, accknn, accnav, accdes, accrf)"
   ]
  },
  {
   "cell_type": "code",
   "execution_count": null,
   "id": "c8d4cf03",
   "metadata": {},
   "outputs": [],
   "source": [
    "result"
   ]
  },
  {
   "cell_type": "code",
   "execution_count": null,
   "id": "282e1f53",
   "metadata": {},
   "outputs": [],
   "source": [
    "plot_result_table(pd.DataFrame(result, index=[\"ChiSquare\"]))\n"
   ]
  }
 ],
 "metadata": {
  "kernelspec": {
   "display_name": "aiml",
   "language": "python",
   "name": "python3"
  },
  "language_info": {
   "codemirror_mode": {
    "name": "ipython",
    "version": 3
   },
   "file_extension": ".py",
   "mimetype": "text/x-python",
   "name": "python",
   "nbconvert_exporter": "python",
   "pygments_lexer": "ipython3",
   "version": "3.10.18"
  }
 },
 "nbformat": 4,
 "nbformat_minor": 5
}
