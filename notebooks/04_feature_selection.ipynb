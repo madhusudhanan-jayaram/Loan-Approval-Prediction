{
 "cells": [
  {
   "cell_type": "code",
   "execution_count": 42,
   "id": "77f41cb2",
   "metadata": {},
   "outputs": [],
   "source": [
    "import sys, os\n",
    "import importlib\n",
    "import pandas as pd\n",
    "from sklearn.feature_selection import SelectKBest, chi2\n",
    "from sklearn.preprocessing import MinMaxScaler\n"
   ]
  },
  {
   "cell_type": "code",
   "execution_count": 43,
   "id": "12dfb0d4",
   "metadata": {},
   "outputs": [],
   "source": [
    "sys.path.append(os.path.abspath(\"..\"))"
   ]
  },
  {
   "cell_type": "code",
   "execution_count": 44,
   "id": "3f0fc892",
   "metadata": {},
   "outputs": [],
   "source": [
    "from src.config import  CLEAN_PARQUET, X_TRAIN_PARQUET, X_TEST_PARQUET, Y_TRAIN_PARQUET, Y_TEST_PARQUET\n",
    "from src.artifacts import load_df, load_obj"
   ]
  },
  {
   "cell_type": "code",
   "execution_count": 45,
   "id": "7ded08ec",
   "metadata": {},
   "outputs": [],
   "source": [
    "import src.feature_selection\n",
    "importlib.reload(src.feature_selection)\n",
    "from src.feature_selection import (\n",
    "    prepare_from_df,chi2_table, anova_table, print_scorecard\n",
    ")\n"
   ]
  },
  {
   "cell_type": "code",
   "execution_count": 46,
   "id": "f5c1cf48",
   "metadata": {},
   "outputs": [],
   "source": [
    "df = load_df(CLEAN_PARQUET)"
   ]
  },
  {
   "cell_type": "code",
   "execution_count": 47,
   "id": "f759a89e",
   "metadata": {},
   "outputs": [],
   "source": [
    "X, X_scaled, y = prepare_from_df(df, target=\"Loan_Status_Y\")\n"
   ]
  },
  {
   "cell_type": "code",
   "execution_count": 48,
   "id": "811058c7",
   "metadata": {},
   "outputs": [],
   "source": [
    "chi2_df = chi2_table(X_scaled, y, X.columns)\n",
    "anova_df = anova_table(X, y, X.columns)\n"
   ]
  },
  {
   "cell_type": "code",
   "execution_count": 49,
   "id": "8748ee53",
   "metadata": {},
   "outputs": [
    {
     "name": "stdout",
     "output_type": "stream",
     "text": [
      "\n",
      "🔹 ANOVA Feature Scorecard (Top 5) 🔹\n",
      "\n",
      "Credit_History            | Score=   252.652 | P=7.0e-48 | ✔️ Strong\n",
      "Property_Area_Semiurban   | Score=    11.626 | P=6.9e-04 | ✔️ Strong\n",
      "Married_Yes               | Score=     5.165 | P=2.3e-02 | ✔️ Strong\n",
      "Education_Not Graduate    | Score=     4.548 | P=3.3e-02 | ✔️ Strong\n",
      "CoapplicantIncome         | Score=     2.151 | P=1.4e-01 | ⚠️ Weak\n",
      "\n",
      "🔹 Chi2 Feature Scorecard (Top 5) 🔹\n",
      "\n",
      "Credit_History            | Score=    26.006 | P=3.4e-07 | ✔️ Strong\n",
      "Property_Area_Semiurban   | Score=     7.103 | P=7.7e-03 | ✔️ Strong\n",
      "Education_Not Graduate    | Score=     3.541 | P=6.0e-02 | ⚠️ Weak\n",
      "Married_Yes               | Score=     1.782 | P=1.8e-01 | ⚠️ Weak\n",
      "Property_Area_Urban       | Score=     0.784 | P=3.8e-01 | ⚠️ Weak\n"
     ]
    }
   ],
   "source": [
    "print_scorecard(anova_df, top_n=5, method=\"ANOVA\")\n",
    "print_scorecard(chi2_df, top_n=5, method=\"Chi2\")"
   ]
  }
 ],
 "metadata": {
  "kernelspec": {
   "display_name": "aiml",
   "language": "python",
   "name": "python3"
  },
  "language_info": {
   "codemirror_mode": {
    "name": "ipython",
    "version": 3
   },
   "file_extension": ".py",
   "mimetype": "text/x-python",
   "name": "python",
   "nbconvert_exporter": "python",
   "pygments_lexer": "ipython3",
   "version": "3.10.18"
  }
 },
 "nbformat": 4,
 "nbformat_minor": 5
}
