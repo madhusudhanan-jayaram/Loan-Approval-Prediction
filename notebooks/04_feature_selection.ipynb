{
 "cells": [
  {
   "cell_type": "code",
   "execution_count": 137,
   "id": "77f41cb2",
   "metadata": {},
   "outputs": [],
   "source": [
    "import sys, os\n",
    "import importlib\n",
    "import pandas as pd\n",
    "from sklearn.feature_selection import SelectKBest, chi2\n",
    "from sklearn.preprocessing import MinMaxScaler\n"
   ]
  },
  {
   "cell_type": "code",
   "execution_count": 138,
   "id": "12dfb0d4",
   "metadata": {},
   "outputs": [],
   "source": [
    "sys.path.append(os.path.abspath(\"..\"))"
   ]
  },
  {
   "cell_type": "code",
   "execution_count": 139,
   "id": "3f0fc892",
   "metadata": {},
   "outputs": [],
   "source": [
    "from src.config import  CLEAN_PARQUET, X_TRAIN_PARQUET, X_TEST_PARQUET, Y_TRAIN_PARQUET, Y_TEST_PARQUET\n",
    "from src.artifacts import load_df, load_obj"
   ]
  },
  {
   "cell_type": "code",
   "execution_count": null,
   "id": "7ded08ec",
   "metadata": {},
   "outputs": [],
   "source": [
    "import src.feature_selection\n",
    "importlib.reload(src.feature_selection)\n",
    "from src.feature_selection import (\n",
    "    selectkbest,prepare_from_df\n",
    ")\n"
   ]
  },
  {
   "cell_type": "code",
   "execution_count": 141,
   "id": "f5c1cf48",
   "metadata": {},
   "outputs": [],
   "source": [
    "df = load_df(CLEAN_PARQUET)"
   ]
  },
  {
   "cell_type": "code",
   "execution_count": 142,
   "id": "c4688394",
   "metadata": {},
   "outputs": [
    {
     "name": "stdout",
     "output_type": "stream",
     "text": [
      "After dummies: (614, 13)\n",
      "New columns: ['Dependents', 'ApplicantIncome', 'CoapplicantIncome', 'LoanAmount', 'Loan_Amount_Term', 'Credit_History', 'Gender_Male', 'Married_Yes', 'Education_Not Graduate', 'Self_Employed_Yes', 'Property_Area_Semiurban', 'Property_Area_Urban', 'Loan_Status_Y']\n"
     ]
    }
   ],
   "source": [
    "print(\"After dummies:\", df.shape)\n",
    "print(\"New columns:\", df.columns.tolist())"
   ]
  },
  {
   "cell_type": "code",
   "execution_count": 143,
   "id": "de3c73bf",
   "metadata": {},
   "outputs": [],
   "source": [
    "indep_X = df.drop('Loan_Status_Y', axis=1)\n",
    "dep_Y = df['Loan_Status_Y']"
   ]
  },
  {
   "cell_type": "code",
   "execution_count": 144,
   "id": "8f38fb9d",
   "metadata": {},
   "outputs": [
    {
     "name": "stdout",
     "output_type": "stream",
     "text": [
      "                   Feature     Method       Score             P\n",
      "0           Credit_History  f_classif  252.652090  7.019682e-48\n",
      "1  Property_Area_Semiurban       chi2    7.103093  7.695104e-03\n",
      "2   Education_Not Graduate       chi2    3.540502  5.988732e-02\n",
      "3        CoapplicantIncome  f_classif    2.151457  1.429483e-01\n",
      "4              Married_Yes       chi2    1.782425  1.818518e-01\n"
     ]
    }
   ],
   "source": [
    "X_new, selected_cols, full_table = selectkbest(indep_X, dep_Y, k=5)\n"
   ]
  },
  {
   "cell_type": "code",
   "execution_count": null,
   "id": "1445f42b",
   "metadata": {},
   "outputs": [],
   "source": []
  }
 ],
 "metadata": {
  "kernelspec": {
   "display_name": "aiml",
   "language": "python",
   "name": "python3"
  },
  "language_info": {
   "codemirror_mode": {
    "name": "ipython",
    "version": 3
   },
   "file_extension": ".py",
   "mimetype": "text/x-python",
   "name": "python",
   "nbconvert_exporter": "python",
   "pygments_lexer": "ipython3",
   "version": "3.10.18"
  }
 },
 "nbformat": 4,
 "nbformat_minor": 5
}
